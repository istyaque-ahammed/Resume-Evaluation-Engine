{
  "nbformat": 4,
  "nbformat_minor": 0,
  "metadata": {
    "colab": {
      "name": "Neural_Network_CodeDay_Resume_Screening.ipynb",
      "provenance": [],
      "collapsed_sections": []
    },
    "kernelspec": {
      "name": "python3",
      "display_name": "Python 3"
    }
  },
  "cells": [
    {
      "cell_type": "code",
      "metadata": {
        "id": "poiUReSDo1r6",
        "colab_type": "code",
        "colab": {
          "base_uri": "https://localhost:8080/",
          "height": 102
        },
        "outputId": "4e65bd3c-2467-4fe6-e2c0-860a2df22591"
      },
      "source": [
        "### This is the Google Colab notebook the neural network was developed in\n",
        "\n",
        "# Install nltk\n",
        "!pip install --user -U nltk"
      ],
      "execution_count": 42,
      "outputs": [
        {
          "output_type": "stream",
          "text": [
            "Requirement already up-to-date: nltk in /root/.local/lib/python3.6/site-packages (3.5)\n",
            "Requirement already satisfied, skipping upgrade: joblib in /usr/local/lib/python3.6/dist-packages (from nltk) (0.16.0)\n",
            "Requirement already satisfied, skipping upgrade: click in /usr/local/lib/python3.6/dist-packages (from nltk) (7.1.2)\n",
            "Requirement already satisfied, skipping upgrade: tqdm in /usr/local/lib/python3.6/dist-packages (from nltk) (4.41.1)\n",
            "Requirement already satisfied, skipping upgrade: regex in /usr/local/lib/python3.6/dist-packages (from nltk) (2019.12.20)\n"
          ],
          "name": "stdout"
        }
      ]
    },
    {
      "cell_type": "code",
      "metadata": {
        "id": "vOUgXHY6pAIh",
        "colab_type": "code",
        "colab": {
          "base_uri": "https://localhost:8080/",
          "height": 102
        },
        "outputId": "1e7a975e-239c-42c8-c120-503c5152fa44"
      },
      "source": [
        "# Import all libraries\n",
        "import matplotlib.pyplot as plt\n",
        "import nltk\n",
        "from nltk.corpus import stopwords\n",
        "from nltk.tokenize import word_tokenize\n",
        "import numpy as np\n",
        "import pandas as pd\n",
        "import pickle\n",
        "import re\n",
        "import seaborn as sns\n",
        "from sklearn import metrics\n",
        "from sklearn.metrics import accuracy_score\n",
        "from sklearn.utils import shuffle\n",
        "import string\n",
        "import tensorflow as tf\n",
        "from tensorflow.keras.preprocessing.sequence import pad_sequences\n",
        "from tensorflow.keras.preprocessing.text import Tokenizer\n",
        "import warnings\n",
        "\n",
        "warnings.filterwarnings('ignore')\n",
        "np.set_printoptions(precision=4)\n",
        "\n",
        "nltk.download('stopwords')\n",
        "nltk.download('punkt')"
      ],
      "execution_count": 43,
      "outputs": [
        {
          "output_type": "stream",
          "text": [
            "[nltk_data] Downloading package stopwords to /root/nltk_data...\n",
            "[nltk_data]   Package stopwords is already up-to-date!\n",
            "[nltk_data] Downloading package punkt to /root/nltk_data...\n",
            "[nltk_data]   Package punkt is already up-to-date!\n"
          ],
          "name": "stdout"
        },
        {
          "output_type": "execute_result",
          "data": {
            "text/plain": [
              "True"
            ]
          },
          "metadata": {
            "tags": []
          },
          "execution_count": 43
        }
      ]
    },
    {
      "cell_type": "code",
      "metadata": {
        "id": "raKtqeIDpBf0",
        "colab_type": "code",
        "colab": {
          "base_uri": "https://localhost:8080/",
          "height": 204
        },
        "outputId": "4ad883d1-8bc5-46f2-9ed1-f1308de157f3"
      },
      "source": [
        "# Load dataset\n",
        "data = pd.read_csv('/content/UpdatedResumeDataSet.csv', engine='python')\n",
        "#data = pd.read_csv('/content/drive/My Drive/CodeDay/UpdatedResumeDataSet.csv') # Comment this line and uncomment the above line if this does not work for you\n",
        "data.head()"
      ],
      "execution_count": 44,
      "outputs": [
        {
          "output_type": "execute_result",
          "data": {
            "text/html": [
              "<div>\n",
              "<style scoped>\n",
              "    .dataframe tbody tr th:only-of-type {\n",
              "        vertical-align: middle;\n",
              "    }\n",
              "\n",
              "    .dataframe tbody tr th {\n",
              "        vertical-align: top;\n",
              "    }\n",
              "\n",
              "    .dataframe thead th {\n",
              "        text-align: right;\n",
              "    }\n",
              "</style>\n",
              "<table border=\"1\" class=\"dataframe\">\n",
              "  <thead>\n",
              "    <tr style=\"text-align: right;\">\n",
              "      <th></th>\n",
              "      <th>Category</th>\n",
              "      <th>Resume</th>\n",
              "    </tr>\n",
              "  </thead>\n",
              "  <tbody>\n",
              "    <tr>\n",
              "      <th>0</th>\n",
              "      <td>Data Science</td>\n",
              "      <td>Skills * Programming Languages: Python (pandas...</td>\n",
              "    </tr>\n",
              "    <tr>\n",
              "      <th>1</th>\n",
              "      <td>Data Science</td>\n",
              "      <td>Education Details \\r\\nMay 2013 to May 2017 B.E...</td>\n",
              "    </tr>\n",
              "    <tr>\n",
              "      <th>2</th>\n",
              "      <td>Data Science</td>\n",
              "      <td>Areas of Interest Deep Learning, Control Syste...</td>\n",
              "    </tr>\n",
              "    <tr>\n",
              "      <th>3</th>\n",
              "      <td>Data Science</td>\n",
              "      <td>Skills â¢ R â¢ Python â¢ SAP HANA â¢ Table...</td>\n",
              "    </tr>\n",
              "    <tr>\n",
              "      <th>4</th>\n",
              "      <td>Data Science</td>\n",
              "      <td>Education Details \\r\\n MCA   YMCAUST,  Faridab...</td>\n",
              "    </tr>\n",
              "  </tbody>\n",
              "</table>\n",
              "</div>"
            ],
            "text/plain": [
              "       Category                                             Resume\n",
              "0  Data Science  Skills * Programming Languages: Python (pandas...\n",
              "1  Data Science  Education Details \\r\\nMay 2013 to May 2017 B.E...\n",
              "2  Data Science  Areas of Interest Deep Learning, Control Syste...\n",
              "3  Data Science  Skills â¢ R â¢ Python â¢ SAP HANA â¢ Table...\n",
              "4  Data Science  Education Details \\r\\n MCA   YMCAUST,  Faridab..."
            ]
          },
          "metadata": {
            "tags": []
          },
          "execution_count": 44
        }
      ]
    },
    {
      "cell_type": "code",
      "metadata": {
        "id": "lQWr0RJRpIQ9",
        "colab_type": "code",
        "colab": {
          "base_uri": "https://localhost:8080/",
          "height": 459
        },
        "outputId": "489391e8-47b2-410c-cc28-325a6236c6c6"
      },
      "source": [
        "# Print unique categories of resumes\n",
        "print(data['Category'].value_counts())"
      ],
      "execution_count": 45,
      "outputs": [
        {
          "output_type": "stream",
          "text": [
            "Java Developer               84\n",
            "Testing                      70\n",
            "DevOps Engineer              55\n",
            "Python Developer             48\n",
            "Web Designing                45\n",
            "HR                           44\n",
            "Hadoop                       42\n",
            "Sales                        40\n",
            "Blockchain                   40\n",
            "Mechanical Engineer          40\n",
            "Data Science                 40\n",
            "ETL Developer                40\n",
            "Operations Manager           40\n",
            "Arts                         36\n",
            "Database                     33\n",
            "Electrical Engineering       30\n",
            "Health and fitness           30\n",
            "PMO                          30\n",
            "DotNet Developer             28\n",
            "Business Analyst             28\n",
            "Automation Testing           26\n",
            "Network Security Engineer    25\n",
            "SAP Developer                24\n",
            "Civil Engineer               24\n",
            "Advocate                     20\n",
            "Name: Category, dtype: int64\n"
          ],
          "name": "stdout"
        }
      ]
    },
    {
      "cell_type": "code",
      "metadata": {
        "id": "4ml2WddhpNEl",
        "colab_type": "code",
        "colab": {}
      },
      "source": [
        "# Drop rows where category is \"Testing\" and store new size of dataset\n",
        "data = data[data.Category != 'Testing']\n",
        "data_size = len(data)"
      ],
      "execution_count": 46,
      "outputs": []
    },
    {
      "cell_type": "code",
      "metadata": {
        "id": "MgLthsGHpN_6",
        "colab_type": "code",
        "colab": {
          "base_uri": "https://localhost:8080/",
          "height": 897
        },
        "outputId": "91d68162-b790-426d-d14b-5bb1b7ac02e4"
      },
      "source": [
        "# Bar graph visualization\n",
        "plt.figure(figsize=(15,15))\n",
        "plt.xticks(rotation=90)\n",
        "sns.countplot(y=\"Category\", data=data)"
      ],
      "execution_count": 47,
      "outputs": [
        {
          "output_type": "execute_result",
          "data": {
            "text/plain": [
              "<matplotlib.axes._subplots.AxesSubplot at 0x7f0f82d308d0>"
            ]
          },
          "metadata": {
            "tags": []
          },
          "execution_count": 47
        },
        {
          "output_type": "display_data",
          "data": {
            "image/png": "[encoded data removed]",
            "text/plain": [
              "<Figure size 1080x1080 with 1 Axes>"
            ]
          },
          "metadata": {
            "tags": [],
            "needs_background": "light"
          }
        }
      ]
    },
    {
      "cell_type": "code",
      "metadata": {
        "id": "xHxRTJ_QpS_o",
        "colab_type": "code",
        "colab": {}
      },
      "source": [
        "# Get set of stopwords\n",
        "stopwords_set = set(stopwords.words('english')+['``',\"''\"])"
      ],
      "execution_count": 48,
      "outputs": []
    },
    {
      "cell_type": "code",
      "metadata": {
        "id": "81wWgOKYpU1-",
        "colab_type": "code",
        "colab": {}
      },
      "source": [
        "# Function to clean resume text\n",
        "def clean_text(resume_text):\n",
        "    resume_text = re.sub('http\\S+\\s*', ' ', resume_text)  # remove URLs\n",
        "    resume_text = re.sub('RT|cc', ' ', resume_text)  # remove RT and cc\n",
        "    resume_text = re.sub('#\\S+', '', resume_text)  # remove hashtags\n",
        "    resume_text = re.sub('@\\S+', '  ', resume_text)  # remove mentions\n",
        "    resume_text = re.sub('[%s]' % re.escape(\"\"\"!\"#$%&'()*+,-./:;<=>?@[\\]^_`{|}~\"\"\"), ' ', resume_text)  # remove punctuations\n",
        "    resume_text = re.sub(r'[^\\x00-\\x7f]',r' ', resume_text) \n",
        "    resume_text = re.sub('\\s+', ' ', resume_text)  # remove extra whitespace\n",
        "    resume_text = resume_text.lower()  # convert to lowercase\n",
        "    resume_text_tokens = word_tokenize(resume_text)  # tokenize\n",
        "    filtered_text = [w for w in resume_text_tokens if not w in stopwords_set]  # remove stopwords\n",
        "    return ' '.join(filtered_text)"
      ],
      "execution_count": 49,
      "outputs": []
    },
    {
      "cell_type": "code",
      "metadata": {
        "id": "IKol74xcpWfR",
        "colab_type": "code",
        "colab": {
          "base_uri": "https://localhost:8080/",
          "height": 751
        },
        "outputId": "5a93b1b2-ce70-4deb-934f-ab8072a09169"
      },
      "source": [
        "# Print a sample original resume\n",
        "print('--- Original resume ---')\n",
        "print(data['Resume'][0])"
      ],
      "execution_count": 50,
      "outputs": [
        {
          "output_type": "stream",
          "text": [
            "--- Original resume ---\n",
            "Skills * Programming Languages: Python (pandas, numpy, scipy, scikit-learn, matplotlib), Sql, Java, JavaScript/JQuery. * Machine learning: Regression, SVM, NaÃ¯ve Bayes, KNN, Random Forest, Decision Trees, Boosting techniques, Cluster Analysis, Word Embedding, Sentiment Analysis, Natural Language processing, Dimensionality reduction, Topic Modelling (LDA, NMF), PCA & Neural Nets. * Database Visualizations: Mysql, SqlServer, Cassandra, Hbase, ElasticSearch D3.js, DC.js, Plotly, kibana, matplotlib, ggplot, Tableau. * Others: Regular Expression, HTML, CSS, Angular 6, Logstash, Kafka, Python Flask, Git, Docker, computer vision - Open CV and understanding of Deep learning.Education Details \r\n",
            "\r\n",
            "Data Science Assurance Associate \r\n",
            "\r\n",
            "Data Science Assurance Associate - Ernst & Young LLP\r\n",
            "Skill Details \r\n",
            "JAVASCRIPT- Exprience - 24 months\r\n",
            "jQuery- Exprience - 24 months\r\n",
            "Python- Exprience - 24 monthsCompany Details \r\n",
            "company - Ernst & Young LLP\r\n",
            "description - Fraud Investigations and Dispute Services   Assurance\r\n",
            "TECHNOLOGY ASSISTED REVIEW\r\n",
            "TAR (Technology Assisted Review) assists in accelerating the review process and run analytics and generate reports.\r\n",
            "* Core member of a team helped in developing automated review platform tool from scratch for assisting E discovery domain, this tool implements predictive coding and topic modelling by automating reviews, resulting in reduced labor costs and time spent during the lawyers review.\r\n",
            "* Understand the end to end flow of the solution, doing research and development for classification models, predictive analysis and mining of the information present in text data. Worked on analyzing the outputs and precision monitoring for the entire tool.\r\n",
            "* TAR assists in predictive coding, topic modelling from the evidence by following EY standards. Developed the classifier models in order to identify \"red flags\" and fraud-related issues.\r\n",
            "\r\n",
            "Tools & Technologies: Python, scikit-learn, tfidf, word2vec, doc2vec, cosine similarity, NaÃ¯ve Bayes, LDA, NMF for topic modelling, Vader and text blob for sentiment analysis. Matplot lib, Tableau dashboard for reporting.\r\n",
            "\r\n",
            "MULTIPLE DATA SCIENCE AND ANALYTIC PROJECTS (USA CLIENTS)\r\n",
            "TEXT ANALYTICS - MOTOR VEHICLE CUSTOMER REVIEW DATA * Received customer feedback survey data for past one year. Performed sentiment (Positive, Negative & Neutral) and time series analysis on customer comments across all 4 categories.\r\n",
            "* Created heat map of terms by survey category based on frequency of words * Extracted Positive and Negative words across all the Survey categories and plotted Word cloud.\r\n",
            "* Created customized tableau dashboards for effective reporting and visualizations.\r\n",
            "CHATBOT * Developed a user friendly chatbot for one of our Products which handle simple questions about hours of operation, reservation options and so on.\r\n",
            "* This chat bot serves entire product related questions. Giving overview of tool via QA platform and also give recommendation responses so that user question to build chain of relevant answer.\r\n",
            "* This too has intelligence to build the pipeline of questions as per user requirement and asks the relevant /recommended questions.\r\n",
            "\r\n",
            "Tools & Technologies: Python, Natural language processing, NLTK, spacy, topic modelling, Sentiment analysis, Word Embedding, scikit-learn, JavaScript/JQuery, SqlServer\r\n",
            "\r\n",
            "INFORMATION GOVERNANCE\r\n",
            "Organizations to make informed decisions about all of the information they store. The integrated Information Governance portfolio synthesizes intelligence across unstructured data sources and facilitates action to ensure organizations are best positioned to counter information risk.\r\n",
            "* Scan data from multiple sources of formats and parse different file formats, extract Meta data information, push results for indexing elastic search and created customized, interactive dashboards using kibana.\r\n",
            "* Preforming ROT Analysis on the data which give information of data which helps identify content that is either Redundant, Outdated, or Trivial.\r\n",
            "* Preforming full-text search analysis on elastic search with predefined methods which can tag as (PII) personally identifiable information (social security numbers, addresses, names, etc.) which frequently targeted during cyber-attacks.\r\n",
            "Tools & Technologies: Python, Flask, Elastic Search, Kibana\r\n",
            "\r\n",
            "FRAUD ANALYTIC PLATFORM\r\n",
            "Fraud Analytics and investigative platform to review all red flag cases.\r\n",
            "â¢ FAP is a Fraud Analytics and investigative platform with inbuilt case manager and suite of Analytics for various ERP systems.\r\n",
            "* It can be used by clients to interrogate their Accounting systems for identifying the anomalies which can be indicators of fraud by running advanced analytics\r\n",
            "Tools & Technologies: HTML, JavaScript, SqlServer, JQuery, CSS, Bootstrap, Node.js, D3.js, DC.js\n"
          ],
          "name": "stdout"
        }
      ]
    },
    {
      "cell_type": "code",
      "metadata": {
        "id": "ixmhpVkfpYH8",
        "colab_type": "code",
        "colab": {
          "base_uri": "https://localhost:8080/",
          "height": 71
        },
        "outputId": "7ea329d8-b448-4d67-e0e1-2495cb6f3bfe"
      },
      "source": [
        "# Print the same resume after text cleaning\n",
        "data['cleaned_resume'] = data.Resume.apply(lambda x: clean_text(x))\n",
        "\n",
        "print('--- Cleaned resume ---')\n",
        "print(data['cleaned_resume'][0])"
      ],
      "execution_count": 51,
      "outputs": [
        {
          "output_type": "stream",
          "text": [
            "--- Cleaned resume ---\n",
            "skills programming languages python pandas numpy scipy scikit learn matplotlib sql java javascript jquery machine learning regression svm na bayes knn random forest decision trees boosting techniques cluster analysis word embedding sentiment analysis natural language processing dimensionality reduction topic modelling lda nmf pca neural nets database visualizations mysql sqlserver cassandra hbase elasticsearch d3 js dc js plotly kibana matplotlib ggplot tableau others regular expression html css angular 6 logstash kafka python flask git docker computer vision open cv understanding deep learning education details data science assurance associate data science assurance associate ernst young llp skill details javascript exprience 24 months jquery exprience 24 months python exprience 24 monthscompany details company ernst young llp description fraud investigations dispute services assurance technology assisted review tar technology assisted review assists elerating review process run analytics generate reports core member team helped developing automated review platform tool scratch assisting e discovery domain tool implements predictive coding topic modelling automating reviews resulting reduced labor costs time spent lawyers review understand end end flow solution research development classification models predictive analysis mining information present text data worked analyzing outputs precision monitoring entire tool tar assists predictive coding topic modelling evidence following ey standards developed classifier models order identify red flags fraud related issues tools technologies python scikit learn tfidf word2vec doc2vec cosine similarity na bayes lda nmf topic modelling vader text blob sentiment analysis matplot lib tableau dashboard reporting multiple data science analytic projects usa clients text analytics motor vehicle customer review data received customer feedback survey data past one year performed sentiment positive negative neutral time series analysis customer comments across 4 categories created heat map terms survey category based frequency words extracted positive negative words across survey categories plotted word cloud created customized tableau dashboards effective reporting visualizations chatbot developed user friendly chatbot one products handle simple questions hours operation reservation options chat bot serves entire product related questions giving overview tool via qa platform also give recommendation responses user question build chain relevant answer intelligence build pipeline questions per user requirement asks relevant recommended questions tools technologies python natural language processing nltk spacy topic modelling sentiment analysis word embedding scikit learn javascript jquery sqlserver information governance organizations make informed decisions information store integrated information governance portfolio synthesizes intelligence across unstructured data sources facilitates action ensure organizations best positioned counter information risk scan data multiple sources formats parse different file formats extract meta data information push results indexing elastic search created customized interactive dashboards using kibana preforming rot analysis data give information data helps identify content either redundant outdated trivial preforming full text search analysis elastic search predefined methods tag pii personally identifiable information social security numbers addresses names etc frequently targeted cyber attacks tools technologies python flask elastic search kibana fraud analytic platform fraud analytics investigative platform review red flag cases fap fraud analytics investigative platform inbuilt case manager suite analytics various erp systems used clients interrogate ounting systems identifying anomalies indicators fraud running advanced analytics tools technologies html javascript sqlserver jquery css bootstrap node js d3 js dc js\n"
          ],
          "name": "stdout"
        }
      ]
    },
    {
      "cell_type": "code",
      "metadata": {
        "id": "OcxDvdYoparS",
        "colab_type": "code",
        "colab": {
          "base_uri": "https://localhost:8080/",
          "height": 71
        },
        "outputId": "9594bf10-d52c-42b4-d28b-2d569c1795cf"
      },
      "source": [
        "# Get features and labels from data and shuffle\n",
        "features = data['cleaned_resume'].values\n",
        "original_labels = data['Category'].values\n",
        "labels = original_labels[:]\n",
        "\n",
        "for i in range(data_size):\n",
        "  labels[i] = str(labels[i].lower())  # convert to lowercase\n",
        "  labels[i] = labels[i].replace(\" \", \"\")  # use hyphens to convert multi-token labels into single tokens\n",
        "\n",
        "features, labels = shuffle(features, labels)\n",
        "\n",
        "# Print example feature and label\n",
        "print(features[0])\n",
        "print(labels[0])"
      ],
      "execution_count": 52,
      "outputs": [
        {
          "output_type": "stream",
          "text": [
            "technical skills skills java sql pl sql c c bootstrap jsp ext js operating systems windows tools toad eclipse soapbox postman databases oracle ms sql ms ess ms exceleducation details january 2017 b e computer technology gondia maharashtra manoharbhai patel institute engineering technology hsc gondia maharashtra p science college java developer java developer xoriant solutions pvt ltd skill details company details company xoriant solutions pvt ltd description pune period sept 2017 till date role java developer description resrent team responsible development various modules hertz responsible development screens portfolios look act primary control function developing webservices ensure hit xml json build various modules inbuilt hertz provide interfaces end users tasks tools eclipse toad soapbox postman responsibilities develop module backend middleware frontend bugs fixing proactive developing enhancements resolve application incidents within defined ucs creating different task ticket well debug provide solution workflow resolving db issues providing technical support bas keeping track deployments effect ongoing jobs contribution towards automation daily activities process based organization time within budget delivery meeting customers quality expectations maintain knowledge base domain known defects issues processes development techniques company xoriant solutions pvt ltd description strong communication collaboration team building skills proficiency grasping new technical concepts quickly utilize productive manner experience development web application resolve project related issues minimal time able communicate effectively multifunctional teams programmers technical staff levels good knowledge java sql ext js jsp xml web services good interpersonal analytical skills proven abilities resolving complex software issue\n",
            "javadeveloper\n"
          ],
          "name": "stdout"
        }
      ]
    },
    {
      "cell_type": "code",
      "metadata": {
        "id": "ymbM9wkVpe7l",
        "colab_type": "code",
        "colab": {
          "base_uri": "https://localhost:8080/",
          "height": 51
        },
        "outputId": "7af7d2dd-f271-47ae-a2cc-a19c891f4572"
      },
      "source": [
        "# Split for train and test\n",
        "train_split = 0.8\n",
        "train_size = int(train_split * data_size)\n",
        "\n",
        "train_features = features[:train_size]\n",
        "train_labels = labels[:train_size]\n",
        "\n",
        "test_features = features[train_size:]\n",
        "test_labels = labels[train_size:]\n",
        "\n",
        "# Print size of each split\n",
        "print(len(train_labels))\n",
        "print(len(test_labels))"
      ],
      "execution_count": 53,
      "outputs": [
        {
          "output_type": "stream",
          "text": [
            "713\n",
            "179\n"
          ],
          "name": "stdout"
        }
      ]
    },
    {
      "cell_type": "code",
      "metadata": {
        "id": "siMQvlJapkmZ",
        "colab_type": "code",
        "colab": {
          "base_uri": "https://localhost:8080/",
          "height": 88
        },
        "outputId": "a0c396a3-1624-46e4-d83d-1cbb361222c8"
      },
      "source": [
        "# Tokenize feature data and print word dictionary\n",
        "vocab_size = 6000\n",
        "oov_tok = '<OOV>'\n",
        "\n",
        "feature_tokenizer = Tokenizer(num_words=vocab_size, oov_token=oov_tok)\n",
        "feature_tokenizer.fit_on_texts(features)\n",
        "\n",
        "feature_index = feature_tokenizer.word_index\n",
        "print(dict(list(feature_index.items())))\n",
        "\n",
        "# Print example sequences from train and test datasets\n",
        "train_feature_sequences = feature_tokenizer.texts_to_sequences(train_features)\n",
        "print(train_feature_sequences[0])\n",
        "\n",
        "test_feature_sequences = feature_tokenizer.texts_to_sequences(test_features)\n",
        "print(test_feature_sequences[0])"
      ],
      "execution_count": 54,
      "outputs": [
        {
          "output_type": "stream",
          "text": [
            "{'<OOV>': 1, 'exprience': 2, 'company': 3, 'project': 4, 'months': 5, 'description': 6, 'details': 7, 'data': 8, '1': 9, 'management': 10, 'team': 11, 'year': 12, '6': 13, 'system': 14, 'maharashtra': 15, 'database': 16, 'development': 17, 'business': 18, 'less': 19, 'sql': 20, 'ltd': 21, 'using': 22, 'developer': 23, 'client': 24, 'java': 25, 'skill': 26, 'testing': 27, 'application': 28, 'pune': 29, 'engineering': 30, 'january': 31, 'services': 32, 'work': 33, 'skills': 34, 'c': 35, 'test': 36, 'software': 37, 'sales': 38, 'responsibilities': 39, 'pvt': 40, 'operations': 41, 'requirements': 42, 'reports': 43, 'education': 44, 'server': 45, 'technical': 46, 'process': 47, 'india': 48, 'customer': 49, 'various': 50, 'design': 51, 'technologies': 52, 'university': 53, 'working': 54, 'python': 55, 'monthscompany': 56, '2': 57, 'environment': 58, 'web': 59, 'like': 60, 'college': 61, 'automation': 62, 'support': 63, 'mysql': 64, 'worked': 65, 'role': 66, 'technology': 67, 'activities': 68, 'time': 69, 'e': 70, 'based': 71, 'used': 72, 'manager': 73, 'training': 74, 'projects': 75, 'issues': 76, 'knowledge': 77, 'mumbai': 78, '4': 79, '3': 80, 'new': 81, 'information': 82, 'different': 83, 'experience': 84, 'engineer': 85, 'computer': 86, 'etc': 87, 'managing': 88, 'per': 89, 'systems': 90, 'network': 91, 'b': 92, 'oracle': 93, 'requirement': 94, 'quality': 95, 'handling': 96, 'end': 97, 'monitoring': 98, 'performance': 99, 'job': 100, 'science': 101, 'windows': 102, 'user': 103, 'involved': 104, 'hadoop': 105, 'users': 106, 'ensure': 107, 'tools': 108, 'analysis': 109, 'maintenance': 110, 'ms': 111, 'maintaining': 112, 'developing': 113, 'completed': 114, 'report': 115, 'service': 116, 'developed': 117, 'servers': 118, '5': 119, 'related': 120, 'sap': 121, 'html': 122, 'customers': 123, 'control': 124, 'security': 125, 'responsible': 126, 'ensuring': 127, 'required': 128, 'javascript': 129, 'jquery': 130, 'creating': 131, '2017': 132, 'linux': 133, 'provide': 134, 'shell': 135, 'etl': 136, '2016': 137, 'clients': 138, 'school': 139, 'office': 140, 'key': 141, 'solutions': 142, 'processes': 143, 'production': 144, 'documentation': 145, 'also': 146, 'net': 147, 'build': 148, 'reporting': 149, 'electrical': 150, 'hive': 151, 'good': 152, 'internal': 153, 'roles': 154, 'level': 155, 'applications': 156, 'product': 157, 'queries': 158, 'learning': 159, 'power': 160, 'configuration': 161, 'scripts': 162, 'operating': 163, 'high': 164, 'machine': 165, '24': 166, 'maintain': 167, 'delivery': 168, '7': 169, 'review': 170, 'communication': 171, 'meetings': 172, 'platform': 173, 'providing': 174, 'daily': 175, 'scripting': 176, 'website': 177, 'document': 178, 'manage': 179, 'bank': 180, 'members': 181, 'su': 182, '2008': 183, 'created': 184, 'documents': 185, 'planning': 186, 'well': 187, '2015': 188, 'plan': 189, 'solution': 190, '10': 191, 'functional': 192, 'timely': 193, 'global': 194, 'understanding': 195, 'designed': 196, 'develop': 197, 'css': 198, 'products': 199, 'multiple': 200, 'administration': 201, 'preparing': 202, 'international': 203, 'june': 204, 'site': 205, 'limited': 206, 'order': 207, 'co': 208, '2012': 209, 'responsibility': 210, 'billing': 211, 'board': 212, 'informatica': 213, 'programming': 214, 'state': 215, 'name': 216, 'databases': 217, 'lead': 218, 'health': 219, '2014': 220, 'unit': 221, 'cases': 222, 'ajax': 223, 'activity': 224, 'languages': 225, 'tool': 226, 'senior': 227, 'framework': 228, 'vendor': 229, 'integration': 230, 'implementation': 231, 'diploma': 232, 'nagpur': 233, 'jobs': 234, 'monitor': 235, 'preparation': 236, 'bootstrap': 237, 'institute': 238, 'marketing': 239, 'create': 240, 'fitness': 241, 'weekly': 242, 'one': 243, 'cisco': 244, 'unix': 245, 'implemented': 246, 'bachelor': 247, 'performed': 248, 'program': 249, 'inventory': 250, 'may': 251, 'mechanical': 252, 'microsoft': 253, 'writing': 254, 'deployment': 255, 'within': 256, 'backup': 257, '2018': 258, 'blockchain': 259, 'including': 260, '12': 261, 'cloud': 262, 'devops': 263, 'identify': 264, 'sla': 265, 'commerce': 266, 'creation': 267, 'across': 268, 'script': 269, 'core': 270, 'monthly': 271, 'analytics': 272, 'risk': 273, 'analyzing': 274, '8': 275, 'payment': 276, 'vendors': 277, 'ess': 278, 'ability': 279, 'online': 280, 'teams': 281, 'size': 282, 'change': 283, 'schedule': 284, 'code': 285, 'complete': 286, 'track': 287, 'day': 288, 'qa': 289, 'tasks': 290, '9': 291, 'understand': 292, 'made': 293, '2010': 294, 'type': 295, 'installation': 296, 'basis': 297, 'plans': 298, 'trust': 299, 'date': 300, 'designing': 301, 'tech': 302, 'honeywell': 303, 'make': 304, 'insurance': 305, 'employee': 306, 'essfully': 307, 'troubleshooting': 308, 'staff': 309, 'procedures': 310, 'studio': 311, 'progress': 312, 'group': 313, 'existing': 314, 'files': 315, 'excel': 316, 'source': 317, 'hana': 318, 'fat': 319, 'resource': 320, 'spring': 321, 'perform': 322, 'monitored': 323, 'scope': 324, 'title': 325, 'sqoop': 326, 'building': 327, 'pre': 328, 'banking': 329, 'civil': 330, 'ges': 331, 'schedules': 332, 'manual': 333, 'personal': 334, 'provided': 335, 'plc': 336, 'financial': 337, 'proposal': 338, 'effective': 339, 'operational': 340, 'purchase': 341, 'tables': 342, 'center': 343, '2013': 344, 'years': 345, 'distribution': 346, 'changes': 347, 'execution': 348, 'asp': 349, 'hdfs': 350, 'mvc': 351, 'till': 352, 'status': 353, 'basic': 354, 'standard': 355, 'entire': 356, 'hr': 357, 'flow': 358, 'tracking': 359, 'part': 360, 'stakeholders': 361, 'tata': 362, 'modules': 363, 'api': 364, 'erp': 365, 'generate': 366, 'release': 367, 'aws': 368, 'arts': 369, 'organization': 370, 'participated': 371, 'corporate': 372, 'processing': 373, 'git': 374, 'implementing': 375, 'private': 376, 'jsp': 377, 'standards': 378, 'cluster': 379, 'com': 380, 'credit': 381, 'dr': 382, 'cost': 383, 'db': 384, 'people': 385, 'handled': 386, 'duration': 387, 'gathering': 388, 'use': 389, 'issue': 390, 'check': 391, 'analyst': 392, 'bo': 393, 'html5': 394, 'php': 395, 'case': 396, '0': 397, 'portal': 398, 'commercial': 399, 'js': 400, 'research': 401, 'korea': 402, 'hibernate': 403, 'set': 404, 'estimation': 405, 'warehouse': 406, 'calls': 407, 'panels': 408, 'position': 409, 'leading': 410, 'r': 411, 'participate': 412, 'ui': 413, 'bugs': 414, 'enterprise': 415, 'point': 416, 'ounts': 417, 'material': 418, 'coordinating': 419, 'talend': 420, 'days': 421, 'resolve': 422, 'attending': 423, 'programs': 424, 'photoshop': 425, 'industrial': 426, 'spark': 427, 'reduce': 428, 'profile': 429, 'back': 430, 'done': 431, 'h': 432, '2011': 433, 'audit': 434, 'graphics': 435, 'manufacturing': 436, 'infrastructure': 437, 'best': 438, 'orders': 439, 'g': 440, 'industry': 441, 'help': 442, 'designer': 443, 'coordinate': 444, 'includes': 445, 'automated': 446, 'prepare': 447, 'target': 448, 'resources': 449, 'contract': 450, 'replication': 451, 'agile': 452, 'secondary': 453, 'text': 454, 'electronics': 455, 'department': 456, 'administrator': 457, 'file': 458, 'regression': 459, 'css3': 460, 'freight': 461, 'identifying': 462, 'employees': 463, 'architecture': 464, 'qtp': 465, 'visual': 466, 'critical': 467, 'layer': 468, 'overall': 469, 'life': 470, 'problem': 471, 'drawing': 472, 'consultancy': 473, 'jenkins': 474, 'mis': 475, 'k': 476, 'equipment': 477, 'developers': 478, 'strong': 479, 'language': 480, 'shipments': 481, 'stock': 482, 'analyze': 483, 'loan': 484, 'excellent': 485, 'ethereum': 486, 'professional': 487, 'angular': 488, 'events': 489, 'targets': 490, 'english': 491, 'specifications': 492, 'ssc': 493, 'present': 494, 'xp': 495, 'hsc': 496, 'meeting': 497, '20': 498, 'compliance': 499, 'along': 500, '15': 501, 'leader': 502, 'revenue': 503, '48': 504, 'consultant': 505, 'area': 506, 'suppliers': 507, 'construction': 508, 'given': 509, 'interface': 510, 'components': 511, 'networking': 512, 'multi': 513, 'pmo': 514, 'panel': 515, 'load': 516, 'requests': 517, 'master': 518, 'student': 519, 'managers': 520, 'smooth': 521, 'uat': 522, 'base': 523, 'line': 524, 'problems': 525, 'j2ee': 526, 'models': 527, 'admin': 528, 'comments': 529, 'potential': 530, 'external': 531, 'engineers': 532, 'field': 533, 'smart': 534, 'solving': 535, 'workshop': 536, 'mappings': 537, '11g': 538, 'shipping': 539, 'wipro': 540, 'version': 541, 'post': 542, 'maintained': 543, 'conducted': 544, 'migration': 545, 'model': 546, 'dot': 547, 'resolving': 548, 'opportunities': 549, 'efficiency': 550, 'firewall': 551, 'nashik': 552, 'strategies': 553, 'uk': 554, 'take': 555, 'national': 556, 'side': 557, 'complex': 558, 'apache': 559, 'areas': 560, 'nendrasys': 561, 'conducting': 562, 'materials': 563, 'checking': 564, 'reviews': 565, 'getting': 566, 'supply': 567, 'inspection': 568, 'achieve': 569, 'methodology': 570, 'expertise': 571, 'delivered': 572, 'loading': 573, 'controls': 574, 'media': 575, 'hpm': 576, 'view': 577, 'departments': 578, 'improve': 579, 'plant': 580, 'map': 581, 'british': 582, 'july': 583, 'servlet': 584, 'specification': 585, 'thai': 586, 'provides': 587, 'wrote': 588, 'result': 589, 'taking': 590, 'continuous': 591, 'log': 592, 'ount': 593, 'request': 594, 'm3': 595, 'included': 596, 'pig': 597, 'export': 598, 'follow': 599, 'troubleshoot': 600, 'presentation': 601, 'devices': 602, 'offers': 603, 'certificate': 604, 'autocad': 605, 'maven': 606, 'logs': 607, 'risks': 608, 'json': 609, 'usa': 610, '2009': 611, 'environments': 612, 'budget': 613, 'django': 614, 'processed': 615, 'interaction': 616, 'setup': 617, 'shared': 618, 'decision': 619, 'actively': 620, 'relationship': 621, 'extract': 622, 'deployed': 623, 'foundation': 624, 'investment': 625, 'policies': 626, 'flat': 627, 'eclipse': 628, 'keeping': 629, 'running': 630, 'direct': 631, 'world': 632, 'august': 633, 'making': 634, 'learn': 635, 'driven': 636, 'capacity': 637, 'qatar': 638, 'functions': 639, 'course': 640, 'sessions': 641, 'scheduling': 642, 'checks': 643, 'supporting': 644, 'onsite': 645, 'defined': 646, 'us': 647, 'united': 648, 'regular': 649, 'os': 650, 'pradesh': 651, 'results': 652, 'backups': 653, 'logic': 654, 'reconciliation': 655, 'www': 656, '01': 657, 'cash': 658, 'leadership': 659, 'crm': 660, 'via': 661, 'architect': 662, 'backend': 663, 'hotel': 664, 'drawings': 665, 'qc': 666, 'mongodb': 667, 'higher': 668, 'hands': 669, 'discuss': 670, 'dev': 671, 'dashboard': 672, 'configuring': 673, 'chain': 674, 'records': 675, 'assistant': 676, 'operation': 677, 'sent': 678, 'achieving': 679, 'gym': 680, 'r2': 681, 'mapreduce': 682, 'jan': 683, 'following': 684, 'generated': 685, 'selenium': 686, 'ording': 687, 'public': 688, 'bny': 689, 'mellon': 690, 'enquiries': 691, 'station': 692, 'wiring': 693, 'techniques': 694, 'front': 695, 'overseeing': 696, 'essful': 697, 'goal': 698, 'detailed': 699, '11': 700, 'appropriate': 701, 'types': 702, 'sources': 703, 'transaction': 704, 'leads': 705, 'sr': 706, 'switches': 707, 'air': 708, 'procurement': 709, 'top': 710, 'trade': 711, 'word': 712, 'usage': 713, 'stake': 714, 'holders': 715, 'categories': 716, 'ge': 717, 'transformations': 718, 'marshalling': 719, 'prepaid': 720, 'local': 721, 'government': 722, 'deliverables': 723, '2000': 724, '2006': 725, 'update': 726, 'self': 727, 'availability': 728, 'certified': 729, 'analytical': 730, 'views': 731, 'strategic': 732, 'communications': 733, 'structure': 734, 'deep': 735, 'real': 736, 'generating': 737, '2007': 738, 'capital': 739, 'necessary': 740, 'bug': 741, 'groups': 742, 'businesses': 743, 'polytechnic': 744, 'executing': 745, 'cricket': 746, 'mapping': 747, 'phule': 748, 'active': 749, 'mahindra': 750, 'cards': 751, 'rest': 752, '31': 753, 'logistics': 754, 'integrated': 755, 'relevant': 756, 'call': 757, 'features': 758, 'helping': 759, 'reviewing': 760, 'market': 761, 'hbase': 762, 'modern': 763, 'available': 764, 'executive': 765, 'cycle': 766, 'big': 767, 'sub': 768, 'healthcare': 769, 'implement': 770, 'region': 771, 'designation': 772, '16': 773, 'completion': 774, 'conduct': 775, 'sure': 776, 'algorithms': 777, 'form': 778, 'first': 779, 'go': 780, 'execute': 781, 'validate': 782, 'pm': 783, 'mentioned': 784, 'nov': 785, 'debugging': 786, 'errors': 787, 'platforms': 788, 'finance': 789, 'interacting': 790, 'ad': 791, 'raised': 792, '72': 793, 'future': 794, 'pl': 795, 'jira': 796, 'repository': 797, 'relationships': 798, 'managed': 799, 'branches': 800, '30': 801, 'applying': 802, 'movex': 803, 'ways': 804, 'amravati': 805, 'advance': 806, 'router': 807, 'le': 808, 'synopsis': 809, 'towards': 810, 'levels': 811, 'paper': 812, 'communicating': 813, 'bi': 814, 'ftp': 815, 'upgrade': 816, 'savitribai': 817, '400': 818, 'costs': 819, 'closely': 820, 'ibm': 821, 'setting': 822, 'strategy': 823, 'auto': 824, 'firewalls': 825, 'council': 826, 'module': 827, 'transactions': 828, 'countries': 829, 'price': 830, 'proper': 831, 'fine': 832, '28': 833, 'deploy': 834, 'routing': 835, 'music': 836, 'function': 837, 'contribution': 838, 'meet': 839, 'safety': 840, '36': 841, 'metrics': 842, '2005': 843, 'floor': 844, 'ant': 845, 'bbl': 846, 'query': 847, 'filenet': 848, 'webi': 849, 'domain': 850, 'get': 851, 'correct': 852, 'tableau': 853, 'organizing': 854, 'generation': 855, 'app': 856, 'prepared': 857, 'repositories': 858, 'head': 859, 'range': 860, 'currently': 861, 'page': 862, 'capabilities': 863, 'sending': 864, 'packages': 865, 'resolution': 866, 'dell': 867, 'every': 868, 'customized': 869, 'governance': 870, 'hardware': 871, 'bond': 872, 'scala': 873, 'azure': 874, 'care': 875, 'fixing': 876, 'rules': 877, 'free': 878, 'individual': 879, 'involves': 880, 'aug': 881, 'duties': 882, 'sdlc': 883, 'v': 884, 'include': 885, 'emails': 886, 'achieved': 887, 'card': 888, 'utilization': 889, 'period': 890, 'communicate': 891, 'negotiating': 892, 'facility': 893, 'handle': 894, 'member': 895, 'transition': 896, 'legal': 897, 'corporation': 898, 'intelligence': 899, 'feedback': 900, 'assist': 901, 'specific': 902, 'throughout': 903, 'improvement': 904, 'need': 905, 'installing': 906, 'assurant': 907, 'feeds': 908, 'bods': 909, 'universe': 910, 'task': 911, 'updating': 912, 'postgresql': 913, 'codes': 914, 'tests': 915, 'transfer': 916, 'capgemini': 917, 'tomcat': 918, 'drives': 919, 'frame': 920, 'scenarios': 921, 'rman': 922, 'clinical': 923, 'p': 924, 'controller': 925, 'dubai': 926, 'possible': 927, 'efficient': 928, 'jdbc': 929, 'dashboards': 930, 'consulting': 931, 'powerpoint': 932, 'diagrams': 933, 'ubuntu': 934, 'quick': 935, '14': 936, 'calculation': 937, 'centre': 938, 'dcs': 939, 'companies': 940, 'live': 941, 'supported': 942, 'offshore': 943, 'regularly': 944, 'store': 945, 'tuning': 946, 'hindi': 947, 'configured': 948, 'partners': 949, 'ide': 950, 'around': 951, 'internet': 952, 'motor': 953, 'transport': 954, 'contributions': 955, 'iso': 956, 'general': 957, 'march': 958, 'n': 959, 'main': 960, 'image': 961, 'reviewed': 962, 'needs': 963, 'restore': 964, 'formats': 965, 'location': 966, 'nutrition': 967, 'define': 968, '27': 969, 'clear': 970, 'asa': 971, 'fds': 972, 'effectively': 973, 'interpersonal': 974, 'coordination': 975, 'invoicing': 976, 'major': 977, 'positive': 978, 'quarterly': 979, 'matrix': 980, 'tenure': 981, 'performing': 982, 'controllers': 983, 'pan': 984, 'right': 985, 'negotiations': 986, 'rates': 987, 'energy': 988, 'sites': 989, 'quotations': 990, 'direction': 991, 'impact': 992, 'invoices': 993, 'talent': 994, 'programme': 995, 'helps': 996, 'fixed': 997, 'number': 998, 'pos': 999, 'selection': 1000, 'validation': 1001, 'final': 1002, 'law': 1003, 'xml': 1004, 'ticket': 1005, 'providers': 1006, 'plus': 1007, 'import': 1008, 'utility': 1009, 'open': 1010, 'mobile': 1011, 'audits': 1012, 'stipulated': 1013, 'sector': 1014, 'assisting': 1015, 'commissioning': 1016, 'growth': 1017, 'cross': 1018, 'feature': 1019, 'proven': 1020, 'satisfaction': 1021, 'storage': 1022, 'oil': 1023, 'numpy': 1024, 'month': 1025, 'ups': 1026, 'communicated': 1027, 'node': 1028, '96': 1029, 'rdbms': 1030, 'competition': 1031, 'contracts': 1032, 'hmi': 1033, 'ounting': 1034, 'enhance': 1035, 'run': 1036, 'provider': 1037, 'structured': 1038, 'objects': 1039, 'fixes': 1040, 'large': 1041, 'strengths': 1042, 'able': 1043, 'scrum': 1044, 'lifecycle': 1045, 'supplies': 1046, 'consignments': 1047, 'scheduled': 1048, 'series': 1049, 'sc': 1050, 'lt': 1051, 'u': 1052, 'single': 1053, 'achievements': 1054, 'terms': 1055, 'android': 1056, 'visio': 1057, 'ci': 1058, 'central': 1059, 'cable': 1060, 'layout': 1061, 'cbs': 1062, '17': 1063, 'ecosystem': 1064, 'optimization': 1065, 'got': 1066, 'written': 1067, 'april': 1068, 'updates': 1069, 'mba': 1070, 'mail': 1071, 'bitbucket': 1072, 'merchants': 1073, 'patching': 1074, 'concepts': 1075, 'methodologies': 1076, 'submission': 1077, 'received': 1078, 'recruitment': 1079, 'liaising': 1080, 'defining': 1081, 'driving': 1082, 'exposure': 1083, 'nlp': 1084, 'established': 1085, 'feb': 1086, 'spoc': 1087, 'past': 1088, 'effort': 1089, 'car': 1090, 'summary': 1091, 'analyzed': 1092, 'recovery': 1093, 'actual': 1094, 'actions': 1095, 'engg': 1096, 'f': 1097, 'stores': 1098, 'interest': 1099, 'works': 1100, 'objective': 1101, 'hiring': 1102, 'built': 1103, 'permissions': 1104, 'parameters': 1105, 'analysts': 1106, 'defect': 1107, 'sloan': 1108, 'prod': 1109, 'switching': 1110, 'satellite': 1111, 'p8': 1112, 'frontend': 1113, 'workflow': 1114, 'manner': 1115, 'st': 1116, 'annual': 1117, 'policy': 1118, 'exports': 1119, 'receiving': 1120, 'visit': 1121, 'pr': 1122, 'social': 1123, 'incident': 1124, 'directly': 1125, 'coordinated': 1126, 'association': 1127, 'redundant': 1128, 'tracker': 1129, 'trends': 1130, 'iit': 1131, 'inputs': 1132, 'nos': 1133, 'entities': 1134, 'primary': 1135, 'address': 1136, 'largest': 1137, 'custom': 1138, 'stored': 1139, 'proactively': 1140, 'four': 1141, 'academy': 1142, 'identified': 1143, 'builds': 1144, 'assigned': 1145, 'road': 1146, 'basically': 1147, 'instances': 1148, 'content': 1149, 'advanced': 1150, 'value': 1151, 'trainer': 1152, 'proficient': 1153, 'factory': 1154, 'current': 1155, 'vpn': 1156, 'robot': 1157, 'wave': 1158, 'offices': 1159, 'followed': 1160, 'times': 1161, 'tax': 1162, 'goods': 1163, 'played': 1164, 'neural': 1165, 'increase': 1166, 'academic': 1167, 'tickets': 1168, 'payments': 1169, 'ordination': 1170, 'sri': 1171, 'assigning': 1172, 'full': 1173, 'place': 1174, 'dynamic': 1175, 'autosys': 1176, 'pneumatic': 1177, 'automate': 1178, 'flume': 1179, 'cloudera': 1180, 'sharepoint': 1181, 'sharing': 1182, 'bom': 1183, 'eptance': 1184, 'fabrication': 1185, 'act': 1186, 'enhancements': 1187, 'bombay': 1188, 'house': 1189, 'gather': 1190, 'evaluation': 1191, 'excellence': 1192, 'met': 1193, 'keep': 1194, 'another': 1195, 'email': 1196, 'modelling': 1197, 'give': 1198, 'schema': 1199, 'experienced': 1200, 'hosted': 1201, 'salary': 1202, 'branch': 1203, 'event': 1204, 'respective': 1205, 'expenses': 1206, 'techno': 1207, 'three': 1208, '2003': 1209, 'action': 1210, 'september': 1211, 'detection': 1212, 'onshore': 1213, 'vision': 1214, 'easy': 1215, 'jr': 1216, 'simple': 1217, 'physical': 1218, 'retail': 1219, '60': 1220, 'regarding': 1221, 'property': 1222, 'nature': 1223, 'raw': 1224, 'non': 1225, '2nd': 1226, 'deployments': 1227, 'adding': 1228, 'find': 1229, 'undertaking': 1230, 'oriented': 1231, 'five': 1232, 'govt': 1233, 'ny': 1234, 'telephonic': 1235, 'internship': 1236, 'arranging': 1237, 'lan': 1238, 'routers': 1239, 'dhcp': 1240, '21': 1241, 'purpose': 1242, 'networks': 1243, 'friendly': 1244, 'methods': 1245, 'startup': 1246, 'focuses': 1247, 'identification': 1248, 'supervising': 1249, 'coding': 1250, 'inter': 1251, 'properly': 1252, 'madhya': 1253, 'two': 1254, 'conference': 1255, 'escalation': 1256, 'determine': 1257, 'wide': 1258, 'among': 1259, 'phone': 1260, 'payroll': 1261, '13': 1262, 'degree': 1263, 'deploying': 1264, 'magazine': 1265, 'learner': 1266, 'thinking': 1267, 'upgrades': 1268, 'visa': 1269, 'bsc': 1270, 'nestle': 1271, 'builder': 1272, 'ordinate': 1273, 'plastering': 1274, 'proficiency': 1275, 'tally': 1276, 'industries': 1277, 'logistic': 1278, 'predictive': 1279, 'channels': 1280, 'profiles': 1281, 'inc': 1282, 'manages': 1283, 'water': 1284, 'ops': 1285, 'vista': 1286, 'enhancement': 1287, 'highlights': 1288, 'x': 1289, 'patient': 1290, 'rights': 1291, 'virtual': 1292, 'supplier': 1293, 'warehousing': 1294, 'ordance': 1295, 'l': 1296, 'budgets': 1297, 'ht': 1298, 'scada': 1299, 'recommendations': 1300, 'invoice': 1301, 'old': 1302, 'connectivity': 1303, 'transform': 1304, 'b2b': 1305, 'layers': 1306, 'bangalore': 1307, 'news': 1308, 'sun': 1309, 'barclays': 1310, 'sets': 1311, 'oozie': 1312, 'hot': 1313, 'grid': 1314, 'executed': 1315, 'enture': 1316, 'matlab': 1317, 'tested': 1318, 'administrative': 1319, 'designs': 1320, 'pump': 1321, 'secured': 1322, 'challenges': 1323, 'releases': 1324, 'junior': 1325, 'secure': 1326, 'conditions': 1327, 'competencies': 1328, 'static': 1329, 'channel': 1330, '300': 1331, '10g': 1332, 'history': 1333, 'coverage': 1334, 'cnc': 1335, 'filtering': 1336, 'tat': 1337, 'liasing': 1338, 'imports': 1339, 'forwarders': 1340, 'benefits': 1341, 'gea': 1342, 'east': 1343, 'modes': 1344, 'contractual': 1345, 'worldwide': 1346, 'dhl': 1347, 'informing': 1348, 'pressure': 1349, 'stage': 1350, 'certification': 1351, 'since': 1352, 'mac': 1353, 'masters': 1354, 'preventive': 1355, 'images': 1356, 'lob': 1357, 'draft': 1358, 'win': 1359, 'adherence': 1360, 'lessons': 1361, 'ensured': 1362, 'assessment': 1363, 'trained': 1364, '85': 1365, 'outstanding': 1366, 'bengaluru': 1367, 'installed': 1368, 'staging': 1369, 'fully': 1370, 'package': 1371, '19': 1372, 'bitcoin': 1373, 'solidity': 1374, 'demand': 1375, '39': 1376, 'ocean': 1377, '07': 1378, 'move': 1379, 'entity': 1380, 'staffing': 1381, 'penalty': 1382, 'engine': 1383, 'chennai': 1384, 'forecasting': 1385, 'checkpoint': 1386, 'agreed': 1387, 'whenever': 1388, 'epks': 1389, 'deliverable': 1390, 'cabinets': 1391, 'gsm': 1392, 'dicom': 1393, 'cad': 1394, 'defects': 1395, 'moving': 1396, 'timelines': 1397, 'sports': 1398, 'show': 1399, 'dec': 1400, 'dba': 1401, 'hyderabad': 1402, 'telangana': 1403, 'mocks': 1404, 'utilities': 1405, 'message': 1406, 'hoc': 1407, 'easily': 1408, 'rational': 1409, 'proactive': 1410, 'quickly': 1411, 'travel': 1412, 'sourcing': 1413, 'sea': 1414, 'sbi': 1415, 'formalities': 1416, 'filing': 1417, 'multinational': 1418, 'prototype': 1419, 'delivering': 1420, 'coe': 1421, 'color': 1422, 'forecast': 1423, 'hydraulic': 1424, 'component': 1425, 'visualization': 1426, 'insights': 1427, 'asset': 1428, 'urate': 1429, 'discussing': 1430, 'gold': 1431, 'kerala': 1432, 'deadlines': 1433, 'svn': 1434, 'allow': 1435, 'send': 1436, 'wallet': 1437, 'nanded': 1438, 'digital': 1439, 'putty': 1440, 'important': 1441, 'screen': 1442, 'box': 1443, 'schematics': 1444, 'github': 1445, 'mar': 1446, 'lines': 1447, 'express': 1448, 'associated': 1449, 'recognition': 1450, 'going': 1451, 'attend': 1452, 'desk': 1453, 'contact': 1454, 'playing': 1455, 'karnataka': 1456, 'space': 1457, 'classes': 1458, 'itil': 1459, 'specially': 1460, '26': 1461, 'safe': 1462, 'suggesting': 1463, 'tcs': 1464, 'attendance': 1465, 'sublime': 1466, '3d': 1467, 'incidents': 1468, 'added': 1469, 'clearance': 1470, 'books': 1471, 'returns': 1472, 'pivotal': 1473, 'stations': 1474, 'zone': 1475, 'delhi': 1476, 'units': 1477, 'hardworking': 1478, 'ionic': 1479, 'consultants': 1480, 'detail': 1481, 'sentiment': 1482, 'hvac': 1483, 'kpi': 1484, 'institutional': 1485, 'guidance': 1486, 'coaching': 1487, 'regulations': 1488, 'root': 1489, 'gap': 1490, 'rm': 1491, 'al': 1492, 'hours': 1493, 'abap': 1494, 'intellimatch': 1495, 'cold': 1496, 'valves': 1497, 'loop': 1498, 'trustbank': 1499, 'bazar': 1500, 'responsive': 1501, 'softgst': 1502, 'gstr': 1503, 'jalloshband': 1504, 'allahabad': 1505, 'uttar': 1506, 'ideas': 1507, 'sound': 1508, 'compare': 1509, 'due': 1510, 'black': 1511, 'lng': 1512, 'programmes': 1513, 'lanka': 1514, 'bajaj': 1515, 'sense': 1516, 'midc': 1517, 'impala': 1518, 'president': 1519, 'carrying': 1520, 'presenting': 1521, 'home': 1522, 'search': 1523, 'attitude': 1524, 'cultural': 1525, 'record': 1526, 'cse': 1527, '08': 1528, 'marathi': 1529, 'dns': 1530, '80': 1531, 'proposals': 1532, 'mitigation': 1533, 'known': 1534, 'restful': 1535, '2019': 1536, 'survey': 1537, 'claims': 1538, 'long': 1539, 'million': 1540, 'productivity': 1541, 'modifications': 1542, 'workforce': 1543, 'six': 1544, 'relay': 1545, 'list': 1546, 'modeling': 1547, 'fraud': 1548, 'kyc': 1549, 'drafting': 1550, 'district': 1551, 'october': 1552, 'llp': 1553, '23': 1554, 'ansible': 1555, 'merging': 1556, 'exchange': 1557, 'telecom': 1558, 'advertising': 1559, 'extraction': 1560, 'sme': 1561, 'standby': 1562, 'ap': 1563, 'total': 1564, 'lambda': 1565, 'tibco': 1566, 'spotfire': 1567, 'xen': 1568, 'cpi': 1569, 'genworth': 1570, 'medical': 1571, 'needed': 1572, 'promotion': 1573, 'costing': 1574, 'video': 1575, 'javaee': 1576, 'aes': 1577, 'rfid': 1578, 'parkar': 1579, 'labs': 1580, 'advocate': 1581, 'uft': 1582, 'sept': 1583, 'collaboration': 1584, 'telecommunications': 1585, 'selected': 1586, 'middle': 1587, 'better': 1588, '2001': 1589, 'human': 1590, 'always': 1591, 'organize': 1592, 'collection': 1593, 'means': 1594, 'mirroring': 1595, 'parent': 1596, 'ip': 1597, 'small': 1598, 'multimedia': 1599, 'error': 1600, 'simultaneously': 1601, 'particular': 1602, '12c': 1603, 'tablespaces': 1604, 'patterns': 1605, 'idea': 1606, 'turn': 1607, 'bandra': 1608, 'hotels': 1609, 'finalizing': 1610, 'generates': 1611, 'late': 1612, 'alternate': 1613, 'discrepancies': 1614, 'statutory': 1615, 'term': 1616, 'joined': 1617, 'flexibility': 1618, 'calculate': 1619, 'stream': 1620, 'serve': 1621, 'catia': 1622, 'classification': 1623, 'pandas': 1624, 'protection': 1625, 'giving': 1626, 'cause': 1627, 'responses': 1628, 'appraisals': 1629, 'drive': 1630, 'editing': 1631, 'correspondence': 1632, 'supervise': 1633, 'study': 1634, 'authority': 1635, 'hp': 1636, 'disk': 1637, 'alert': 1638, 'topic': 1639, 'computing': 1640, 'object': 1641, 'table': 1642, 'gateway': 1643, 'organized': 1644, 'goals': 1645, 'inside': 1646, 'would': 1647, 'residential': 1648, 'calling': 1649, 'evaluate': 1650, 'mw': 1651, 'dbms': 1652, 'disease': 1653, 'modified': 1654, 'coded': 1655, 'asm': 1656, 'carried': 1657, 'srs': 1658, 'ccu': 1659, 'cmu': 1660, 'quotation': 1661, 'money': 1662, 'traceability': 1663, 'receive': 1664, 'extracting': 1665, 'interacted': 1666, 'syntel': 1667, 'weeks': 1668, 'stories': 1669, 'auditing': 1670, 'pacs': 1671, 'bed': 1672, 'yes': 1673, 'reliance': 1674, 'xinfin': 1675, 'faster': 1676, 'globally': 1677, 'promoted': 1678, 'soft': 1679, 'person': 1680, 'mentor': 1681, 'configure': 1682, 'encrypted': 1683, 'context': 1684, 'low': 1685, 'protocols': 1686, 'oct': 1687, 'deal': 1688, 'printing': 1689, 'pack': 1690, 'workshops': 1691, '2008r2': 1692, 'linear': 1693, 'innovative': 1694, 'registration': 1695, 'mr': 1696, 'corrective': 1697, 'elements': 1698, 'columns': 1699, 'utilized': 1700, 'issuance': 1701, 'sop': 1702, 'receivables': 1703, 'reducing': 1704, 'sectors': 1705, 'transit': 1706, 'holding': 1707, 'establishing': 1708, 'quantity': 1709, 'transshipment': 1710, 'points': 1711, 'complaints': 1712, 'serck': 1713, 'quotes': 1714, 'recording': 1715, 'train': 1716, 'brd': 1717, 'mssql': 1718, 'bill': 1719, 'constraints': 1720, 'assessing': 1721, 'bhopal': 1722, 'fee': 1723, 'improving': 1724, 'rcsa': 1725, 'concurrence': 1726, 'indian': 1727, 'unique': 1728, 'associate': 1729, 'delinquent': 1730, 'loaded': 1731, 'insight': 1732, 'subject': 1733, 'ca': 1734, 'aim': 1735, 'compensation': 1736, 'carry': 1737, 'temperature': 1738, 'appraisal': 1739, 'medicines': 1740, 'distributed': 1741, 'joining': 1742, 'privileges': 1743, 'vlan': 1744, 'proxy': 1745, 'hospital': 1746, 'clarity': 1747, 'headcount': 1748, 'tagging': 1749, 'gm': 1750, 'rookie': 1751, 'volume': 1752, 'negotiation': 1753, 'speaking': 1754, 'hard': 1755, 'f5': 1756, 'kom': 1757, 'cabinet': 1758, 'loops': 1759, 'focal': 1760, 'furnace': 1761, 'experion': 1762, 'jbk': 1763, 'schematic': 1764, 'presence': 1765, 'instrumentation': 1766, 'atos': 1767, 'draw': 1768, 'february': 1769, 'urately': 1770, '49': 1771, 'plane': 1772, 'capita': 1773, 'zaggle': 1774, 'inr': 1775, 'prgx': 1776, 'websites': 1777, 'options': 1778, 'food': 1779, 'measures': 1780, 'qualification': 1781, 'ticketing': 1782, 'promoting': 1783, 'professionals': 1784, 'finding': 1785, 'graduate': 1786, 'face': 1787, 'recognized': 1788, 'globe': 1789, 'collect': 1790, 'american': 1791, 'motivate': 1792, 'automating': 1793, 'alerts': 1794, 'others': 1795, 'elastic': 1796, 'searching': 1797, 'concept': 1798, 'player': 1799, 'estate': 1800, 'earthing': 1801, 'redhat': 1802, '18': 1803, 'synechron': 1804, 'therapies': 1805, 'represent': 1806, 'lists': 1807, 'traffic': 1808, 'fetch': 1809, 'entry': 1810, '50': 1811, 'interviewing': 1812, 'increased': 1813, 'partnerships': 1814, 'special': 1815, 'johnson': 1816, 'deliveries': 1817, 'port': 1818, 'closing': 1819, 'sow': 1820, 'foundry': 1821, 'driver': 1822, 'scientist': 1823, 'called': 1824, 'career': 1825, 'downtime': 1826, 'response': 1827, 'makes': 1828, 'assurance': 1829, 'classifier': 1830, 'presented': 1831, '29': 1832, 'scd': 1833, 'interact': 1834, 'phase': 1835, 'york': 1836, 'mitigate': 1837, 'plsql': 1838, 'london': 1839, 'dynamics': 1840, 'round': 1841, 'teradata': 1842, 'banks': 1843, 'add': 1844, 'directory': 1845, 'severity': 1846, 'uh': 1847, 'brand': 1848, 'highlighting': 1849, 'tree': 1850, 'sheet': 1851, 'smoke': 1852, 'resume': 1853, 'rfq': 1854, 'court': 1855, 'steel': 1856, 'clarifications': 1857, 'middleware': 1858, 'vice': 1859, 'aspects': 1860, 'visiting': 1861, 'visits': 1862, 'as400': 1863, 'efforts': 1864, 'individuals': 1865, 'locations': 1866, 'tier': 1867, 'utilizing': 1868, 'verbal': 1869, 'patil': 1870, 'questions': 1871, 'upgrading': 1872, 'gaps': 1873, 'mangers': 1874, 'switch': 1875, 'failures': 1876, 'sangli': 1877, 'practice': 1878, 'authentication': 1879, 'stack': 1880, 'infosys': 1881, 'way': 1882, '2004': 1883, 'functionality': 1884, 'algorithm': 1885, 'exposys': 1886, 'notepad': 1887, 'fruits': 1888, 'io': 1889, 'audience': 1890, 'objectives': 1891, 'doctor': 1892, 'controlled': 1893, 'shopping': 1894, 'expectations': 1895, 'verification': 1896, 'tours': 1897, 'star': 1898, 'held': 1899, 'warehouses': 1900, 'europe': 1901, 'agents': 1902, 'optimize': 1903, 'damage': 1904, 'holds': 1905, 'systematic': 1906, 'standardized': 1907, 'involving': 1908, 'launch': 1909, 'deliver': 1910, 'trainings': 1911, 'db2': 1912, 'struts': 1913, 'updated': 1914, 'switchgear': 1915, 'mcc': 1916, 'ct': 1917, 'indore': 1918, 'effectiveness': 1919, 'examination': 1920, 'closure': 1921, 'qualifications': 1922, 'urban': 1923, 'remote': 1924, 'fill': 1925, 'coming': 1926, 'relational': 1927, 'causes': 1928, 'strength': 1929, 'motors': 1930, 'income': 1931, 'landing': 1932, 'brought': 1933, 'expe': 1934, 'declaration': 1935, 'proof': 1936, 'watch': 1937, 'input': 1938, 'boarding': 1939, 'charts': 1940, 'timesheet': 1941, 'communities': 1942, 'count': 1943, 'gas': 1944, 'parties': 1945, 'j': 1946, 'epted': 1947, '1998': 1948, 'angularjs': 1949, 'comes': 1950, 'atm': 1951, 'think': 1952, 'experiences': 1953, 'protocol': 1954, 'require': 1955, 'already': 1956, 'delete': 1957, 'upto': 1958, 'slas': 1959, 'controlling': 1960, 'sungard': 1961, 'ii': 1962, 'insert': 1963, '120': 1964, 'usability': 1965, 'b2c': 1966, 'several': 1967, 'managements': 1968, 'sep': 1969, 'heterogeneous': 1970, 'willing': 1971, 'rajasthan': 1972, 'sorting': 1973, '43': 1974, 'sweden': 1975, 'cvs': 1976, 'patni': 1977, 'clustering': 1978, 'booking': 1979, 'fast': 1980, 'library': 1981, 'coach': 1982, 'crystal': 1983, 'allows': 1984, 'sign': 1985, 'bw': 1986, 'goqii': 1987, '25': 1988, 'basics': 1989, 'suggestions': 1990, 'club': 1991, 'noc': 1992, 'spa': 1993, 'extra': 1994, 'abstract': 1995, 'postman': 1996, 'arsys': 1997, 'logger': 1998, 'mas': 1999, 'telecommunication': 2000, 'oss': 2001, 'crawling': 2002, 'sprint': 2003, 'foreign': 2004, 'informed': 2005, 'answering': 2006, 'purchasing': 2007, 'heat': 2008, 'rpg': 2009, 'kpit': 2010, 'frames': 2011, 'subcontractors': 2012, 'actuators': 2013, 'aegis': 2014, 'courses': 2015, 'extracted': 2016, 'capture': 2017, 'rewards': 2018, 'determined': 2019, 'electric': 2020, 'dedication': 2021, 'contractor': 2022, 'svm': 2023, 'sqlserver': 2024, 'vehicle': 2025, 'painting': 2026, 'tac': 2027, 'cbse': 2028, 'tmap': 2029, 'extensively': 2030, 'last': 2031, 'embedded': 2032, 'diverse': 2033, 'tensorflow': 2034, 'curriculum': 2035, 'ranchi': 2036, 'hyperledger': 2037, 'block': 2038, 'marshall': 2039, 'demo': 2040, 'detailing': 2041, 'asst': 2042, 'tester': 2043, 'inouvelle': 2044, 'ventures': 2045, 'proposed': 2046, 'r3': 2047, 'comparison': 2048, 'class': 2049, 'corpcloud': 2050, 'oltp': 2051, 'listener': 2052, 'micro': 2053, 'mvc5': 2054, 'vs': 2055, 'disabled': 2056, 'greyed': 2057, 'optimizing': 2058, 'mesa': 2059, 'meaningful': 2060, 'bex': 2061, 'bar': 2062, 'tasking': 2063, 'suitable': 2064, 'cement': 2065, 'anti': 2066, 'laundering': 2067, 'extractor': 2068, 'vb': 2069, 'delta': 2070, 'pair': 2071, 'display': 2072, 'see': 2073, 'editor': 2074, 'nasscom': 2075, 'ieee': 2076, 'places': 2077, 'legacy': 2078, 'karate': 2079, 'salesforce': 2080, 'rpa': 2081, 'organizational': 2082, 'tdd': 2083, 'hybrid': 2084, 'taf': 2085, 'hl7': 2086, 'reconstruction': 2087, 'logix': 2088, 'talk': 2089, 'rslinx': 2090, 'classic': 2091, 'increment': 2092, 'vbscripts': 2093, 'actuator': 2094, 'po': 2095, 'california': 2096, 'beginner': 2097, 'honda': 2098, 'dealership': 2099, 'facets': 2100, 'ongoing': 2101, 'permanent': 2102, 'significant': 2103, 'institution': 2104, 'facilitating': 2105, 'emerging': 2106, 'offline': 2107, 'natural': 2108, 'art': 2109, '1999': 2110, 'uml': 2111, 'newly': 2112, 'slave': 2113, 'transformation': 2114, 'foods': 2115, 'shut': 2116, 'dedicated': 2117, 'streamline': 2118, 'band': 2119, 'outs': 2120, 'funds': 2121, 'settings': 2122, 'spaces': 2123, 'planned': 2124, 'install': 2125, 'yrs': 2126, 'appreciation': 2127, 'engagement': 2128, 'norms': 2129, 'letters': 2130, 'mechanism': 2131, 'experts': 2132, 'highest': 2133, 'items': 2134, 'ksa': 2135, 'cargo': 2136, 'equipments': 2137, 'waste': 2138, 'german': 2139, 'a1': 2140, 'flows': 2141, 'interior': 2142, 'buildings': 2143, 'feasibility': 2144, 'book': 2145, '22': 2146, 'break': 2147, 'mining': 2148, 'man': 2149, 'society': 2150, 'consistently': 2151, 'peer': 2152, 'oversee': 2153, 'oversight': 2154, 'findings': 2155, 'depending': 2156, 'names': 2157, 'resolved': 2158, 'consistent': 2159, 'aviation': 2160, 'regional': 2161, 'tamil': 2162, 'nadu': 2163, 'linked': 2164, 'either': 2165, 'personally': 2166, 'chinchwad': 2167, 'dimensions': 2168, 'lookup': 2169, 'joiner': 2170, 'attended': 2171, 'shipment': 2172, 'statements': 2173, 'consumed': 2174, 'together': 2175, 'gui': 2176, 'royal': 2177, 'publication': 2178, 'offer': 2179, 'bharat': 2180, 'director': 2181, 'ranjangaon': 2182, 'organisation': 2183, '1st': 2184, 'substation': 2185, 'estimates': 2186, 'brain': 2187, 'semi': 2188, 'jaunpur': 2189, 'establish': 2190, 'statistical': 2191, 'blue': 2192, 'machines': 2193, 'feasible': 2194, 'timeframe': 2195, 'solapur': 2196, 'statement': 2197, 'window': 2198, 'asia': 2199, 'introducing': 2200, 'llc': 2201, 'frameworks': 2202, 'force': 2203, 'applied': 2204, 'presentations': 2205, 'tracked': 2206, 'obtain': 2207, 'oral': 2208, 'initiative': 2209, 'arrange': 2210, 'talwalkars': 2211, 'guide': 2212, 'solar': 2213, 'console': 2214, 'miami': 2215, 'discussions': 2216, 'jntu': 2217, 'compile': 2218, 'remediation': 2219, '03': 2220, 'rac': 2221, 'nodes': 2222, 'generations': 2223, 'additional': 2224, 'tieto': 2225, 'ec2': 2226, 'scaling': 2227, 'recruit': 2228, 'downloaded': 2229, 'batches': 2230, 'commands': 2231, 'financials': 2232, 'allocation': 2233, 'consultation': 2234, 'sensor': 2235, 'brainstorming': 2236, 'abilities': 2237, 'flotilla': 2238, 'exceed': 2239, '4000': 2240, 'landmark': 2241, 'brokers': 2242, 'customs': 2243, 'ecoflex': 2244, 'forwarding': 2245, 'pricing': 2246, 'maximizing': 2247, 'profits': 2248, 'destinations': 2249, 'gcc': 2250, 'reasonable': 2251, 'shore': 2252, 'volumes': 2253, '9001': 2254, 'hour': 2255, 'truck': 2256, 'egypt': 2257, 'inbound': 2258, 'parts': 2259, 'flask': 2260, 'wagh': 2261, 'villa': 2262, 'scikit': 2263, 'leave': 2264, 'trouble': 2265, 'shooting': 2266, 'quantitative': 2267, 'chat': 2268, 'bot': 2269, 'child': 2270, 'treasury': 2271, 'corporations': 2272, 'broker': 2273, 'dealer': 2274, 'escalated': 2275, 'assessments': 2276, 'initiate': 2277, 'priority': 2278, 'funding': 2279, 'competency': 2280, 'transitions': 2281, 'learned': 2282, 'respond': 2283, 'hires': 2284, 'siebel': 2285, 'addressed': 2286, '95': 2287, 'minimizing': 2288, 'losses': 2289, 'computers': 2290, 'servereducation': 2291, 'matplotlib': 2292, 'reduction': 2293, 'dc': 2294, 'push': 2295, 'attacks': 2296, 'facts': 2297, 'enhanced': 2298, 'fact': 2299, 'priorities': 2300, 'columbia': 2301, 'explorer': 2302, 'birthday': 2303, 'kind': 2304, 'amount': 2305, 'specialty': 2306, 'merchant': 2307, 'sld': 2308, 'calibration': 2309, 'transmitter': 2310, 'ba': 2311, 'enthusiastic': 2312, 'testng': 2313, 'ospf': 2314, 'eigrp': 2315, 'tftp': 2316, 'wan': 2317, 'violation': 2318, 'printers': 2319, 'kisan': 2320, 'rds': 2321, 'dump': 2322, 'diagnostic': 2323, 'remedy': 2324, 'bring': 2325, 'technological': 2326, 'treatment': 2327, '125': 2328, 'responsiblites': 2329, 'deliery': 2330, 'mom': 2331, 'chasing': 2332, 'rr': 2333, 'deputation': 2334, 'invoicings': 2335, 'activites': 2336, 'invocing': 2337, 'cem': 2338, 'sdm': 2339, 'save': 2340, 'towers': 2341, 'tofa': 2342, 'tailgating': 2343, 'asall': 2344, 'drivekey': 2345, 'roadblocks': 2346, 'compliancereport': 2347, 'quarter': 2348, 'allowances': 2349, 'milestone': 2350, 'ratio': 2351, 'steps': 2352, 'servlets': 2353, 'idt': 2354, 'cmc': 2355, 'aims': 2356, 'universes': 2357, 'reference': 2358, 'tower': 2359, 'sale': 2360, 'layouts': 2361, 'useful': 2362, 'modification': 2363, 'finish': 2364, 'mass': 2365, 'covered': 2366, 'lifestyle': 2367, 'ssl': 2368, 'juniper': 2369, 'fzco': 2370, 'discussion': 2371, 'kick': 2372, 'clarification': 2373, 'em': 2374, 'revised': 2375, 'proto': 2376, 'sis': 2377, 'fgs': 2378, 'amc': 2379, 'tps': 2380, 'pu': 2381, 'downloading': 2382, 'r410': 2383, 'fdm': 2384, 'fox': 2385, 'feedbacks': 2386, 'perfect': 2387, 'country': 2388, 'personnel': 2389, 'programmer': 2390, 'criminal': 2391, 'matters': 2392, 'housing': 2393, 'maruti': 2394, 'family': 2395, 'session': 2396, 'ab': 2397, 'estimated': 2398, 'takes': 2399, 'nat': 2400, 'ipsec': 2401, 'mpls': 2402, 'ppt': 2403, 'hereby': 2404, 'inquiries': 2405, 'axis': 2406, 'venture': 2407, 'infotek': 2408, 'yalamanchili': 2409, 'ftc': 2410, 'terminals': 2411, 'promote': 2412, 'minimize': 2413, 'close': 2414, 'functioning': 2415, '34': 2416, 'infra': 2417, 'toad': 2418, 'minimal': 2419, 'procedure': 2420, 'calculations': 2421, 'environmental': 2422, 'smoothly': 2423, 'structures': 2424, 'evaluating': 2425, 'agent': 2426, 'saved': 2427, 'mentoring': 2428, 'rate': 2429, 'facilities': 2430, 'start': 2431, 'organizations': 2432, 'counselling': 2433, 'automatically': 2434, 'agreement': 2435, 'consumer': 2436, 'id': 2437, 'select': 2438, 'approach': 2439, 'exp': 2440, 'employment': 2441, 'hospitals': 2442, 'qualities': 2443, 'infotech': 2444, 'representative': 2445, 'protect': 2446, 'scalable': 2447, 'shield': 2448, 'gandhi': 2449, 'xoriant': 2450, 'bas': 2451, 'frequency': 2452, 'versed': 2453, 'states': 2454, 'compliances': 2455, 'license': 2456, 'commitment': 2457, 'obsolete': 2458, 'commodities': 2459, 'acquiring': 2460, 'housekeeping': 2461, 'executives': 2462, 'reported': 2463, 'land': 2464, 'supervised': 2465, 'soliciting': 2466, 'recommended': 2467, 'selling': 2468, 'promotional': 2469, 'pilot': 2470, 'lf': 2471, 'specs': 2472, 'apply': 2473, 'breaker': 2474, 'vertical': 2475, 'valve': 2476, 'format': 2477, 'bca': 2478, 'broad': 2479, 'previous': 2480, 'assign': 2481, 'translate': 2482, 'assists': 2483, 'decisions': 2484, 'fun': 2485, 'uracy': 2486, 'interpret': 2487, 'awareness': 2488, 'approval': 2489, 'andheri': 2490, 'obtaining': 2491, 'highway': 2492, 'index': 2493, 'labor': 2494, 'pusad': 2495, 'maxgen': 2496, 'pimpri': 2497, 'documenting': 2498, 'intertek': 2499, 'frd': 2500, 'disciplines': 2501, 'clarifying': 2502, 'stages': 2503, 'inlight': 2504, 'tango': 2505, 'cd': 2506, 'icici': 2507, 'edc': 2508, 'row': 2509, 'stress': 2510, 'breweries': 2511, 'lightning': 2512, 'lighting': 2513, 'mca': 2514, 'sass': 2515, 'brackets': 2516, 'raisoni': 2517, 'photography': 2518, 'click': 2519, 'renovated': 2520, 'maintainable': 2521, 'optimised': 2522, 'guidelines': 2523, 'incorporated': 2524, 'integrate': 2525, 'payers': 2526, 'additionally': 2527, 'register': 2528, 'analytica': 2529, 'analytika': 2530, 'shows': 2531, 'liability': 2532, 'tsr': 2533, 'vidarbha': 2534, 'op': 2535, 'gisss': 2536, 'softtrust': 2537, 'jallosh': 2538, 'endeavor': 2539, '10magicalfingers': 2540, 'ace': 2541, 'storing': 2542, 'finalize': 2543, 'collaborated': 2544, 'patch': 2545, 'aurus': 2546, 'difficult': 2547, 'scale': 2548, 'factors': 2549, 'importing': 2550, 'nosql': 2551, 'lake': 2552, 'connection': 2553, 'exported': 2554, 'sheets': 2555, 'confidence': 2556, 'ora': 2557, 'tablespace': 2558, 'railway': 2559, 'grade': 2560, 'professor': 2561, 'datapump': 2562, 'kunal': 2563, 'improvements': 2564, 'common': 2565, 'pharmaceutical': 2566, 'yarn': 2567, 'versa': 2568, 'exact': 2569, 'agriculture': 2570, 'panchakarma': 2571, 'stocks': 2572, 'granting': 2573, 'sorted': 2574, 'item': 2575, 'union': 2576, 'still': 2577, 'shegaon': 2578, 'innovation': 2579, 'ecosystems': 2580, 'rlm': 2581, 'rule': 2582, 'tender': 2583, 'tenders': 2584, 'spot': 2585, 'rfqs': 2586, 'producing': 2587, 'contributors': 2588, 'rave': 2589, 'supervision': 2590, 'variance': 2591, '37': 2592, 'championship': 2593, 'rockwell': 2594, 'sit': 2595, 'follet': 2596, 'collaborate': 2597, 'mid': 2598, 'professionally': 2599, 'terminal': 2600, 'dataiku': 2601, 'reconciliations': 2602, 'recs': 2603, 'salcluster': 2604, 'pages': 2605, 'filter': 2606, 'corel': 2607, 'illustrator': 2608, 'virtuous': 2609, 'adobe': 2610, 'studying': 2611, 'gives': 2612, 'removing': 2613, 'desired': 2614, 'interfacing': 2615, 'stp': 2616, 'canada': 2617, 'situations': 2618, 'contractors': 2619, 'dealing': 2620, 'login': 2621, 'copy': 2622, 'indexes': 2623, 'option': 2624, 'skilled': 2625, 'indoor': 2626, 'buy': 2627, 'fixers': 2628, 'sinks': 2629, 'configura': 2630, 'tion': 2631, 'war': 2632, 'ear': 2633, 'jar': 2634, 'mul': 2635, 'tiple': 2636, 'respectively': 2637, 'bangkok': 2638, 'thaitrade': 2639, 'simultaneous': 2640, 'leases': 2641, 'conflicts': 2642, 'propagation': 2643, 'testers': 2644, 'holdings': 2645, 'sellers': 2646, 'bblwtp': 2647, 'subversion': 2648, 'deploys': 2649, 'instruments': 2650, 'budgeting': 2651, 'watching': 2652, 'press': 2653, 'maintains': 2654, 'thus': 2655, 'guard': 2656, 'trading': 2657, 'hosting': 2658, 'failover': 2659, 'b1': 2660, 'seattle': 2661, 'symbiosis': 2662, 'cloudformation': 2663, 'template': 2664, 'dynamo': 2665, 'bean': 2666, 'stalk': 2667, 'appdynamics': 2668, 'chance': 2669, 'hired': 2670, 'eip': 2671, 'trigger': 2672, 'puppet': 2673, 'farms': 2674, 'boxes': 2675, 'tsys': 2676, 'rhds': 2677, 'vdi': 2678, 'aix': 2679, 'caters': 2680, 'imaging': 2681, 'scanned': 2682, 'l1': 2683, 'visited': 2684, 'eprocess': 2685, 'trexo': 2686, 'older': 2687, 'profiler': 2688, '2002': 2689, 'preparations': 2690, 'submitted': 2691, 'analyse': 2692, 'audio': 2693, 'come': 2694, 'specified': 2695, 'zensar': 2696, 'efficiently': 2697, 'liaison': 2698, 'xillinx': 2699, 'modelsim': 2700, 'multisim': 2701, 'fpga': 2702, 'encryption': 2703, 'cryptography': 2704, 'secret': 2705, '230': 2706, 'sorts': 2707, 'rgb': 2708, 'balls': 2709, 'ward': 2710, 'stakeholder': 2711, 'flash': 2712, 'strictly': 2713, 'productive': 2714, 'inovics': 2715, 'urllib': 2716, 'hub': 2717, 'dossier': 2718, 'andrews': 2719, 'dim': 2720, 'brokerage': 2721, 'candidates': 2722, 'germany': 2723, 'dispatch': 2724, 'average': 2725, 'marine': 2726, 'streamlining': 2727, 'drivers': 2728, 'walk': 2729, 'offs': 2730, 'utr': 2731, 'scraping': 2732, 'techn': 2733, 'cl': 2734, 'ile': 2735, 'larsen': 2736, 'dataset': 2737, 'tensor': 2738, 'generator': 2739, 'pcc': 2740, 'servicing': 2741, 'pt': 2742, 'breakdown': 2743, 'statistics': 2744, 'cv': 2745, 'initial': 2746, 'led': 2747, 'advantage': 2748, 'roi': 2749, 'directors': 2750, 'capturing': 2751, 'gate': 2752, 'ledger': 2753, 'conglomerate': 2754, 'gained': 2755, 'strategizing': 2756, 'poona': 2757, 'continuously': 2758, 'seasonal': 2759, 'promotions': 2760, 'aspire': 2761, 'approvals': 2762, 'estimating': 2763, 'na': 2764, 'knn': 2765, 'random': 2766, 'cassandra': 2767, 'analytic': 2768, 'words': 2769, 'answer': 2770, 'pipeline': 2771, 'interactive': 2772, 'numbers': 2773, 'loads': 2774, 'tsqlrow': 2775, 'dimension': 2776, 'outside': 2777, 'folders': 2778, 'fiori': 2779, 'matter': 2780, 'fresher': 2781, 'travelled': 2782, '360': 2783, 'soap': 2784, 'jharkhand': 2785, 'women': 2786, 'auxledger': 2787, 'lots': 2788, 'otc': 2789, 'ripple': 2790, 'fabric': 2791, 'continue': 2792, 'loyalty': 2793, 'reminder': 2794, 'parking': 2795, 'react': 2796, '9x': 2797, 'divisions': 2798, 'advert': 2799, 'provisioning': 2800, 'datamart': 2801, 'hexad': 2802, 'consolidation': 2803, 'remediated': 2804, 'must': 2805, 'therefore': 2806, '30th': 2807, 'retailers': 2808, 'seniors': 2809, 'cabling': 2810, 'vfd': 2811, 'plants': 2812, 'kranti': 2813, 'scrapping': 2814, 'navi': 2815, 'fetching': 2816, 'hobbies': 2817, 'dapps': 2818, 'mean': 2819, 'trace': 2820, 'confident': 2821, 'passing': 2822, 'mistakes': 2823, 'ready': 2824, '05': 2825, 'ensono': 2826, 'cms': 2827, 'teacher': 2828, 'collections': 2829, 'dictionary': 2830, 'community': 2831, 'regularization': 2832, 'debit': 2833, 'fields': 2834, 'displayed': 2835, 'navigated': 2836, 'gathered': 2837, 'partition': 2838, 'rdd': 2839, 'supervisor': 2840, 'sell': 2841, 'mgm': 2842, 'mit': 2843, 'biar': 2844, 'poc': 2845, 'limitations': 2846, 'shri': 2847, 'chandrapur': 2848, 'section': 2849, 'solidworks': 2850, 'sanarco': 2851, 'brings': 2852, 'device': 2853, '02': 2854, 'ranging': 2855, '1995': 2856, 'relations': 2857, 'reputation': 2858, 'kingdom': 2859, 'qualitative': 2860, 'treasurer': 2861, 'scoe': 2862, 'aissms': 2863, 'assistence': 2864, 'motivated': 2865, 'collaborative': 2866, 'intent': 2867, 'sgd': 2868, 'ner': 2869, 'jio': 2870, 'rgpv': 2871, 'attributes': 2872, 'uae': 2873, 'city': 2874, 'award': 2875, 'responding': 2876, 'apex': 2877, 'vanet': 2878, 'parson': 2879, 'waves': 2880, '47': 2881, 'ccna': 2882, 'bpt': 2883, 'dcmtk': 2884, 'quest': 2885, 'archiving': 2886, 'backlog': 2887, 'validated': 2888, 'petronet': 2889, 'sizing': 2890, 'rotary': 2891, 'fabricated': 2892, 'manufactured': 2893, 'technically': 2894, 'saving': 2895, 'examine': 2896, 'arrival': 2897, 'duncan': 2898, 'petrochemical': 2899, 'fruitful': 2900, 'rotex': 2901, 'assemblies': 2902, 'agro': 2903, 'hingna': 2904, 'metal': 2905, 'fab': 2906, 'automotive': 2907, 'experiance': 2908, 'th': 2909, 'semister': 2910, 'nodejs': 2911, 'zhypility': 2912, 'hackthon': 2913, 'rome': 2914, 'nearby': 2915, 'kgp': 2916, 'posting': 2917, 'gst': 2918, 'headquartered': 2919, 'ecommerce': 2920, 'tidal': 2921, 'debugger': 2922, 'jaipur': 2923, 'orgnization': 2924, 'eg': 2925, 'yallaspree': 2926, 'railtiffin': 2927, 'olite': 2928, 'cycles': 2929, 'ignou': 2930, 'organising': 2931, 'essential': 2932, '45': 2933, 'cooling': 2934, 'emea': 2935, 'exercise': 2936, 'escalations': 2937, 'undertaken': 2938, 'standalone': 2939, 'latest': 2940, 'logins': 2941, 'timeline': 2942, 'notification': 2943, 'young': 2944, 'failed': 2945, 'teachers': 2946, 'segments': 2947, 'surfing': 2948, 'enhancing': 2949, 'centos': 2950, 'clusters': 2951, 'cloning': 2952, 'grow': 2953, 'logical': 2954, 'fortinet': 2955, 'jalgaon': 2956, 'hsbc': 2957, 'initiatives': 2958, 'bus': 2959, 'nutritionist': 2960, 'learnt': 2961, 'citi': 2962, 'players': 2963, 'captured': 2964, 'mutually': 2965, 'lifekonnect': 2966, 'centres': 2967, 'ordinating': 2968, 'palo': 2969, 'alto': 2970, 'ltm': 2971, '2960': 2972, 'airtel': 2973, '7education': 2974, 'w': 2975, 'multitasking': 2976, 'migrating': 2977, 'ios': 2978, 'ethernet': 2979, 'vlans': 2980, 'hopping': 2981, 'solve': 2982, 'prime': 2983, 'foot': 2984, 'refreshers': 2985, 'command': 2986, 'ordinator': 2987, 'screens': 2988, 'webservices': 2989, 'utilize': 2990, 'fault': 2991, 'outcomes': 2992, 'put': 2993, 'west': 2994, 'regards': 2995, 'agency': 2996, 'schemes': 2997, 'billion': 2998, 'bulk': 2999, 'mobilization': 3000, 'owned': 3001, 'sharjah': 3002, 'purchases': 3003, 'purposes': 3004, 'independently': 3005, 'suggest': 3006, 'structural': 3007, 'progressing': 3008, 'liaise': 3009, 'shivaji': 3010, 'correcting': 3011, 'operated': 3012, 'reliability': 3013, 'conventional': 3014, 'institutions': 3015, 'pyspark': 3016, 'churn': 3017, 'taken': 3018, 'heading': 3019, 'regions': 3020, 'assistance': 3021, 'participation': 3022, 'periodic': 3023, 'eta': 3024, 'portfolio': 3025, 'enquiry': 3026, 'awarded': 3027, 'develops': 3028, 'police': 3029, 'targeted': 3030, 'variation': 3031, 'piping': 3032, 'submittal': 3033, 'sybase': 3034, 'bayes': 3035, 'assisted': 3036, 'scratch': 3037, 'red': 3038, 'suite': 3039, 'integrator': 3040, 'expert': 3041, 'hpqc': 3042, 'extensive': 3043, 'thorough': 3044, 'medium': 3045, 'loans': 3046, 'equities': 3047, 'electronic': 3048, 'manuals': 3049, 'siemens': 3050, 'rs': 3051, 'moved': 3052, 'walkthroughs': 3053, 'mnu': 3054, 'seamlessly': 3055, 'scd2': 3056, 'transforms': 3057, 'mode': 3058, 'contents': 3059, 'password': 3060, 'ha': 3061, 'msc': 3062, 'logging': 3063, 'intermediate': 3064, 'honesty': 3065, 'shift': 3066, 'powerful': 3067, 'reliable': 3068, 'marital': 3069, 'deals': 3070, 'converting': 3071, 'sciences': 3072, 'chart': 3073, 'firm': 3074, 'graphs': 3075, 'mc': 3076, 'eplan': 3077, 'punjab': 3078, 'vidya': 3079, 'diagram': 3080, 'whole': 3081, 'prakash': 3082, 'workflows': 3083, 'official': 3084, 'exception': 3085, 'ethics': 3086, 'ensures': 3087, 'om': 3088, 'pas': 3089, 'bringing': 3090, 'output': 3091, 'voice': 3092, 'prototyping': 3093, 'iot': 3094, 'courts': 3095, 'passed': 3096, 'golden': 3097, 'suited': 3098, 'earliest': 3099, 'regex': 3100, 'ce': 3101, 'smec': 3102, 'thakur': 3103, 'http': 3104, 'reusable': 3105, 'downstream': 3106, 'declare': 3107, 'belief': 3108, 'organisational': 3109, 'discipline': 3110, 'softwares': 3111, 'qualifier': 3112, 'look': 3113, 'telephone': 3114, 'duty': 3115, 'pf': 3116, 'mi': 3117, 'pro': 3118, 'willingness': 3119, 'setups': 3120, 'skillset': 3121, 'enable': 3122, '97': 3123, '44': 3124, 'contacting': 3125, 'scan': 3126, 'odata': 3127, 'fi': 3128, 'pi': 3129, 'diabetes': 3130, 'kt': 3131, 'share': 3132, 'ise': 3133, 'steady': 3134, 'symantec': 3135, 'vmware': 3136, '84': 3137, 'bcp': 3138, 'advisor': 3139, 'totally': 3140, 'tour': 3141, 'many': 3142, 'craft': 3143, 'stop': 3144, 'supports': 3145, 'libraries': 3146, '100': 3147, 'e2e': 3148, 'exhibition': 3149, 'xampp': 3150, 'properties': 3151, 'handover': 3152, 'automatic': 3153, 'vip': 3154, 'researching': 3155, 'scanners': 3156, 'measurements': 3157, '000': 3158, 'juniors': 3159, 'vodafone': 3160, 'communicator': 3161, 'hospitality': 3162, 'mails': 3163, 'kurla': 3164, 'japan': 3165, 'datacenter': 3166, 'fire': 3167, 'ext': 3168, 'soapbox': 3169, 'gondia': 3170, 'hertz': 3171, 'aurangabad': 3172, 'firms': 3173, 'briefing': 3174, 'addition': 3175, 'carrier': 3176, 'airlines': 3177, 'ordinated': 3178, 'inventories': 3179, 'serving': 3180, 'exceptional': 3181, 'mec': 3182, 'technicalskills': 3183, 'springmvc': 3184, 'azureweb': 3185, 'suntechnologies': 3186, 'restapi': 3187, 'opensourcetechnologies': 3188, 'webservers': 3189, 'apachetomcatserver': 3190, 'internettechnologiesand': 3191, 'onesignalwebpushnotifications': 3192, 'azurewebservices': 3193, 'operatingsystem': 3194, 'windowsserver2012r2': 3195, 'winxp': 3196, 'sapkal': 3197, 'replete': 3198, 'showrooms': 3199, 'quantities': 3200, 'labour': 3201, 'studies': 3202, 'architects': 3203, 'rnn': 3204, 'technique': 3205, 'similarity': 3206, 'beautiful': 3207, 'kva': 3208, 'kirloskar': 3209, 'relays': 3210, 'sf6': 3211, 'circuit': 3212, 'transformer': 3213, 'battery': 3214, 'kw': 3215, 'contactor': 3216, 'intern': 3217, 'even': 3218, 'incentive': 3219, 'bluemix': 3220, 'emphasis': 3221, 'negative': 3222, 'committee': 3223, 'viability': 3224, 'guiding': 3225, 'notices': 3226, 'propose': 3227, 'attract': 3228, 'nafjan': 3229, 'abad': 3230, 'submittals': 3231, 'ofj': 3232, 'gulbarga': 3233, 'iii': 3234, 'kibana': 3235, 'expression': 3236, 'docker': 3237, 'category': 3238, 'question': 3239, 'unstructured': 3240, 'lecturer': 3241, 'cit': 3242, 'shubhankan': 3243, 'taught': 3244, 'practices': 3245, 'joins': 3246, 'netweaver': 3247, 'sd': 3248, 'mm': 3249, 'cs': 3250, 'scm': 3251, 'v10': 3252, 'doors': 3253, 'jformdesigner': 3254, 'd365': 3255, 'questionnaire': 3256, 'beyond': 3257, 'allcargo': 3258, 'salesperson': 3259, 'opportunity': 3260, 'consent': 3261, 'birth': 3262, 'listed': 3263, 'houses': 3264, 'achievement': 3265, 'wai': 3266, 'kisanveer': 3267, 'refcon': 3268, 'bidding': 3269, 'starters': 3270, 'postgressql': 3271, 'assets': 3272, 'profitability': 3273, 'metadata': 3274, 'trusted': 3275, 'era': 3276, 'executions': 3277, 'derby': 3278, 'debugged': 3279, 'confirm': 3280, 'alleviate': 3281, '32': 3282, 'placed': 3283, 'millions': 3284, 'collected': 3285, 'approve': 3286, 'reading': 3287, 'awr': 3288, 'expdp': 3289, 'speed': 3290, 'san': 3291, 'adaptability': 3292, 'parola': 3293, 'dist': 3294, 'weblogic': 3295, 'dataguard': 3296, 'beans': 3297, 'holy': 3298, 'scom': 3299, 'indira': 3300, 'participating': 3301, 'rca': 3302, 'dates': 3303, 'finder': 3304, 'org': 3305, 'samarth': 3306, 'exhibitions': 3307, 'prices': 3308, 'lstm': 3309, 'sps12': 3310, 'attribute': 3311, 'ds': 3312, 'almighty': 3313, 'wise': 3314, 'contributing': 3315, 'generic': 3316, 'representing': 3317, 'nordea': 3318, 'ax': 3319, 'introductory': 3320, 'atex': 3321, 'nfpa': 3322, 'iec': 3323, 'nec': 3324, 'sant': 3325, 'gajanan': 3326, 'maharaj': 3327, 'hazardous': 3328, 'outdoor': 3329, 'trench': 3330, 'duct': 3331, 'voltage': 3332, 'fm': 3333, 'machinery': 3334, 'father': 3335, 'hue': 3336, 'toubro': 3337, 'markets': 3338, 'tez': 3339, 'detect': 3340, 'optimum': 3341, 'sociology': 3342, 'sophia': 3343, 'applicants': 3344, 'grants': 3345, 'attractive': 3346, 'posters': 3347, 'publicity': 3348, 'leaflets': 3349, 'attracting': 3350, 'venue': 3351, 'complied': 3352, 'transmission': 3353, 'located': 3354, 'interviewees': 3355, 'selecting': 3356, 'presenters': 3357, 'recorded': 3358, 'copyrights': 3359, 'cleared': 3360, 'sonic': 3361, 'xs': 3362, 'robotics': 3363, 'preprocessing': 3364, 'llb': 3365, 'owner': 3366, 'glyphisoft': 3367, 'fund': 3368, 'indent': 3369, 'mailing': 3370, 'predict': 3371, 'internally': 3372, 'braindatawire': 3373, 'gcp': 3374, 'inception': 3375, 'seaborn': 3376, 'cufflinks': 3377, 'brief': 3378, 'sklearn': 3379, 'keras': 3380, '1993': 3381, 'pay': 3382, 'translation': 3383, 'return': 3384, 'matelabs': 3385, '42': 3386, 'martial': 3387, 'medals': 3388, 'conveyor': 3389, 'gauge': 3390, 'programing': 3391, 'ulhasnagar': 3392, 'hexaware': 3393, 'could': 3394, 'interviews': 3395, 'early': 3396, 'background': 3397, 'write': 3398, 'lab': 3399, 'iqvia': 3400, 'wqr': 3401, 'weblogic12c': 3402, 'webserver': 3403, 'geneva': 3404, 'preformed': 3405, 'staa': 3406, 'steering': 3407, 'matric': 3408, 'limits': 3409, 'gsk': 3410, 'instruction': 3411, 'geepas': 3412, 'remain': 3413, 'builders': 3414, 'trips': 3415, 'unravel': 3416, 'lineage': 3417, 'focus': 3418, 'stability': 3419, 'utilizations': 3420, 'benchmark': 3421, 'greenplum': 3422, 'ubc': 3423, 'wanted': 3424, 'mms': 3425, 'forms': 3426, 'boot': 3427, 'omegasoft': 3428, 'everywhere': 3429, 'schlumberger': 3430, 'hodoop': 3431, 'behavior': 3432, 'pfizer': 3433, 'ddr': 3434, 'fighting': 3435, 'ghatkopar': 3436, 'ymca': 3437, 'tie': 3438, 'specifically': 3439, 'complain': 3440, 'china': 3441, 'especially': 3442, 'owners': 3443, 'exceeded': 3444, 'aware': 3445, 'versions': 3446, 's3': 3447, 'incremental': 3448, 'weight': 3449, 'patients': 3450, 'pick': 3451, 'failure': 3452, 'scheduler': 3453, 'walchand': 3454, 'listening': 3455, 'fair': 3456, 'authorization': 3457, 'mutual': 3458, 'ldap': 3459, 'rhel': 3460, 'print': 3461, 'sccm': 3462, '350': 3463, 'zero': 3464, 'optimized': 3465, 'eliminated': 3466, 'browser': 3467, 'confluence': 3468, '79': 3469, 'eligible': 3470, 'linguistic': 3471, 'engagements': 3472, 'choice': 3473, 'conformance': 3474, 'suggestion': 3475, 'polices': 3476, 'meraki': 3477, 'creative': 3478, 'generally': 3479, 'raise': 3480, 'perspective': 3481, 'graphical': 3482, 'facilitate': 3483, 'prioritizing': 3484, 'frequent': 3485, 'fundamentals': 3486, 'wealth': 3487, 'edge': 3488, 'inbuilt': 3489, 'grasping': 3490, 'annotations': 3491, 'ie': 3492, 'sage': 3493, 'lm': 3494, 'wms': 3495, '050education': 3496, 'landmarkgroup': 3497, 'turnover': 3498, '2200': 3499, 'cr': 3500, 'cheque': 3501, 'correctly': 3502, 'underwriting': 3503, 'costings': 3504, 'followups': 3505, 'trippereri': 3506, 'travels': 3507, 'looked': 3508, 'vish': 3509, 'distributor': 3510, 'amenities': 3511, 'incharge': 3512, 'overlooking': 3513, 'cha': 3514, 'quickest': 3515, 'adhered': 3516, 'rebates': 3517, 'availed': 3518, 'exim': 3519, 'satisfied': 3520, 'obstacles': 3521, 'faced': 3522, 'smoothened': 3523, 'hassel': 3524, 'paybles': 3525, 'manufacture': 3526, 'shortfalls': 3527, 'fze': 3528, 'sophisticated': 3529, 'revenues': 3530, 'excess': 3531, 'eur': 3532, 'annually': 3533, 'acquire': 3534, 'economical': 3535, 'eye': 3536, 'negotiate': 3537, 'charges': 3538, 'americas': 3539, 'snag': 3540, 'loopholes': 3541, 'deadline': 3542, 'transporters': 3543, 'clearances': 3544, 'transportation': 3545, 'loss': 3546, 'european': 3547, 'curtail': 3548, 'wastages': 3549, 'disposal': 3550, 'retired': 3551, 'distributions': 3552, 'receipt': 3553, 'affecting': 3554, 'punctuality': 3555, 'vacation': 3556, 'expired': 3557, 'aligned': 3558, 'procuring': 3559, 'registrations': 3560, 'factories': 3561, 'picking': 3562, 'packing': 3563, 'aed': 3564, 'sabic': 3565, 'discrepancy': 3566, 'stocking': 3567, 'abridged': 3568, 'decrease': 3569, 'turnaround': 3570, 'kuehne': 3571, 'nagel': 3572, 'seafreight': 3573, 'airfreight': 3574, 'overland': 3575, 'negotiated': 3576, 'routes': 3577, 'carriers': 3578, 'essayed': 3579, 'nations': 3580, 'marriot': 3581, 'hilton': 3582, 'movements': 3583, 'far': 3584, 'amman': 3585, 'exit': 3586, 'grievances': 3587, 'courrier': 3588, 'wholly': 3589, 'dpwn': 3590, 'deutsche': 3591, 'ountholders': 3592, 'tracing': 3593, 'undelivered': 3594, 'paperworks': 3595, 'warrants': 3596, 'wns': 3597, 'airlink': 3598, 'jebel': 3599, 'ali': 3600, 'barge': 3601, 'loadouts': 3602, 'adhering': 3603, 'dispatching': 3604, 'reorder': 3605, 'par': 3606, 'radiators': 3607, 'coolers': 3608, 'exchangers': 3609, 'circulating': 3610, 'memos': 3611, 'petty': 3612, 'cashiering': 3613, 'campaigns': 3614, 'escalationseducation': 3615, 'icfai': 3616, 'eliminate': 3617, 'controllership': 3618, 'reengineering': 3619, 'charter': 3620, 'ud': 3621, 'sops': 3622, 'impacted': 3623, 'teleperformance': 3624, 'exploring': 3625, 'preferences': 3626, 'conceptualizing': 3627, 'batch': 3628, 'joiners': 3629, 'barging': 3630, 'adhoc': 3631, '90': 3632, 'universal': 3633, 'sky': 3634, 'inform': 3635, 'integrity': 3636, 'practical': 3637, 'subjects': 3638, 'ai': 3639, 'comfort': 3640, 'tag': 3641, 'faculty': 3642, 'enabling': 3643, '24x7': 3644, 'students': 3645, 'likely': 3646, '40': 3647, 'vinayaka': 3648, 'missions': 3649, 'worth': 3650, 'advisors': 3651, 'bs': 3652, 'collects': 3653, '218': 3654, 'brooklyn': 3655, 'pittsburgh': 3656, 'syracuse': 3657, 'collateral': 3658, 'apac': 3659, 'fiserv': 3660, 'firre': 3661, 'tasked': 3662, 'unbilled': 3663, 'resumption': 3664, 'defense': 3665, 'ountability': 3666, 'ore': 3667, 'ordingly': 3668, 'green': 3669, 'eap': 3670, 'underperforming': 3671, 'semiannual': 3672, 'cut': 3673, 'hire': 3674, 'brainshark': 3675, 'encourage': 3676, 'competitive': 3677, 'play': 3678, 'conceptualized': 3679, 'funneling': 3680, 'breakdowns': 3681, 'toll': 3682, 'esses': 3683, 'differentiate': 3684, 'paths': 3685, 'rotation': 3686, 'recognitions': 3687, 'ais': 3688, 'bds': 3689, 'custodian': 3690, 'trustee': 3691, 'paying': 3692, 'registrar': 3693, 'billed': 3694, 'invoiced': 3695, 'mailboxes': 3696, 'equal': 3697, 'spreadsheets': 3698, 'designated': 3699, 'actioned': 3700, 'handoff': 3701, 'counterparts': 3702, 'sigma': 3703, 'ones': 3704, 'corp': 3705, 'tieriii': 3706, 'compiled': 3707, 'stb': 3708, 'flip': 3709, 'span': 3710, 'article': 3711, '29th': 3712, 'customizes': 3713, 'satisfy': 3714, '500': 3715, 'walking': 3716, 'interim': 3717, 'concerning': 3718, 'refunds': 3719, 'credits': 3720, 'queues': 3721, 'intervening': 3722, 'delayed': 3723, 'deriving': 3724, 'hurdles': 3725, 'improvise': 3726, 'expeditious': 3727, 'additions': 3728, 'commonly': 3729, 'urring': 3730, 'motivation': 3731, 'nominated': 3732, 'gecis': 3733, 'lending': 3734, 'leasing': 3735, 'outbound': 3736, 'credibility': 3737, 'absence': 3738, 'secretary': 3739, 'thermal': 3740, 'workers': 3741, 'forest': 3742, 'reduced': 3743, 'overview': 3744, 'indexing': 3745, 'character': 3746, 'pp': 3747, 'dietetics': 3748, 'instructor': 3749, 'dental': 3750, 'tortoise': 3751, 'respect': 3752, 'twice': 3753, 'partner': 3754, 'arrangement': 3755, 'webdriver': 3756, 'aptech': 3757, 'arya': 3758, 'storm': 3759, 'ice': 3760, 'groomed': 3761, '2900s': 3762, 'catalyst': 3763, 'exec': 3764, '12d': 3765, 'cloudatix': 3766, 'wifi': 3767, 'asha': 3768, 'mmpc': 3769, 'mp': 3770, 'laptop': 3771, 'computerized': 3772, 'ministry': 3773, 'ept': 3774, 'reverse': 3775, 'kendoui': 3776, 'gujarat': 3777, 'mrs': 3778, 'cpro': 3779, 'xtraction': 3780, 'rkims': 3781, 'bench': 3782, 'aspiration': 3783, 'crunch': 3784, 'wfm': 3785, 'trended': 3786, 'nld': 3787, 'elevate': 3788, 'trb': 3789, 'te': 3790, 'wims': 3791, 'sims': 3792, 'impacting': 3793, 'coordinates': 3794, 'bu': 3795, 'distribute': 3796, 'ratios': 3797, 'seat': 3798, 'pwd': 3799, 'dob': 3800, '1986': 3801, 'awvpb7123n': 3802, 'passport': 3803, 'j1409038': 3804, 'kannada': 3805, 'konkani': 3806, 'married': 3807, 'bmn': 3808, 'promoter': 3809, 'ugc': 3810, 'diet': 3811, 'comfortable': 3812, 'analysing': 3813, 'swift': 3814, 'individually': 3815, 'notice': 3816, 'expense': 3817, 'golds': 3818, 'combines': 3819, 'geo': 3820, 'expenditure': 3821, 'niketan': 3822, 'schneider': 3823, 'charge': 3824, 'anaconda': 3825, 'jupyter': 3826, 'wellness': 3827, 'viamedia': 3828, 'maternal': 3829, 'nutritional': 3830, 'gaia': 3831, 'balancers': 3832, 'hcl': 3833, 'comnet': 3834, 'rsa': 3835, '4500': 3836, 'deltannex': 3837, 'integrators': 3838, 'outlays': 3839, 'fostering': 3840, 'teamwork': 3841, 'prioritization': 3842, 'complying': 3843, 'compilation': 3844, 'waivers': 3845, 'concessions': 3846, 'approving': 3847, 'mrn': 3848, 'closeout': 3849, 'constant': 3850, 'earlier': 3851, 'ev': 3852, 'variances': 3853, 'biweekly': 3854, 'adheres': 3855, 'ordinates': 3856, 'tqs': 3857, 'revisions': 3858, 'revision': 3859, 'seoul': 3860, 'south': 3861, 'jas': 3862, 'pc': 3863, 'ja': 3864, 'concerns': 3865, 'sides': 3866, 'invitation': 3867, 'ccvi': 3868, 'permits': 3869, 'teleconference': 3870, 'epc': 3871, 'tbes': 3872, 'fgp': 3873, 'wpmp': 3874, 'tco': 3875, 'mustang': 3876, 'sta': 3877, 'ing': 3878, 'grain': 3879, 'cbi': 3880, 'tanker': 3881, 'miscellaneous': 3882, 'cord': 3883, 'appreciations': 3884, 'mx8800': 3885, 'ccr1': 3886, 'offsites': 3887, 'enppi': 3888, 'ethydco': 3889, 'ethylene': 3890, '2nos': 3891, 'doubts': 3892, 'abu': 3893, 'dhabi': 3894, 'plant6': 3895, 'ml200': 3896, 'tunnel': 3897, 'chevron': 3898, 'oronite': 3899, 'singapore': 3900, 'hmiweb': 3901, '66': 3902, 'noticed': 3903, 'tgi': 3904, 'modernization': 3905, 'kh': 3906, 'nederland': 3907, 'raffinaderji': 3908, 'amsterdam': 3909, 'hg': 3910, 'cmpi': 3911, 'coil': 3912, 'balancing': 3913, 'strategically': 3914, 'ountable': 3915, 'contingency': 3916, 'advises': 3917, 'adopt': 3918, 'freeze': 3919, 'iron': 3920, 'ambiguities': 3921, 'please': 3922, 'annexure': 3923, 'enercon': 3924, 'inverter': 3925, 'converter': 3926, 'igbts': 3927, 'thyristors': 3928, 'arrive': 3929, 'dance': 3930, 'formerly': 3931, 'introduction': 3932, 'focused': 3933, 'keeps': 3934, 'join': 3935, 'conversation': 3936, 'officeeducation': 3937, 'udemy': 3938, 'maths': 3939, 'belt': 3940, 'alarm': 3941, 'fanuc': 3942, 'produce': 3943, 'associates': 3944, 'subnetting': 3945, 'supernetting': 3946, 'lans': 3947, 'snooping': 3948, 'aaa': 3949, 'bgp': 3950, 'telemetary': 3951, 'fan': 3952, 'sem': 3953, 'simply': 3954, 'senses': 3955, 'moisture': 3956, 'mahatma': 3957, 'acls': 3958, 'rip': 3959, 'bt': 3960, 'synthesize': 3961, 'ification': 3962, 'macros': 3963, 'paced': 3964, 'particularly': 3965, 'formulae': 3966, 'pivots': 3967, 'saints': 3968, 'prudential': 3969, 'multiclient': 3970, 'pheonix': 3971, 'glasgow': 3972, 'transitioned': 3973, 'pmos': 3974, 'robust': 3975, 'saviant': 3976, 'seasoned': 3977, 'supportive': 3978, 'allowed': 3979, 'imaginative': 3980, 'budgeted': 3981, 'dollars': 3982, 'collate': 3983, 'outliers': 3984, 'tl': 3985, 'influence': 3986, 'yearly': 3987, 'publish': 3988, 'sikuli': 3989, 'reality': 3990, 'operate': 3991, 'sculpt': 3992, 'demonstrated': 3993, 'centric': 3994, 'deft': 3995, 'delinquencies': 3996, 'dexterity': 3997, 'recoveries': 3998, 'bottom': 3999, 'quartile': 4000, 'relate': 4001, 'verticals': 4002, 'measuring': 4003, 'measured': 4004, 'appropriately': 4005, 'ctl': 4006, 'amex': 4007, 'tid': 4008, 'oceans': 4009, '73': 4010, 'pins': 4011, 'chargeback': 4012, 'replied': 4013, 'bankers': 4014, 'stringent': 4015, 'premises': 4016, 'aforesaid': 4017, 'determining': 4018, 'retain': 4019, 'ags': 4020, 'transact': 4021, 'atms': 4022, 'vertex': 4023, 'con': 4024, 'inclusion': 4025, 'cascading': 4026, 'inward': 4027, 'outward': 4028, 'foi': 4029, 'snail': 4030, 'body': 4031, 'cum': 4032, 'healthy': 4033, 'utm': 4034, 'suit': 4035, 'dallas': 4036, 'wcf': 4037, '3600': 4038, 'collaborator': 4039, 'variety': 4040, 'ies': 4041, 'ips': 4042, 'creates': 4043, 'participants': 4044, 'pattern': 4045, 'eco': 4046, 'identity': 4047, 'shop': 4048, 'iis': 4049, 'ssms': 4050, 'snapshot': 4051, 'packs': 4052, 'refresh': 4053, 'consistency': 4054, 'blocking': 4055, 'slow': 4056, 'ernst': 4057, 'helped': 4058, 'memory': 4059, 'viewer': 4060, 'obtained': 4061, 'involvement': 4062, 'notes': 4063, 'nettech': 4064, '12k': 4065, 'movie': 4066, 'epi': 4067, 'charni': 4068, 'consolidated': 4069, 'exporting': 4070, 'connect': 4071, 'temporary': 4072, 'schedulers': 4073, 'ids': 4074, 'tnsnames': 4075, 'addm': 4076, 'impdp': 4077, 'bse': 4078, 'disaster': 4079, 'tds': 4080, 'distance': 4081, 'desktop': 4082, 'omplishments': 4083, 'schemas': 4084, 'netezza': 4085, 'bots': 4086, 'clinics': 4087, '63': 4088, 'sanity': 4089, 'economics': 4090, 'text2': 4091, 'codeigniter': 4092, 'augest': 4093, 'pragat': 4094, 'diifernt': 4095, 'ayur': 4096, 'ayurveda': 4097, 'traditionally': 4098, 'classical': 4099, 'ayurvedic': 4100, 'vitsanindia': 4101, 'shooping': 4102, 'iv': 4103, 'mahabaleshwartours': 4104, 'cityspaceindia': 4105, 'vi': 4106, 'fruitsbuddy': 4107, 'fruitbuddy': 4108, 'guaranteed': 4109, 'vii': 4110, 'totalcitee': 4111, 'visitors': 4112, 'viii': 4113, 'golchha': 4114, 'mariadb': 4115, 'challenging': 4116, 'garments': 4117, 'exploratory': 4118, 'bills': 4119, 'telerik': 4120, 'speaker': 4121, 'gender': 4122, 'relating': 4123, 'crash': 4124, 'things': 4125, 'raspberry': 4126, 'rack': 4127, 'pertaining': 4128, 'netbackup': 4129, 'academia': 4130, 'sgbau': 4131, 'manipal': 4132, 'awards': 4133, 'rolled': 4134, 'mysql5': 4135, 'developement': 4136, 'innovesta': 4137, 'priyadarshini': 4138, 'conferring': 4139, 'understood': 4140, 'incorporate': 4141, 'nitka': 4142, 'mintmetrix': 4143, 'tagline': 4144, 'videos': 4145, 'smartbadge': 4146, 'shreekiaspack': 4147, '3staragroproducts': 4148, 'luckystationery': 4149, 'logos': 4150, 'brochures': 4151, 'banners': 4152, 'pamphlet': 4153, 'hoardings': 4154, 'diagnosis': 4155, 'mini': 4156, 'drf': 4157, 'sqlite': 4158, 'managent': 4159, 'bamu': 4160, 'sqlit3': 4161, 'collectively': 4162, 'switched': 4163, 'example': 4164, 'templates': 4165, 'templating': 4166, 'navigation': 4167, 'pymysql': 4168, 'crud': 4169, 'routines': 4170, 'navigations': 4171, 'paginations': 4172, 'sqlalchemy': 4173, 'restfull': 4174, 'mvt': 4175, 'estimate': 4176, 'fs': 4177, 'ts': 4178, 'utp': 4179, 'ptf': 4180, 'a2': 4181, 'goethe': 4182, 'maples': 4183, 'rpgle': 4184, '6th': 4185, 'cache': 4186, 'memoization': 4187, 'pws': 4188, 'query400': 4189, 'subfiles': 4190, 'printer': 4191, 'buildcon': 4192, 'exterior': 4193, 'apartments': 4194, 'villas': 4195, 'investigations': 4196, 'evaluated': 4197, 'supervisors': 4198, 'vidisha': 4199, 'leaning': 4200, 'nltk': 4201, 'cosine': 4202, 'starter': 4203, 'mostly': 4204, 'visualize': 4205, 'faces': 4206, 'tweets': 4207, 'whether': 4208, 'neutral': 4209, 'enthusiast': 4210, 'missing': 4211, 'preferred': 4212, 'minimum': 4213, 'trend': 4214, 'interests': 4215, 'tournament': 4216, 'thee': 4217, 'volunteer': 4218, 'tricks': 4219, 'moledina': 4220, '104': 4221, 'f2': 4222, 'applauded': 4223, 'ranked': 4224, 'superior': 4225, 'honoree': 4226, 'thereby': 4227, 'discount': 4228, 'sns': 4229, 'holder': 4230, 'powertech': 4231, 'dammam': 4232, 'saudi': 4233, 'approved': 4234, 'mmrda': 4235, 'chok': 4236, 'scipy': 4237, 'embedding': 4238, 'dimensionality': 4239, 'lda': 4240, 'nmf': 4241, 'visualizations': 4242, 'd3': 4243, 'tar': 4244, 'evidence': 4245, 'chatbot': 4246, 'meta': 4247, 'preforming': 4248, 'investigative': 4249, 'jsf': 4250, 'workbench': 4251, 'redshift': 4252, 'athena': 4253, 'kochi': 4254, 'francis': 4255, 'tjdbcconfiguration': 4256, 'tjdbcinput': 4257, 'thdfsconfiguration': 4258, 'ts3configuration': 4259, 'tcacheout': 4260, 'tcachein': 4261, 'tfileinputdelimited': 4262, 'tfileoutputdelimited': 4263, 'tjoin': 4264, 'treplicate': 4265, 'tparallelize': 4266, 'tconverttype': 4267, 'taggregate': 4268, 'tsortrow': 4269, 'tflowmeter': 4270, 'tlogcatcher': 4271, 'trowgenerator': 4272, 'tjava': 4273, 'tjavarow': 4274, 'taggregaterow': 4275, 'tfilter': 4276, 'naming': 4277, 'joblets': 4278, 'trunjob': 4279, 'pass': 4280, 'expressions': 4281, 'implicit': 4282, 'variables': 4283, 'counts': 4284, 'tparalleize': 4285, 'thread': 4286, 'subjobs': 4287, 'parallel': 4288, 'increases': 4289, 'tfilelist': 4290, 'ts3put': 4291, 'tftput': 4292, 'tfileexist': 4293, 'tftpconnection': 4294, 'flatfiles': 4295, 'variable': 4296, 'profound': 4297, 'ale': 4298, 'idoc': 4299, 'ewm': 4300, 'apo': 4301, '4hana': 4302, 'proficiencies': 4303, 'fedora': 4304, 'cent': 4305, 'ryk': 4306, 'boards': 4307, 'markup': 4308, 'glassfish': 4309, 'jharnet': 4310, 'elementary': 4311, 'addressing': 4312, 'lease': 4313, 'osi': 4314, 'customize': 4315, 'byte': 4316, 'doc': 4317, 'explore': 4318, 'litecoin': 4319, 'p2p': 4320, 'lavisa': 4321, 'manageable': 4322, 'adhar': 4323, 'dapp': 4324, 'technicalproficiencies': 4325, 'domains': 4326, 'headquarters': 4327, 'operates': 4328, 'investments': 4329, 'securities': 4330, 'bonds': 4331, 'fx': 4332, 'modelers': 4333, 'cfoc': 4334, 'infa': 4335, 'powercenter': 4336, 'jun': 4337, 'advertisement': 4338, 'courter': 4339, 'egc': 4340, 'suffice': 4341, 'belonging': 4342, 'rejection': 4343, 'cognos': 4344, 'mart': 4345, 'niche': 4346, 'casualty': 4347, 'documented': 4348, 'uploaded': 4349, 'ver': 4350, 'btech': 4351, 'willingdon': 4352, 'martin': 4353, 'yashwantrao': 4354, 'chavan': 4355, 'hgs': 4356, '16th': 4357, 'retaing': 4358, 'casa': 4359, 'shopkeeper': 4360, 'signup': 4361, 'mahal': 4362, '04th': 4363, 'gegenerat': 4364, 'bunglows': 4365, 'plots': 4366, 'bookmyflat': 4367, 'abb': 4368, 'started': 4369, '06th': 4370, 'fruit': 4371, 'liabrary': 4372, 'matplolib': 4373, 'ountabilities': 4374, 'testability': 4375, 'liabray': 4376, 'tk': 4377, 'dyanamics': 4378, 'acquired': 4379, 'bancs': 4380, 'los': 4381, 'credence': 4382, 'scd1': 4383, 'sever': 4384, 'preserving': 4385, 'sdk': 4386, 'wdeploy': 4387, 'separate': 4388, 'vintela': 4389, 'sso': 4390, 'clock': 4391, 'chess': 4392, 'rubik': 4393, 'cube': 4394, 'jspm': 4395, 'jayawantrao': 4396, 'sawant': 4397, 'productively': 4398, 'wallets': 4399, 'alterations': 4400, 'checked': 4401, 'bit': 4402, 'bucket': 4403, 'ins': 4404, 'combined': 4405, 'rescheduling': 4406, 'ejb': 4407, 'centralized': 4408, 'restoring': 4409, 'interval': 4410, 'certifications': 4411, 'weekends': 4412, 'oop': 4413, 'linq': 4414, 'kendo': 4415, 'politician': 4416, 'trainee': 4417, 'fees': 4418, 'marks': 4419, 'expiry': 4420, 'otherwise': 4421, 'ni': 4422, 'lux': 4423, 'bachelors': 4424, 'adoption': 4425, 'sdnbvc': 4426, 'anything': 4427, 'throttle': 4428, 'race': 4429, 'stepcone': 4430, 'contest': 4431, 'gmr': 4432, 'instiute': 4433, 'pal': 4434, 'deloitte': 4435, 'usi': 4436, 'sentence': 4437, 'correction': 4438, 'restructuring': 4439, 'fmcg': 4440, 'decomposition': 4441, 'bobj': 4442, 'segmentation': 4443, 'rfm': 4444, 'python3': 4445, 'verifying': 4446, 'closed': 4447, 'kpis': 4448, 'functionalities': 4449, 'swing': 4450, 'gross': 4451, 'counterpart': 4452, 'workaround': 4453, 'prompt': 4454, 'delay': 4455, 'weather': 4456, 'suggested': 4457, 'mainly': 4458, 'sec': 4459, 'ramesh': 4460, 'gaarment': 4461, 'tirupur': 4462, 'ul': 4463, 'petroleum': 4464, 'boiler': 4465, 'mould': 4466, 'alamuri': 4467, 'ratnamala': 4468, 'rajdevi': 4469, 'maharshtra': 4470, '1year': 4471, 'surya': 4472, 'wall': 4473, 'perhaps': 4474, 'ideally': 4475, 'rendering': 4476, 'easier': 4477, 'effortless': 4478, 'mortar': 4479, 'detais': 4480, 'gyandatt': 4481, 'chauhan': 4482, 'integrating': 4483, 'poi': 4484, 'white': 4485, 'globalization': 4486, 'compatibility': 4487, 'stlc': 4488, 'retesting': 4489, 'ess2007': 4490, 'valuable': 4491, 'bcs': 4492, 'fromjspm': 4493, 'smes': 4494, 'approaches': 4495, 'essibility': 4496, 'briefings': 4497, 'advice': 4498, 'kindo': 4499, 'satara': 4500, 'esd': 4501, 'employability': 4502, 'jscoe': 4503, 'sparkle': 4504, 'avishkar': 4505, 'sponsorship': 4506, 'platinum': 4507, 'enfield': 4508, 'rank': 4509, 'poster': 4510, 'ambulance': 4511, 'arduino': 4512, 'skncoe': 4513, 'competitions': 4514, 'pict': 4515, 'opencv': 4516, 'pil': 4517, 'native': 4518, 'trials': 4519, 'chandigarh': 4520, 'trial': 4521, 'super': 4522, 'convincing': 4523, 'dependability': 4524, 'taxing': 4525, 'demanding': 4526, 'reasonably': 4527, 'stretchable': 4528, 'slots': 4529, 'cooperatively': 4530, 'shope': 4531, 'telle': 4532, 'caller': 4533, 'finserv': 4534, 'square': 4535, 'know': 4536, 'optimistic': 4537, 'teamleader': 4538, 'visualizing': 4539, 'grip': 4540, 'loyal': 4541, 'compatible': 4542, 'amity': 4543, 'cohesive': 4544, 'entrepreneur': 4545, 'rayat': 4546, 'bahra': 4547, 'biotechnology': 4548, 'bhawana': 4549, 'aggarwal': 4550, 'bias': 4551, 'vector': 4552, 'unsupervised': 4553, 'reinforcement': 4554, 'google': 4555, 'laterally': 4556, 'reusability': 4557, '78': 4558, 'harnesses': 4559, 'artificial': 4560, 'cognitive': 4561, 'comprises': 4562, 'reasoning': 4563, 'entailed': 4564, 'monster': 4565, 'answered': 4566, 'alll1': 4567, 'nlu': 4568, 'classifications': 4569, 'predicting': 4570, 'mnb': 4571, 'bidirectional': 4572, 'notifications': 4573, 'outlier': 4574, 'nallasopara': 4575, 'encharge': 4576, 'near': 4577, 'casting': 4578, 'concrete': 4579, 'manpower': 4580, 'passionate': 4581, 'andhra': 4582, 'defence': 4583, 'litigation': 4584, 'atharva': 4585, 'datamites': 4586, 'manipulating': 4587, 'visualforce': 4588, 'streaming': 4589, 'steaming': 4590, 'drowsiness': 4591, 'detects': 4592, 'drowsy': 4593, 'condition': 4594, 'sanghavi': 4595, 'shree': 4596, 'mahavir': 4597, 'meri': 4598, 'pursuing': 4599, 'anantrao': 4600, 'pawar': 4601, 'cybage': 4602, 'want': 4603, 'gain': 4604, 'kanban': 4605, 'extreme': 4606, 'fdd': 4607, 'modular': 4608, 'runner': 4609, 'bugzilla': 4610, 'tcp': 4611, 'https': 4612, '109': 4613, '69': 4614, 'discussed': 4615, 'explained': 4616, 'changing': 4617, 'published': 4618, 'epics': 4619, 'grooming': 4620, 'stand': 4621, 'retrospective': 4622, 'came': 4623, 'controlflash': 4624, 'comparetool': 4625, 'fda': 4626, 'initiating': 4627, 'guided': 4628, 'descriptive': 4629, 'scenario': 4630, 'hdfc': 4631, 'vistaar': 4632, 'referred': 4633, 'sanitary': 4634, 'v2002': 4635, 'intio': 4636, 'yee': 4637, 'football': 4638, 'travelling': 4639, 'factual': 4640, 'manish': 4641, 'prabhakar': 4642, 'bharati': 4643, 'vidyapeeth': 4644, 'khalsa': 4645, 'datastage': 4646, 'infocomm': 4647, 'havevbeen': 4648, '3years': 4649, 'springernature': 4650, 'akzonobel': 4651, 'psychology': 4652, 'malappuram': 4653, 'ray': 4654, 'glaxo': 4655, 'smith': 4656, 'kline': 4657, 'usd': 4658, 'effluent': 4659, 'method': 4660, 'certificates': 4661, 'observations': 4662, 'assuring': 4663, 'gulf': 4664, 'contracting': 4665, 'inspections': 4666, 'satisfactory': 4667, 'pertinent': 4668, 'dahej': 4669, 'importer': 4670, 'tons': 4671, 'ites': 4672, 'directed': 4673, 'mgmt': 4674, 'alternatives': 4675, 'amendment': 4676, 'plotting': 4677, 'bought': 4678, 'thumb': 4679, 'realistic': 4680, 'databanks': 4681, 'readily': 4682, 'dept': 4683, 'submitting': 4684, 'pending': 4685, 'concern': 4686, 'pain': 4687, 'tailor': 4688, 'predesigned': 4689, 'chemtronics': 4690, 'commercially': 4691, 'viable': 4692, 'savings': 4693, 'finalization': 4694, 'comparisons': 4695, 'digitize': 4696, 'incoming': 4697, 'note': 4698, 'buying': 4699, 'finders': 4700, 'ask': 4701, 'quote': 4702, 'substantial': 4703, 'expenditures': 4704, 'dombivali': 4705, 'kaylan': 4706, 'pneumatics': 4707, 'comparing': 4708, 'schrader': 4709, 'modify': 4710, 'assy': 4711, 'assure': 4712, 'conformity': 4713, 'nc': 4714, 'touch': 4715, 'hods': 4716, 'iso9001': 4717, 'dealers': 4718, 'hoist': 4719, 'lifts': 4720, 'joist': 4721, 'mech': 4722, 'rabale': 4723, 'thane': 4724, 'mukand': 4725, 'marking': 4726, 'machining': 4727, 'surface': 4728, 'finishing': 4729, 'syllabus': 4730, 'mscit': 4731, 'milling': 4732, 'honest': 4733, 'criculum': 4734, 'adani': 4735, 'suzuki': 4736, 'jet': 4737, 'airways': 4738, 'rd': 4739, 'seen': 4740, 'jsw': 4741, 'urja': 4742, 'assembly': 4743, 'disassembly': 4744, 'nd': 4745, 'punching': 4746, 'paddle': 4747, 'sugarcane': 4748, 'juicer': 4749, 'vessel': 4750, 'condenser': 4751, 'khadakwasla': 4752, 'laboratory': 4753, 'harbor': 4754, 'goa': 4755, 'bangladesh': 4756, 'maker': 4757, 'servo': 4758, 'axial': 4759, 'piston': 4760, 'cwprs': 4761, 'v5': 4762, 'proe': 4763, 'curricular': 4764, 'coordinator': 4765, 'readiness': 4766, 'atributes': 4767, 'corda': 4768, 'tendermint': 4769, 'specilaized': 4770, 'reactjs': 4771, 'angulareducation': 4772, 'blood': 4773, 'vidyashram': 4774, 'une': 4775, 'amway': 4776, 'bharti': 4777, 'scholar': 4778, 'tor': 4779, 'vergata': 4780, 'journal': 4781, 'ijar': 4782, '20656': 4783, 'reviewer': 4784, 'revolutionizing': 4785, 'ijsrd': 4786, 'maharastra': 4787, 'interns': 4788, 'drums': 4789, 'positron': 4790, 'equality': 4791, 'violence': 4792, 'saral': 4793, 'starting': 4794, 'gratuity': 4795, 'navshar': 4796, 'navnirman': 4797, 'festival': 4798, 'none': 4799, 'guru': 4800, 'nanak': 4801, 'emperor': 4802, 'cars': 4803, 'sportsmen': 4804, 'tournaments': 4805, 'planviz': 4806, 'sda': 4807, 'fujitsu': 4808, 'modifying': 4809, 'donald': 4810, 'sincere': 4811, 'rlt': 4812, 'maharashatra': 4813, 'extc': 4814, 'vashi': 4815, 'fr': 4816, 'agnel': 4817, 'eligibility': 4818, 'enrollment': 4819, 'aggregator': 4820, 'normalizer': 4821, 'sorter': 4822, 'corresponding': 4823, 'figure': 4824, 'membership': 4825, 'kudos': 4826, 'values': 4827, 'golang': 4828, 'culturally': 4829, 'fit': 4830, 'microservices': 4831, 'consensuseducation': 4832, 'malaviya': 4833, 'kolhapur': 4834, 'tradefinex': 4835, 'registry': 4836, 'mh': 4837, 'infactor': 4838, 'factoring': 4839, 'erc': 4840, 'oro': 4841, 'orowealth': 4842, 'commision': 4843, 'mf': 4844, '22k': 4845, 'cakephp': 4846, 'passengers': 4847, 'customisation': 4848, 'endpoints': 4849, 'opencart': 4850, 'ka': 4851, 'birst': 4852, 'utilising': 4853, 'ties': 4854, 'maximum': 4855, 'explaining': 4856, 'drill': 4857, 'typical': 4858, 'ssrs': 4859, 'predefined': 4860, 'niit': 4861, 'sizes': 4862, 'varying': 4863, 'backgrounds': 4864, 'ooad': 4865, 'rms': 4866, 'north': 4867, 'soa': 4868, 'ao': 4869, 'introduced': 4870, 'depth': 4871, 'flexible': 4872, 'gets': 4873, 'performs': 4874, 'arrangements': 4875, 'phases': 4876, 'manually': 4877, 'decommissioning': 4878, 'requested': 4879, 'pg': 4880, 'pac': 4881, 'forge': 4882, 'amazon': 4883, 'cgpa': 4884, 'label': 4885, 'aditya': 4886, 'acting': 4887, '9i': 4888, '600': 4889, 'cutover': 4890, 'devising': 4891, 'exceleducation': 4892, 'manoharbhai': 4893, 'patel': 4894, 'resrent': 4895, 'portfolios': 4896, 'hit': 4897, 'interfaces': 4898, 'ucs': 4899, 'debug': 4900, 'effect': 4901, 'multifunctional': 4902, 'programmers': 4903, '625': 4904, 'diesel': 4905, 'provision': 4906, 'interlocking': 4907, 'vacuum': 4908, '5000': 4909, '2000a': 4910, 'wtp': 4911, 'blower': 4912, 'eot': 4913, 'crane': 4914, 'mono': 4915, 'rail': 4916, 'centrifugal': 4917, 'pumps': 4918, 'rolling': 4919, 'lath': 4920, 'ahu': 4921, 'chiller': 4922, 'charger': 4923, '450': 4924, '110v': 4925, 'resetting': 4926, 'factor': 4927, '55': 4928, 'submersible': 4929, 'auxiliary': 4930, 'effecting': 4931, 'uptime': 4932, '33': 4933, '22kv': 4934, 'feeder': 4935, '11kv': 4936, 'maint': 4937, 'aspect': 4938, 'familiar': 4939, 'lockout': 4940, 'permit': 4941, 'protective': 4942, 'ident': 4943, 'highly': 4944, 'progressive': 4945, 'sultan': 4946, 'slipstream': 4947, 'grant': 4948, 'archive': 4949, 'smsql': 4950, 'deletion': 4951, 'shrinking': 4952, 'entries': 4953, 'spent': 4954, '07education': 4955, 'artist': 4956, 'atd': 4957, 'bfa': 4958, 'mfa': 4959, 'rangoli': 4960, 'summer': 4961, 'disability': 4962, 'orthopedically': 4963, 'infrasoft': 4964, 'detector': 4965, 'deduplication': 4966, 'pointers': 4967, 'oot': 4968, 'pps': 4969, 'ias': 4970, 'cipher': 4971, 'dated': 4972, 'customization': 4973, 'citrix': 4974, 'v9': 4975, 'artifact': 4976, 'vlsi': 4977, '75': 4978, 'frds': 4979, 'walkthrough': 4980, 'assess': 4981, 'importers': 4982, 'exporters': 4983, 'scoring': 4984, 'assessed': 4985, 'certain': 4986, 'brds': 4987, 'fsds': 4988, 'bureau': 4989, 'discontinued': 4990, 'schenker': 4991, 'impart': 4992, 'mwb': 4993, 'legs': 4994, 'leg': 4995, 'ease': 4996, 'matched': 4997, 'relocate': 4998, 'vtu': 4999, 'vishweshwariya': 5000, 'mahavidyalay': 5001, 'kohlapur': 5002, 'greenfield': 5003, 'libs': 5004, 'braseries': 5005, 'burkena': 5006, 'faso': 5007, 'africa': 5008, 'citrus': 5009, 'carlsberg': 5010, 'myanmar': 5011, 'yangon': 5012, 'mysore': 5013, 'haldiram': 5014, 'tetra': 5015, 'pak': 5016, 'amreli': 5017, 'instrument': 5018, 'philosophy': 5019, 'trays': 5020, 'apfc': 5021, 'metering': 5022, 'pts': 5023, 'acbs': 5024, 'analog': 5025, 'floating': 5026, 'alignment': 5027, 'route': 5028, 'tray': 5029, 'danfoss': 5030, 'schnider': 5031, 'vacon': 5032, 's7': 5033, '1200': 5034, '1500': 5035, 'et': 5036, '200s': 5037, 'allen': 5038, 'bready': 5039, 'logix5000': 5040, 'modulating': 5041, 'solenoid': 5042, 'meter': 5043, 'sugars': 5044, 'erection': 5045, 'allied': 5046, 'overhauling': 5047, 'shunt': 5048, 'switchgears': 5049, 'vfds': 5050, 'dg': 5051, 'amf': 5052, 'acb': 5053, 'vcb': 5054, 'fcbc': 5055, 'microprocessor': 5056, 'numerical': 5057, 'haryana': 5058, 'jhulelal': 5059, 'dayanand': 5060, 'kanya': 5061, 'december': 5062, 'medicinal': 5063, 'ailments': 5064, 'surgical': 5065, 'wholesalers': 5066, 'ordering': 5067, 'debtor': 5068, 'freelancers': 5069, 'oldest': 5070, 'fulfil': 5071, 'oxygen': 5072, 'sonarqube': 5073, 'responsibilitis': 5074, 'adavance': 5075, 'multicultural': 5076, 'continued': 5077, 'ware': 5078, 'becomes': 5079, 'zookeeper': 5080, 'latin': 5081, 'principles': 5082, 'affect': 5083, 'tpt': 5084, 'partitions': 5085, 'launching': 5086, 'websphere': 5087, 'v8': 5088, 'discover': 5089, 'hiveql': 5090, 'partitioning': 5091, 'de': 5092, 'normalized': 5093, 'avro': 5094, 'standardizations': 5095, 'orchestrate': 5096, 'jdk': 5097, 'completing': 5098, '11gr2': 5099, 'silent': 5100, 'dbca': 5101, 'undo': 5102, 'netmgr': 5103, 'netca': 5104, 'ash': 5105, 'diagnose': 5106, 'remove': 5107, 'psu': 5108, 'marketplace': 5109, 'emc': 5110, 'transactional': 5111, 'migrations': 5112, 'passive': 5113, 'scheme': 5114, 'camp': 5115, 'sponsored': 5116, 'youth': 5117, 'affairs': 5118, '201': 5119, 'faithfully': 5120, 'pia': 5121, 'jetalal': 5122, 'hiralal': 5123, 'gorbanjara': 5124, 'political': 5125, 'sci': 5126, 'bahadarpur': 5127, 'tai': 5128, 'oim': 5129, 'oam': 5130, 'ohs': 5131, '99': 5132, 'contributed': 5133, 'crontab': 5134, 'oops': 5135, '0education': 5136, 'vidyabharati': 5137, 'winsol': 5138, 'vm': 5139, 'mphasis': 5140, 'ag': 5141, 'mirror': 5142, 'mastek': 5143, 'dues': 5144, 'mortgage': 5145, 'premier': 5146, 'biopharmaceutical': 5147, 'produces': 5148, 'va': 5149, 'ines': 5150, 'immunology': 5151, 'oncology': 5152, 'cardiology': 5153, 'endocrinology': 5154, 'neurology': 5155, 'pathways': 5156, 'journey': 5157, 'rare': 5158, 'cdh3': 5159, 'tb': 5160, 'nfs': 5161, 'nn': 5162, 'sparkapi': 5163, 'imported': 5164, 'bucketing': 5165, 'sparkcontext': 5166, 'orc': 5167, 'parquet': 5168, 'serialization': 5169, 'snappy': 5170, 'compression': 5171, 'showing': 5172, 'articulate': 5173, 'cca': 5174, '175': 5175, 'keen': 5176, 'solutionseducation': 5177, '210': 5178, 'campus': 5179, 'vj': 5180, 'pharmacy': 5181, 'personality': 5182, 'agricultural': 5183, 'hrs': 5184, 'elringklinger': 5185, 'automotives': 5186, 'kubler': 5187, 'chakan': 5188, 'finanza': 5189, 'pimple': 5190, 'saudagar': 5191, 'sharvari': 5192, 'junner': 5193, 'entrepreneurship': 5194, '168': 5195, 'narayangaon': 5196, '229': 5197, 'adjoining': 5198, 'fashion': 5199, 'conflict': 5200, 'pjlce': 5201, 'infiniteworx': 5202, 'omnichannel': 5203, 'redo': 5204, 'revoking': 5205, 'sawitribai': 5206, 'ides': 5207, 'trimurti': 5208, 'realestate': 5209, 'vimay': 5210, '58': 5211, 'calm': 5212, 'spirit': 5213, 'cope': 5214, 'fluent': 5215, 'dep': 5216, 'prof': 5217, 'jawaleker': 5218, 'nangal': 5219, 'mandir': 5220, '74': 5221, 'osmoflo': 5222, 'overseas': 5223, 'australia': 5224, 'vivid': 5225, 'electromech': 5226, '20th': 5227, 'stabilizers': 5228, 'bust': 5229, 'stabilizer': 5230, 'authorised': 5231, 'ti': 5232, 'ador': 5233, 'welding': 5234, '17th': 5235, 'conversant': 5236, 'etap': 5237, 'csa': 5238, 'iecex': 5239, 'dfmea': 5240, 'bid': 5241, 'sat': 5242, 'yibal': 5243, 'oman': 5244, '6thmay': 5245, 'cfbc': 5246, 'turbine': 5247, 'routine': 5248, '132kv': 5249, 'ac': 5250, 'yard': 5251, 'cadd': 5252, 'jm': 5253, 'tectia': 5254, 'notebool': 5255, 'unixeducation': 5256, 'dbs': 5257, 'srm': 5258, 'technosoft': 5259, 'citibank': 5260, 'aml': 5261, 'tm': 5262, 'icg': 5263, 'responesbilities': 5264, 'layered': 5265, 'workspace': 5266, 'suspicious': 5267, 'fraudulent': 5268, 'ran': 5269, 'horton': 5270, 'hdp2': 5271, 'alcatel': 5272, 'lucent': 5273, '1x': 5274, 'ruckus': 5275, 'wireless': 5276, 'mediation': 5277, 'oms': 5278, 'rf': 5279, 'boost': 5280, 'framwe': 5281, '56': 5282, 'fino': 5283, 'opening': 5284, 'skillseducation': 5285, '1997': 5286, '1996': 5287, 'teresa': 5288, 'convent': 5289, 'theatre': 5290, 'conception': 5291, 'deputy': 5292, 'compelling': 5293, 'convey': 5294, 'charles': 5295, 'wallace': 5296, 'entrepreneurs': 5297, 'chevening': 5298, 'clore': 5299, 'scholarship': 5300, 'shortlisting': 5301, 'fellowships': 5302, 'geographic': 5303, 'officials': 5304, 'partnership': 5305, 'continents': 5306, 'connecting': 5307, 'cultures': 5308, 'bc': 5309, 'ambitious': 5310, 'strengthening': 5311, 'colleagues': 5312, 'longer': 5313, 'performers': 5314, 'artists': 5315, 'performances': 5316, 'authorities': 5317, 'film': 5318, 'outreach': 5319, 'aircheck': 5320, 'intended': 5321, 'metros': 5322, 'pitching': 5323, 'commissions': 5324, 'reporters': 5325, 'mixing': 5326, 'vegas': 5327, 'acid': 5328, 'midi': 5329, 'definitive': 5330, 'continent': 5331, 'surrounds': 5332, 'exclusive': 5333, 'sensibility': 5334, 'editorial': 5335, 'publishing': 5336, 'covers': 5337, 'genre': 5338, 'perspectives': 5339, 'photographers': 5340, 'freelance': 5341, 'writers': 5342, 'storming': 5343, 'decide': 5344, 'primarily': 5345, 'banyan': 5346, 'french': 5347, 'embassy': 5348, 'repo': 5349, 'much': 5350, 'november': 5351, 'mansa': 5352, 'settlement': 5353, 'joint': 5354, 'forums': 5355, 'oem': 5356, 'ec': 5357, 'hydrocarbon': 5358, 'cpu': 5359, 'renaming': 5360, 'resizing': 5361, 'rent': 5362, 'tybcom': 5363, 'motilal': 5364, 'oswal': 5365, 'cag': 5366, 'derivative': 5367, 'macro': 5368, 'bd': 5369, 'investors': 5370, 'fss': 5371, 'depa': 5372, 'ment': 5373, 'custodians': 5374, 'percentage': 5375, 'angel': 5376, 'broking': 5377, 'manger': 5378, 'repots': 5379, 'remark': 5380, 'rplus': 5381, 'uses': 5382, 'sentiments': 5383, 'derive': 5384, 'identifies': 5385, 'hordes': 5386, 'selects': 5387, 'datasets': 5388, 'assignments': 5389, 'rose': 5390, 'weka': 5391, 'hat': 5392, 'msbte': 5393, 'dnyanganaga': 5394, 'takali': 5395, 'kerberos': 5396, 'securing': 5397, 'dxc': 5398, 'hpe': 5399, 'emr': 5400, 'hdinsight': 5401, 'bent': 5402, 'mind': 5403, 'unlearn': 5404, 'relearn': 5405, 'surely': 5406, 'handy': 5407, 'cometchat': 5408, 'guwahati': 5409, 'gauhati': 5410, 'hindustan': 5411, 'mill': 5412, 'looking': 5413, '2021': 5414, 'entermediate': 5415, 'sunbeam': 5416, 'samne': 5417, 'ghat': 5418, 'varanasi': 5419, 'dan': 5420, 'represented': 5421, 'croatia': 5422, 'v11': 5423, 'v12': 5424, 'foundations': 5425, 'gradation': 5426, 'datafiles': 5427, 'restoration': 5428, 'disks': 5429, 'sync': 5430, 'hand': 5431, 'pipe': 5432, 'bizagi': 5433, 'indigo': 5434, 'waterfall': 5435, 'thadomal': 5436, 'shahani': 5437, 'bbh': 5438, 'brown': 5439, 'brothers': 5440, 'harriman': 5441, 'merger': 5442, 'advisory': 5443, 'custody': 5444, 'financing': 5445, 'describes': 5446, 'aht': 5447, 'calculated': 5448, 'calculating': 5449, 'complexity': 5450, 'considered': 5451, 'licenses': 5452, 'converted': 5453, 'constructing': 5454, 'toward': 5455, 'eptable': 5456, 'fadv': 5457, 'delivers': 5458, 'screenings': 5459, 'flagging': 5460, 'aging': 5461, 'ar': 5462, 'rebill': 5463, 'formal': 5464, 'approvers': 5465, 'translating': 5466, 'collaborating': 5467, 'fulfill': 5468, 'initiation': 5469, 'expected': 5470, 'pat': 5471, 'representations': 5472, 'baseline': 5473, 'eduavenir': 5474, 'procured': 5475, 'sold': 5476, 'returned': 5477, 'invoicesalong': 5478, 'withcustomized': 5479, 'managescustomer': 5480, 'complaint': 5481, 'forecastingis': 5482, 'pod': 5483, 'stay': 5484, 'conjunction': 5485, 'designers': 5486, 'nuances': 5487, 'finally': 5488, 'movement': 5489, 'golive': 5490, 'requires': 5491, 'eliciting': 5492, 'dependency': 5493, 'humana': 5494, 'supplying': 5495, 'citizens': 5496, 'citizen': 5497, 'drug': 5498, 'choose': 5499, 'hudson': 5500, 'xcode': 5501, 'sierra': 5502, 'goregaon': 5503, 'vidyalankar': 5504, 'john': 5505, 'formatter': 5506, 'gmf': 5507, 'reads': 5508, 'encapsulation': 5509, 'tlv': 5510, 'validations': 5511, 'cosmoss': 5512, 'ejbs': 5513, 'facing': 5514, 'packet': 5515, 'tracer': 5516, 'overcome': 5517, 'shoulder': 5518, 'algo': 5519, 'farming': 5520, 'prakshal': 5521, 'ghs': 5522, 'bhuli': 5523, 'enigma': 5524, 'pharmaceuticals': 5525, 'chemicals': 5526, 'weekend': 5527, 'jabalpur': 5528, 'takshshila': 5529, 'wab': 5530, 'softwere': 5531, 'omplish': 5532, 'ethical': 5533, 'medi': 5534, 'caps': 5535, 'division': 5536, 'injecting': 5537, 'govern': 5538, 'increasing': 5539, 'sends': 5540, 'ingest': 5541, 'server2': 5542, 'serde': 5543, 'wm': 5544, 'tws': 5545, 'authentic': 5546, 'morgan': 5547, 'stanley': 5548, 'absa': 5549, 'wmdatalake': 5550, 'become': 5551, 'optimising': 5552, 'pso': 5553, 'lagging': 5554, 'archives': 5555, 'brose': 5556, 'fluency': 5557, 'relationeducation': 5558, 'rivzi': 5559, 'allana': 5560, 'canossa': 5561, 'interdependencies': 5562, 'derivable': 5563, 'commversion': 5564, 'atom': 5565, 'unanth': 5566, 'solo': 5567, 'uom': 5568, 'reason': 5569, 'dinman': 5570, 'displaying': 5571, 'agri': 5572, 'vegetables': 5573, 'assignment': 5574, 'newspapers': 5575, 'subscriptions': 5576, 'light': 5577, 'advertisements': 5578, 'facebook': 5579, 'center8': 5580, 'intellij': 5581, '11geducation': 5582, 'avail': 5583, 'spending': 5584, 'ranges': 5585, 'analyes': 5586, 'regulators': 5587, 'analyses': 5588, 'retrieve': 5589, 'terabytes': 5590, 'trun': 5591, 'vistor': 5592, 'crawl': 5593, 'tabular': 5594, 'oracle11g': 5595, 'etrack': 5596, 'tsp': 5597, 'sadms': 5598, 'gfs': 5599, 'gdo': 5600, 'goes': 5601, 'slows': 5602, 'replace': 5603, 'extracts': 5604, 'upstream': 5605, 'epecs': 5606, 'cdss': 5607, 'rcm': 5608, 'prc': 5609, 'edh': 5610, 'dimensional': 5611, 'aggregators': 5612, 'sorters': 5613, 'dependencies': 5614, 'sk': 5615, 'mapplet': 5616, 'populate': 5617, 'worklets': 5618, 'utc': 5619, 'type1': 5620, 'type2': 5621, 'cdc': 5622, 'jijayi': 5623, 'heights': 5624, '118': 5625, 'narhe': 5626, 'chowki': 5627, '411041': 5628, 'osmania': 5629, 'microsft': 5630, 'excell': 5631, 'navy': 5632, 'nuclear': 5633, 'biological': 5634, 'chemical': 5635, '04': 5636, 'trimax': 5637, 'problematic': 5638, 'myisam': 5639, 'innodb': 5640, 'shifting': 5641, 'parameter': 5642, 'purging': 5643, 'xtrabackup': 5644, 'rachana': 5645, 'sansad': 5646, 'deign': 5647, 'jungle': 5648, 'cubs': 5649, 'punctual': 5650, 'respectfulness': 5651, 'true': 5652, 'sciene': 5653, 'amaravti': 5654, 'sprinng': 5655, 'comparative': 5656, 'indicators': 5657, 'malaysia': 5658, 'conversion': 5659, 'physiology': 5660, 'fl': 5661, 'florida': 5662, 'microbiology': 5663, 'abasaheb': 5664, 'garware': 5665, 'cardiovascular': 5666, 'cycling': 5667, 'ommodating': 5668, 'age': 5669, 'ompanying': 5670, 'metabolic': 5671, 'hypertension': 5672, 'obesity': 5673, 'ebs': 5674, 'adapt': 5675, 'enjoy': 5676, 'debt': 5677, 'intervlan': 5678, 'ripv2': 5679, 'ripng': 5680, 'acl': 5681, 'vtp': 5682, 'ehterchannel': 5683, 'hsrp': 5684, 'ipv6': 5685, '1800s': 5686, '1900s': 5687, '2600s': 5688, '3600s': 5689, '3800s': 5690, '7200s': 5691, '3700s': 5692, '4850s': 5693, 'proliant': 5694, 'lenovo': 5695, 'modem': 5696, 'rodc': 5697, 'wds': 5698, 'ris': 5699, 'virtualisation': 5700, 'esxi': 5701, 'workstation': 5702, 'virtualbox': 5703, 'gns3': 5704, 'simulator': 5705, 'aisect': 5706, 'jiwaji': 5707, 'railwire': 5708, 'railtel': 5709, 'trenching': 5710, 'handing': 5711, 'bali': 5712, 'pali': 5713, 'dpmcu': 5714, 'milknet': 5715, 'ems': 5716, 'qms': 5717, 'scindia': 5718, 'fort': 5719, 'gwalior': 5720, 'teva': 5721, 'bhind': 5722, 'endpoint': 5723, 'unicenter': 5724, 'outlook': 5725, 'token': 5726, 'desktops': 5727, 'laptops': 5728, 'differential': 5729, 'corrupted': 5730, 'deleted': 5731, 'identally': 5732, 'nava': 5733, 'helpdesk': 5734, 'erp9': 5735, 'comprising': 5736, 'continuity': 5737, 'acquisition': 5738, 'seamless': 5739, 'schools': 5740, 'mcm': 5741, '9yrs': 5742, 'contribute': 5743, 'lectureship': 5744, 'served': 5745, 'sufficiently': 5746, 'busy': 5747, 'startups': 5748, 'clubs': 5749, 'articles': 5750, 'volunteering': 5751, 'asking': 5752, 'representatives': 5753, 'interview': 5754, '1992': 5755, 'micheal': 5756, 'level3': 5757, 'flora': 5758, 'heart': 5759, 'saver': 5760, 'reps': 5761, 'commensurate': 5762, 'smt': 5763, 'vhd': 5764, 'homescience': 5765, 'sas': 5766, 'subscribers': 5767, 'healthier': 5768, 'karma': 5769, 'innovations': 5770, 'jointly': 5771, 'campaign': 5772, 'glaxosmithkline': 5773, 'camps': 5774, 'practicing': 5775, 'gynaecologists': 5776, 'allotted': 5777, 'conveying': 5778, 'importance': 5779, 'nutrient': 5780, 'contain': 5781, 'nutrients': 5782, 'checkups': 5783, '800': 5784, 'cities': 5785, '3000': 5786, 'leaders': 5787, 'looks': 5788, 'medicals': 5789, 'whose': 5790, 'regulation': 5791, 'irda': 5792, 'mnyl': 5793, 'iinsurance': 5794, 'baxa': 5795, 'metlife': 5796, 'canara': 5797, 'deferrals': 5798, 'professionalism': 5799, 'vlcc': 5800, 'instructions': 5801, 'eating': 5802, 'distributors': 5803, 'slimming': 5804, 'splat': 5805, 'csm': 5806, 'panorama': 5807, 'balancer': 5808, 'rsaenvision': 5809, 'bmc': 5810, 'scriptingeducation': 5811, '89': 5812, '5500': 5813, 'pools': 5814, 'offloading': 5815, 'renewals': 5816, 'pulse': 5817, 'realm': 5818, 'hld': 5819, 'lld': 5820, 'resiliency': 5821, 'lockdown': 5822, 'r75': 5823, 'r77': 5824, 'belongs': 5825, '29xx': 5826, '28xx': 5827, '19xx': 5828, '3560': 5829, 'dealt': 5830, 'moitoring': 5831, 'envision': 5832, 'siem': 5833, 'false': 5834, 'positives': 5835, 'malicious': 5836, 'qualis': 5837, 'correlation': 5838, 'parsers': 5839, 'uds': 5840, 'unsupported': 5841, 'consisting': 5842, '3845': 5843, '3750e': 5844, 'chassis': 5845, '5550': 5846, 'sa': 5847, '6500': 5848, 'entrust': 5849, '2fa': 5850, 'assam': 5851, 'numerous': 5852, 'filling': 5853, 'mediums': 5854, 'ipv4': 5855, 'reconnaissance': 5856, 'ccnp': 5857, 'spanning': 5858, 'queuing': 5859, 'penultimate': 5860, 'ntp': 5861, 'netflow': 5862, 'fundamental': 5863, 'limit': 5864, 'damages': 5865, 'heating': 5866, 'watering': 5867, 'enginner': 5868, 'access': 5869, 'dm': 5870, 'failovers': 5871, 'stormfur': 5872, 'stromfur': 5873, 'ultimate': 5874, 'tripod': 5875, 'arena': 5876, 'considering': 5877, 'recruiting': 5878, 'rotas': 5879, 'retaining': 5880, 'emergencies': 5881, 'often': 5882, 'cashing': 5883, 'supplements': 5884, 'exciting': 5885, 'grouper': 5886, 'projections': 5887, 'legislation': 5888, 'endurance': 5889, 'diplomatically': 5890, 'seema': 5891, 'ansalon': 5892, 'massage': 5893, 'scalp': 5894, 'swedish': 5895, 'reflexology': 5896, 'aromatherapy': 5897, 'aerobics': 5898, 'radio': 5899, 'bhavan': 5900, 'slender': 5901, 'raymond': 5902, 'aroma': 5903, 'rudraaksh': 5904, 'plaza': 5905, 'windsor': 5906, 'holiday': 5907, 'inn': 5908, 'juhu': 5909, 'aromathai': 5910, 'khana': 5911, 'imitation': 5912, 'jewellery': 5913, 'beverage': 5914, 'certainly': 5915, 'polite': 5916, 'careful': 5917, 'considerate': 5918, 'thrive': 5919, 'enthusiasm': 5920, 'creativity': 5921, 'uncover': 5922, 'tenacious': 5923, 'akbar': 5924, 'peerbhoy': 5925, 'comm': 5926, 'janta': 5927, 'karvy': 5928, 'innotech': 5929, 'diagnostics': 5930, 'wi': 5931, 'administer': 5932, 'url': 5933, 'appliances': 5934, 'isps': 5935, 'sify': 5936, 'tikona': 5937, 'ho': 5938, 'crimping': 5939, 'mounting': 5940, 'ciso': 5941, 'netscreen': 5942, 'fwsm': 5943, 'familiarity': 5944, 'zenoss': 5945, 'solarwinds': 5946, '1800': 5947, '1900': 5948, '2500': 5949, '2600': 5950, '2800': 5951, 'nexus': 5952, '5k': 5953, '7k': 5954, '3750': 5955, 'bluecoat': 5956, 'sinhgad': 5957, 'boys': 5958, 'loadbalncing': 5959, 'undergo': 5960, 'caab': 5961, 'downgrade': 5962, 'decommission': 5963, 'l3vpn': 5964, 'vb6': 5965, 'tubro': 5966, 'inplant': 5967, 'ashoka': 5968, 'decor': 5969, 'girija': 5970, 'devolopers': 5971, 'outfit': 5972, 'photographs': 5973, 'maps': 5974, 'continual': 5975, 'practicality': 5976, 'adjust': 5977, 'budgetary': 5978, 'cohesion': 5979, 'fluidity': 5980, 'inspect': 5981, 'sonia': 5982, 'renovation': 5983, 'malls': 5984, 'compiling': 5985, 'tendering': 5986, 'complies': 5987, 'sustainability': 5988, 'grandeurs': 5989, 'realetors': 5990, 'materails': 5991, 'labours': 5992, 'regulated': 5993, 'subcontractor': 5994, 'equipement': 5995, 'cheack': 5996, 'progrees': 5997, 'devolopment': 5998, 'adviser': 5999, 'craftspeople': 6000, 'operatives': 6001, 'planners': 6002, 'surveyors': 6003, 'grasp': 6004, 'truba': 6005, 'rkdf': 6006, 'sati': 6007, 'thesis': 6008, 'bmch': 6009, 'ganj': 6010, 'basoda': 6011, 'rnt': 6012, 'recurrent': 6013, 'matplotliv': 6014, 'tf': 6015, 'idf': 6016, 'lsa': 6017, 'soup': 6018, 'personalization': 6019, 'interpretation': 6020, 'forecasts': 6021, 'pgp': 6022, 'teaching': 6023, 'appointments': 6024, 'teach': 6025, 'undergraduate': 6026, 'adjunct': 6027, 'furnish': 6028, 'lex': 6029, 'offered': 6030, 'scrap': 6031, 'messaging': 6032, 'qliksense': 6033, 'recognize': 6034, 'recognizing': 6035, 'compared': 6036, 'somewhere': 6037, 'else': 6038, 'hiding': 6039, 'prevent': 6040, 'frauds': 6041, 'pretend': 6042, 'twitter': 6043, 'expressed': 6044, 'opinion': 6045, 'emotions': 6046, 'quantifiable': 6047, 'mentored': 6048, 'gone': 6049, 'papers': 6050, 'congress': 6051, 'let': 6052, 'blumix': 6053, 'watson': 6054, 'typewriting': 6055, 'tora': 6056, 'spsseducation': 6057, 'chidambaram': 6058, 'sav': 6059, 'sslc': 6060, 'kamaraj': 6061, 'matriculation': 6062, 'valid': 6063, '2006education': 6064, 'oxford': 6065, 'banglore': 6066, 'nabinagar': 6067, 'bihar': 6068, 'ntpc': 6069, 'brbcl': 6070, 'stc': 6071, 'qatif': 6072, '2065864': 6073, 'arif': 6074, 'kinfolk': 6075, 'king': 6076, 'fahad': 6077, 'airport': 6078, 'dar': 6079, 'hadassah': 6080, 'dpf': 6081, 'eleven': 6082, 'arabian': 6083, 'army': 6084, 'ommodation': 6085, 'arabia': 6086, 'foremen': 6087, 'subsequently': 6088, 'rfi': 6089, 'realizing': 6090, 'ducting': 6091, 'chilled': 6092, 'fittings': 6093, 'insulation': 6094, 'padke': 6095, 'pba': 6096, 'tipu': 6097, 'santnamdev': 6098, 'jammu': 6099, 'takeoff': 6100, 'plumbing': 6101, 'paintha': 6102, 'chock': 6103, 'paripora': 6104, 'nagar': 6105, 'ssis': 6106, 'without': 6107, 'highlight': 6108, 'drills': 6109, 'trees': 6110, 'boosting': 6111, 'pca': 6112, 'nets': 6113, 'elasticsearch': 6114, 'plotly': 6115, 'ggplot': 6116, 'logstash': 6117, 'kafka': 6118, 'dispute': 6119, 'elerating': 6120, 'discovery': 6121, 'implements': 6122, 'resulting': 6123, 'lawyers': 6124, 'outputs': 6125, 'precision': 6126, 'ey': 6127, 'flags': 6128, 'tfidf': 6129, 'word2vec': 6130, 'doc2vec': 6131, 'vader': 6132, 'blob': 6133, 'matplot': 6134, 'lib': 6135, 'plotted': 6136, 'reservation': 6137, 'serves': 6138, 'recommendation': 6139, 'asks': 6140, 'spacy': 6141, 'synthesizes': 6142, 'facilitates': 6143, 'positioned': 6144, 'counter': 6145, 'parse': 6146, 'rot': 6147, 'outdated': 6148, 'trivial': 6149, 'pii': 6150, 'identifiable': 6151, 'addresses': 6152, 'frequently': 6153, 'cyber': 6154, 'flag': 6155, 'fap': 6156, 'interrogate': 6157, 'anomalies': 6158, 's4hana': 6159, 'edi': 6160, 'extensibility': 6161, 'varies': 6162, 'prince2': 6163, 'practitioner': 6164, 'implementations': 6165, 'america': 6166, 'fricew': 6167, 'ps': 6168, 'qm': 6169, 'solman': 6170, 'gts': 6171, 'vistex': 6172, 'proship': 6173, 'managenow': 6174, 'loftware': 6175, 'pocs': 6176, 'roll': 6177, 'ecc6': 6178, 'unicode': 6179, 'complicated': 6180, 'estimations': 6181, 'ymcaust': 6182, 'faridabad': 6183, 'itechpower': 6184, 'monorail': 6185, 'panvel': 6186, 'ryan': 6187, 'bp': 6188, 'bottlenecks': 6189, 'phioenix': 6190, 'microsystem': 6191, 'enter': 6192, 'week': 6193, 'jboss': 6194, 'retailer': 6195, 'registered': 6196, 'ddsm': 6197, 'zz': 6198, 'lean': 6199, 'ratnagiri': 6200, 'vba': 6201, 'authorizations': 6202, 'su53': 6203, 'grc': 6204, 'adaptable': 6205, 'keys': 6206, 'dairy': 6207, 'ado': 6208, 'mozilla': 6209, 'firefox10': 6210, 'biography': 6211, 'gallery': 6212, 'contactus': 6213, 'hms': 6214, 'conceivable': 6215, 'importantly': 6216, 'backed': 6217, 'dependable': 6218, 'multispecialty': 6219, 'cover': 6220, 'bess': 6221, 'sms': 6222, 'exams': 6223, 'calendar': 6224, 'parents': 6225, 'paperless': 6226, 'today': 6227, 'uhs': 6228, 'cmus': 6229, 'overdrafts': 6230, 'sblc': 6231, 'fg': 6232, 'cheques': 6233, 'nbf': 6234, 'cb': 6235, 'davv': 6236, 'cognizant': 6237, 'lumira': 6238, 'pgdm': 6239, 'great': 6240, 'lakes': 6241, 'illinois': 6242, 'horizon': 6243, 'visvesvaraya': 6244, 'historic': 6245, 'geographies': 6246, 'infer': 6247, 'blockades': 6248, 'handwriting': 6249, 'handwritten': 6250, 'enough': 6251, 'argus': 6252, 'lot': 6253, 'consumption': 6254, 'flowers': 6255, 'cbp': 6256, 'segmented': 6257, 'categorize': 6258, 'buckets': 6259, 'anaconda3': 6260, 'classify': 6261, 'enabled': 6262, 'ipa': 6263, 'spearheaded': 6264, 'reuse': 6265, 'took': 6266, 'ownership': 6267, 'elerator': 6268, 'atas': 6269, 'apart': 6270, 'clarified': 6271, 'normalization': 6272, 'spearheading': 6273, 'udt': 6274, 'sqleducation': 6275, 'suisse': 6276, 'swiss': 6277, 'pruning': 6278, 'tct': 6279, 'xi': 6280, 'sp6': 6281, 'tab': 6282, 'avoid': 6283, 'catalogue': 6284, 'warner': 6285, 'bros': 6286, 'marvin': 6287, 'pictures': 6288, 'hpsm': 6289, 'dvd': 6290, 'comic': 6291, 'pointing': 6292, 'messages': 6293, 'seek': 6294, 'investigation': 6295, 'tracks': 6296, 'criteria': 6297, 'precise': 6298, 'blocks': 6299, 'formatting': 6300, 'mat': 6301, 'saiba': 6302, 'softwareeducation': 6303, 'bharathiar': 6304, 'pa': 6305, 'insured': 6306, 'spinning': 6307, 'mills': 6308, 'staffs': 6309, 'labors': 6310, 'automobile': 6311, 'collision': 6312, 'avoidance': 6313, 'blackbox': 6314, 'stadio': 6315, 'thergaon': 6316, 'entityframewok': 6317, 'corecode': 6318, 'inetsoft': 6319, 'injury': 6320, 'death': 6321, 'former': 6322, 'tribunals': 6323, 'disputes': 6324, 'baramati': 6325, 'highschool': 6326, 'singhad': 6327, 'vasundhara': 6328, 'nirmiti': 6329, 'balaji': 6330, 'ganesh': 6331, 'utilise': 6332, 'convert': 6333, 'contacts': 6334, 'later': 6335, 'worker': 6336, 'chd': 6337, '09876971076': 6338, 'vversatile': 6339, 'targeting': 6340, 'netbeans': 6341, 'notebooks': 6342, 'ug': 6343, 'schooling': 6344, 'xii': 6345, 'moti': 6346, 'ram': 6347, 'valley': 6348, 'experince': 6349, 'suffering': 6350, 'third': 6351, 'prize': 6352, 'ifications': 6353, 'coursera': 6354, 'tirlok': 6355, 'yyyy': 6356, 'dd': 6357, 'inscripts': 6358, 'contains': 6359, 'representation': 6360, 'jagiroad': 6361, 'bodies': 6362, 'forum': 6363, 'judge': 6364, 'nagaon': 6365, 'bba': 6366, 'lovely': 6367, 'uit': 6368, 'statsmodels': 6369, 'ml': 6370, 'dummies': 6371, 'enthusiasts': 6372, 'koramangala': 6373, '5th': 6374, 'behind': 6375, 'sukh': 6376, 'sagar': 6377, 'encoding': 6378, 'linkedin': 6379, 'rathore': 6380, 'b4600b146': 6381, 'reasearch': 6382, 'arima': 6383, 'sarimax': 6384, 'holt': 6385, 'winter': 6386, 'prophet': 6387, 'rathorology': 6388, 'mixed': 6389, 'detailexperiences': 6390, 'alia': 6391, 'yashwant': 6392, 'orichids': 6393, '400097': 6394, 'indiaeducation': 6395, 'marol': 6396, 'depot': 6397, '400093': 6398, 'nova': 6399, '301': 6400, 'maha': 6401, 'muweilah': 6402, 'alfalah': 6403, 'excavation': 6404, 'waterproofing': 6405, 'rcc': 6406, 'shuttering': 6407, 'masonry': 6408, 'brick': 6409, 'tile': 6410, 'minor': 6411, 'slabs': 6412, 'requisition': 6413, 'ground': 6414, 'verify': 6415, 'sincerity': 6416, 'capability': 6417, '5m': 6418, 'minutes': 6419, 'thank': 6420, 'viewing': 6421, 'kherwadi': 6422, '400051': 6423, 'radha': 6424, 'dadar': 6425, 'hindu': 6426, 'colony': 6427, '400014': 6428, 'lodha': 6429, 'eternis': 6430, 'estado': 6431, '2d': 6432, '3deducation': 6433, 'talreja': 6434, 'hoping': 6435, 'thanks': 6436, 'apeksha': 6437, 'naharkar': 6438, 'sepsoft': 6439, '24th': 6440, 'ghatkesar': 6441, 'aurora': 6442, 'scientific': 6443, 'warangal': 6444, 'llm': 6445, 'operative': 6446, 'deed': 6447, 'barc': 6448, 'motion': 6449, 'daigram': 6450, 'graduation': 6451, 'ifix': 6452, 'iabac': 6453, 'versatile': 6454, 'advocator': 6455, 'augmented': 6456, 'fahed': 6457, 'mohali': 6458, 'indo': 6459, 'querying': 6460, 'cleaning': 6461, 'heretic': 6462, 'cleansing': 6463, 'conclusions': 6464, 'workload': 6465, 'allocate': 6466, 'imcost': 6467, 'menon': 6468, 'springer': 6469, 'smartforms': 6470, 'lenm': 6471, 'netherland': 6472, 'dsp': 6473, 'dsm': 6474, 'sinochem': 6475, 'paints': 6476, 'coatings': 6477, 'producer': 6478, 'specialization': 6479, 'behaviour': 6480, 'calicut': 6481, 'thrissur': 6482, 'prajyoti': 6483, 'foster': 6484, 'breads': 6485, 'kinfra': 6486, 'santhwana': 6487, 'psychotherapy': 6488, 'cochin': 6489, 'counsellor': 6490, 'anna': 6491, 'jacobs': 6492, '150': 6493, 'medicine': 6494, 'etp': 6495, 'drain': 6496, 'shall': 6497, 'vise': 6498, 'itr': 6499, 'checklist': 6500, 'issued': 6501, 'punch': 6502, 'dossiers': 6503, 'progression': 6504, 'chawla': 6505, 'architectural': 6506, '2b': 6507, 'roof': 6508, 'upcoming': 6509, 'entered': 6510, 'guinness': 6511, 'gac': 6512, 'arm': 6513, 'dollar': 6514, 'rp': 6515, 'pour': 6516, '793': 6517, 'cu': 6518, 'dh600': 6519, '163': 6520, 'rise': 6521, 'barsha': 6522, 'western': 6523, 'amendments': 6524, 'recall': 6525, 'hold': 6526, 'uncorrected': 6527, 'cancel': 6528, 'upon': 6529, 'noted': 6530, 'deficiencies': 6531, 'ncr': 6532, 'deviated': 6533, 'normal': 6534, 'retention': 6535, 'prm': 6536, 'toyo': 6537, 'liquefied': 6538, 'biggest': 6539, 'hike': 6540, 'metric': 6541, 'heater': 6542, 'room': 6543, 'comply': 6544, 'cary': 6545, 'follows': 6546, 'turned': 6547, 'flats': 6548, 'regard': 6549, 'ppe': 6550, 'safely': 6551, 'undertake': 6552, 'pivot': 6553, 'applicationseducation': 6554, 'queen': 6555, 'margaret': 6556, 'edinburg': 6557, 'atri': 6558, 'checklists': 6559, 'leaves': 6560, 'salaries': 6561, 'esic': 6562, 'deduction': 6563, '24q': 6564, 'topics': 6565, 'shops': 6566, 'establishments': 6567, '1972': 6568, 'naukri': 6569, 'preliminary': 6570, 'orientation': 6571, 'facilitation': 6572, 'pms': 6573, 'disbursement': 6574, 'kra': 6575, 'welfare': 6576, 'celebration': 6577, 'diwali': 6578, 'dhamaka': 6579, 'offsite': 6580, 'md': 6581, 'offering': 6582, 'reimbursement': 6583, 'resigned': 6584, 'dibrugarh': 6585, '017': 6586, 'pdf': 6587, 'q': 6588, 'aeronautics': 6589, 'satish': 6590, 'hangar': 6591, 'mirage': 6592, 'fighter': 6593, 'aircraft': 6594, 'labview': 6595, 'webframework': 6596, 'ltspice': 6597, 'mipower': 6598, 'gitbash': 6599, 'notebook': 6600, 'interpreters': 6601, 'python2': 6602, 'pycharm': 6603, 'debian': 6604, 'kali': 6605, 'deeksha': 6606, 'little': 6607, 'flower': 6608, 'mathematics': 6609, 'themathcompany': 6610, 'casino': 6611, 'operator': 6612, 'disclosed': 6613, 'macau': 6614, 'segment': 6615, 'patrons': 6616, 'prove': 6617, 'henceforth': 6618, 'reservoir': 6619, 'characterization': 6620, 'drilling': 6621, 'dry': 6622, 'runs': 6623, 'currency': 6624, 'conversions': 6625, 'ecuador': 6626, 'hpalm': 6627, 'charm': 6628, 'solmon': 6629, 'aero': 6630, 'slt': 6631, 'landscape': 6632, 'solved': 6633, 'exiting': 6634, 'july2013to': 6635, 'june2014': 6636, 'folder': 6637, 'ecc': 6638, 'logon': 6639, 'wheeler': 6640, 'mlrit': 6641, 'bcom': 6642, 'srimedhav': 6643, 'nani': 6644, 'valuelabs': 6645, 'rrf': 6646, 'dlt': 6647, 'candidate': 6648, 'intra': 6649, 'formulating': 6650, 'acn': 6651, 'mgt': 6652, 'ireport': 6653, 'ambedkar': 6654, 'angular1': 6655, 'typescript': 6656, 'kakinada': 6657, 'knockout': 6658, 'consuming': 6659, 'alternative': 6660, 'cooperation': 6661, 'tiebar': 6662, 'destination': 6663, 'luxury': 6664, 'menswear': 6665, 'premium': 6666, 'dress': 6667, 'shirts': 6668, 'bow': 6669, 'second': 6670, 'spots': 6671, 'tourists': 6672, 'tourist': 6673, 'hamsa': 6674, 'hitech': 6675, 'switzerland': 6676, 'norway': 6677, 'relation': 6678, 'appointment': 6679, 'langages': 6680, 'posse': 6681, 'adichunchanagiri': 6682, 'chikmagalur': 6683, 'truly': 6684, 'jayashree': 6685, 'ase': 6686, 'winds': 6687, 'dpa': 6688, 'dbartisan': 6689, '3t': 6690, 'pdacoe': 6691, 'autonomous': 6692, 'uploading': 6693, 'rdls': 6694, 'orphaned': 6695, 'purge': 6696, 'shipped': 6697, 'intervention': 6698, 'escalate': 6699, 'next': 6700, 'clones': 6701, 'hewlett': 6702, 'packard': 6703, 'softenger': 6704, 'unused': 6705, 'orphan': 6706, 'rebuild': 6707, 'reorganize': 6708, 'deadlocks': 6709, 'costly': 6710, 'deadlock': 6711, 'alwayson': 6712, 'restart': 6713, 'tns': 6714, 'redolog': 6715, 'duplicate': 6716, 'flashback': 6717, 'oracle11gr2': 6718, 'crsctl': 6719, 'srvctl': 6720, 'upgraded': 6721, 'capable': 6722, 'dy': 6723, '61': 6724, 'eboss': 6725, 'datafeed': 6726, 'mfdb': 6727, 'indiainx': 6728, 'fastest': 6729, 'seconds': 6730, 'transparent': 6731, 'equity': 6732, 'currencies': 6733, 'derivatives': 6734, '250': 6735, 'continues': 6736, 'pace': 6737, 'pacemaker': 6738, 'blockings': 6739, 'gssapi': 6740, 'connections': 6741, 'fdw': 6742, 'extensions': 6743, 'pitr': 6744, 'rollouts': 6745, 'aag': 6746, 'raid': 6747, 'devopseducation': 6748, '108': 6749, 'quite': 6750, 'extended': 6751, 'maximized': 6752, 'p1': 6753, 'p2': 6754, 'produced': 6755, 'fw': 6756, 'openings': 6757, 'loadbalancer': 6758, 'smtp': 6759, 'ocm': 6760, 'protected': 6761, 'sod': 6762, 'rcu': 6763, 'expanded': 6764, 'france': 6765, 'compressions': 6766, 'imp': 6767, 'duplication': 6768, 'litespeed': 6769, 'idera': 6770, 'infopa': 6771, 'tivoli': 6772, 'tdp': 6773, 'databasesms': 6774, '110': 6775, 'availabiity': 6776, 'sip': 6777, 'dbas': 6778, 'trainees': 6779, 'pci': 6780, 'vulnerability': 6781, 'holmes': 6782, 'ls': 6783, 'failback': 6784, 'deeply': 6785, 'pursued': 6786, 'pe8': 6787, 'ee11': 6788, '8i': 6789, 'commission': 6790, 'forward': 6791, 'itskills': 6792, 'mcs': 6793, 'periodically': 6794, 'criticality': 6795, 'impo': 6796, 'expo': 6797, 'degine': 6798, 'configuraing': 6799, 'administered': 6800, 'quota': 6801, 'default': 6802, 'cumulative': 6803, 'intervals': 6804, 'ddl': 6805, 'dml': 6806, 'appraising': 6807, 'backround': 6808, 'innovativetechnologies': 6809, '98': 6810, 'loader': 6811, 'authorized': 6812, 'hydrocarbons': 6813, 'exceeding': 6814, 'majors': 6815, '18c': 6816, 'link': 6817, 'reclaim': 6818, 'statically': 6819, 'elb': 6820, 'vpc': 6821, 'route53': 6822, 'iam': 6823, 'comprise': 6824, 'edvancer': 6825, 'eduventures': 6826, 'sensitive': 6827, 'improved': 6828, 'courage': 6829, 'sadvidya': 6830, 'massachusetts': 6831, 'elicitation': 6832, 'diligently': 6833, 'checkouts': 6834, '101': 6835, 'rh': 6836, 'quotas': 6837, 'rollback': 6838, 'extents': 6839, 'constructive': 6840, 'practically': 6841, 'elya': 6842, 'kale': 6843, 'patches': 6844, 'demands': 6845, 'cronjobs': 6846, 'raising': 6847, 'links': 6848, 'directories': 6849, 'scp': 6850, 'rebuilding': 6851, 'stats': 6852, 'deleting': 6853, 'diskgroups': 6854, 'insolutions': 6855, 'switchover': 6856, 'allocating': 6857, 'enrolling': 6858, 'snap': 6859, 'validity': 6860, 'resize': 6861, 'temp': 6862, 'knoxed': 6863, 'lite': 6864, 'invest': 6865, 'employs': 6866, 'approximately': 6867, 'organised': 6868, 'barclaycard': 6869, 'troubleshoooting': 6870, 'locking': 6871, 'kakatiya': 6872, 'maintenances': 6873, 'upgradation': 6874, 'ord': 6875, 'fintech': 6876, 'sanpada': 6877, 'attach': 6878, 'detach': 6879, 'dbcc': 6880, 'dmv': 6881, 'analyzer': 6882, 'dts': 6883, 'rebuilds': 6884, 'reorganizes': 6885, 'occ': 6886, 'sqlplus': 6887, 'vsphere': 6888, 'windowseducation': 6889, '130': 6890, 'eagle': 6891, 'path': 6892, 'persists': 6893, 'rfs': 6894, 'mrp': 6895, 'centralize': 6896, 'refreshing': 6897, 'outage': 6898, 'rotational': 6899, 'shifts': 6900, 'refreshes': 6901, 'migrate': 6902, 'yogesh': 6903, 'tikhat': 6904, 'raj': 6905, 'ahmad': 6906, 'g2': 6907, '702': 6908, 'dreams': 6909, 'aakruti': 6910, 'kalepadal': 6911, 'hadapsar': 6912, '411028': 6913, 'aofpt5052c': 6914, 'alm': 6915, 'optimazation': 6916, 'extending': 6917, 'iseries': 6918, 'ada': 6919, 'annet': 6920, 'birla': 6921, 'northbound': 6922, 'eclerx': 6923, 'wwf': 6924, 'info': 6925, 'solid': 6926, 'technologists': 6927, 'bscit': 6928, 'airoli': 6929, 'automationtesting': 6930, 'phoenix': 6931, 'microsystems': 6932, 'swb': 6933, 'profitable': 6934, 'satisfying': 6935, 'splits': 6936, 'inserts': 6937, 'ibatis': 6938, 'seam': 6939, 'intelligen': 6940, 'mobileapp': 6941, 'kauapc': 6942, 'ims': 6943, 'essible': 6944, 'empower': 6945, 'rich': 6946, 'jersey': 6947, 'lelo': 6948, 'lo': 6949, 'divider': 6950, 'pom': 6951, 'conformiq': 6952, 'ipad': 6953, 'measure': 6954, 'submit': 6955, 'tl9k': 6956, 'concerned': 6957, 'artifacts': 6958, 'fsd': 6959, 'cug': 6960, 'configurations': 6961, 'onboard': 6962, 'bau': 6963, 'arriving': 6964, 'crs': 6965, 'paytech': 6966, 'zambia': 6967, 'capa': 6968, 'parivartan': 6969, 'somaiya': 6970, 'asmita': 6971, 'girls': 6972, 'bhawan': 6973, 'journalist': 6974, 'lawyer': 6975, 'knows': 6976, 'ielts': 6977, 'bilingual': 6978, 'punjabi': 6979, 'clearly': 6980, 'concisely': 6981, 'peers': 6982, 'pretrial': 6983, 'appellate': 6984, 'competent': 6985, 'laws': 6986, 'bikaner': 6987, 'maharaja': 6988, 'ganga': 6989, 'singh': 6990, 'bio': 6991, 'informatics': 6992, 'panjab': 6993, 'newcomer': 6994, 'licensed': 6995, 'admitted': 6996, 'aibe': 6997, 'bci': 6998, 'sole': 6999, 'counsel': 7000, 'plaintiff': 7001, 'respondents': 7002, 'prosecuted': 7003, 'conclusion': 7004, 'claim': 7005, 'opted': 7006, 'plead': 7007, 'precedents': 7008, 'bail': 7009, 'petitions': 7010, 'appeals': 7011, 'divorces': 7012, 'negotiates': 7013, 'settlements': 7014, 'mediator': 7015, 'conciliator': 7016, 'commissioner': 7017, 'arbitrator': 7018, 'vbs': 7019, 'purvanchal': 7020, 'redwood': 7021, 'triage': 7022, 'short': 7023, 'exponentially': 7024, 'drastically': 7025, 'games': 7026, 'apps': 7027, 'messenger': 7028, 'omplishment': 7029, 'reminders': 7030, 'hayaan': 7031, 'neighborhood': 7032, 'packaging': 7033, 'slip': 7034, 'inquiry': 7035, 'haayan': 7036, 'morigaon': 7037, 'subordinate': 7038, 'penchant': 7039, 'situation': 7040, 'extrovert': 7041, 'prefer': 7042, 'walks': 7043, 'strata': 7044, 'rapport': 7045, 'hpc': 7046, 'counsels': 7047, 'cachar': 7048, 'nagaland': 7049, 'pulp': 7050, 'vetting': 7051, 'nibs': 7052, 'nits': 7053, 'formulation': 7054, 'disciplinary': 7055, 'liaisoning': 7056, 'researcher': 7057, 'laweducation': 7058, 'criminology': 7059, 'federal': 7060, 'finalising': 7061, 'agreements': 7062, 'intimation': 7063, 'suits': 7064, 'attorney': 7065, 'indemnity': 7066, 'marriage': 7067, 'divorce': 7068, 'ession': 7069, 'lok': 7070, 'adalat': 7071, 'judicial': 7072, 'malad': 7073, 'tanks': 7074, 'anushaktinagar': 7075, 'trombay': 7076, 'kalyan': 7077, 'tank': 7078, 'float': 7079, 'bottle': 7080, 'crashing': 7081, 'separated': 7082, 'sensors': 7083, 'transmitters': 7084, 'pid': 7085, 'brands': 7086, 'nippon': 7087, 'selec': 7088, 'dol': 7089, 'induction': 7090, 'eletrical': 7091, 'specialized': 7092, 'engineered': 7093, 'manufacturers': 7094, 'vessels': 7095, 'igg': 7096, 'inert': 7097, 'calibrations': 7098, '8th': 7099, 'underwent': 7100, 'tuv': 7101, 'rheinland': 7102, 'omron': 7103, 'ladder': 7104, 'intouch': 7105, 'vijeo': 7106, 'citect': 7107, 'wincc': 7108, 'talkview': 7109, 'opc': 7110, 'kepware': 7111, 'altivar': 7112, 'druck': 7113, 'injector': 7114, 'dp': 7115, 'tubes': 7116, 'fitting': 7117, 'glanding': 7118, 'robotic': 7119, 'kuka': 7120, 'kr': 7121, 'rk': 7122, 'electricals': 7123, 'twido': 7124, 'step7': 7125, 'microwin': 7126, 'sp2': 7127, 'unity': 7128, 'xl': 7129, 'cx': 7130, 'wpl': 7131, 'codesys': 7132, 'wonderware': 7133, 'citectscada7': 7134, 'proficy': 7135, 'factotytalk': 7136, 'spoken': 7137, 'tutorial': 7138, 'phython': 7139, 'codestrike': 7140, 'administering': 7141, 'smashingday': 7142, 'committed': 7143, 'independent': 7144, 'bput': 7145, 'brahmapur': 7146, 'orissa': 7147, 'banner': 7148, 'handles': 7149, '115': 7150, 'spread': 7151, 'whitacre': 7152, 'downtown': 7153, 'texas': 7154, 'csi': 7155, 'cam': 7156, 'centralised': 7157, 'myatt': 7158, 'maintaing': 7159, 'autoit': 7160, 'manging': 7161, 'grapheducation': 7162, 'goregoan': 7163, 'proteus': 7164, 'installations': 7165, 'plastics': 7166, 'wings': 7167, 'infonet': 7168, 'comprehensive': 7169, 'hiral': 7170, 'tektronix': 7171, 'relates': 7172, 'hrms': 7173, 'observation': 7174, 'clacutta': 7175, 'burdwan': 7176, 'taxation': 7177, 'plaint': 7178, 'hear': 7179, 'extraeducation': 7180, 'literature': 7181, 'tirunelveli': 7182, 'manonmaniam': 7183, 'sundaranar': 7184, 'practiced': 7185, 'judicature': 7186, 'madras': 7187, 'tribunal': 7188, 'christian': 7189, 'ruah': 7190, 'church': 7191, 'nessa': 7192, 'learnereducation': 7193, 'vidishtra': 7194, 'skillful': 7195, 'typing': 7196, 'refined': 7197, 'uloom': 7198, 'recently': 7199, 'savvy': 7200, 'lrc': 7201, 'ravichander': 7202, 'xslt': 7203, 'connector': 7204, 'biztalk': 7205, '147': 7206, 'opex': 7207, 'genentech': 7208, 'biogen': 7209, 'astellas': 7210, 'pharma': 7211, 'polaris': 7212, 'hibernet': 7213, 'prasanna': 7214, 'vc': 7215, 'rfe': 7216, 'rally': 7217, 'td': 7218, 'devsecops': 7219, 'profit': 7220, 'maximization': 7221, 'tulu': 7222, 'harvard': 7223, 'thunderbird': 7224, 'catering': 7225, 'esign': 7226, 'countersign': 7227, 'ampd': 7228, 'cru': 7229, 'bizcomp': 7230, 'comp': 7231, 'discounts': 7232, 'cxmt': 7233, 'lets': 7234, 'centrex': 7235, 'shadow': 7236, 'signoff': 7237, 'smp': 7238, 'scorecard': 7239, 'vqi': 7240, 'subcon': 7241, 'offshoring': 7242, 'leakage': 7243, 'tail': 7244, 'oscar': 7245, 'expand': 7246, 'developments': 7247, 'resourcing': 7248, 'csl': 7249, 'kms': 7250, 'pmr': 7251, 'sqa': 7252, 'gates': 7253, 'csat': 7254, 'rehearsal': 7255, 'prevention': 7256, 'exercises': 7257, 'rebadged': 7258, 'ex': 7259, 'esaya': 7260, 'anjular': 7261, 'mws': 7262, 'laravel': 7263, 'profiled': 7264, 'monitors': 7265, 'sponsor': 7266, 'revise': 7267, 'regulatory': 7268, 'venturus': 7269, 'adhere': 7270, 'viralsocials': 7271, 'xento': 7272, 'familylink': 7273, 'propertysolutions': 7274, 'speedyceus': 7275, 'ceus': 7276, 'nursing': 7277, 'stplafricaonline': 7278, 'stplafrica': 7279, '1stexpert': 7280, 'rimsys': 7281, 'eu': 7282, 'prayerlister': 7283, 'promark': 7284, 'justbe': 7285, 'mtpian': 7286, 'sababa': 7287, 'nl': 7288, 'physicaltherapy': 7289, 'hiu': 7290, '7cees': 7291, 'golwin': 7292, 'maza': 7293, 'lisa': 7294, 'catdm': 7295, 'versioning': 7296, 'disha': 7297, 'poland': 7298, 'specialize': 7299, 'cbil': 7300, 'oat': 7301, 'proving': 7302, 'cucumber': 7303, 'bdd': 7304, 'tosca': 7305, 'tdm': 7306, 'onboarding': 7307, 'ontrack': 7308, 'xaml': 7309, 'dhtml': 7310, 'vbscript': 7311, 'mvp': 7312, 'tfs': 7313, 'collabnet': 7314, 'qlikview': 7315, 'centreon': 7316, 'bam': 7317, 'thinker': 7318, 'planner': 7319, 'recent': 7320, 'managereducation': 7321, 'sikkim': 7322, '92': 7323, '76': 7324, 'apr': 7325, 'capex': 7326, 'surveillance': 7327, 'wearable': 7328, 'nextgen': 7329, 'aria': 7330, 'apple': 7331, 'iphone': 7332, 'sunnyvale': 7333, 'ohio': 7334, 'nunit': 7335, 'moss': 7336, 'biztalk2006': 7337, 'dreamweaver': 7338, 'biz': 7339, 'wachovia': 7340, 'carolina': 7341, 'cript': 7342, 'zd': 7343, 'doll': 7344, 'newcastle': 7345, 'tokyo': 7346, 'macromedia': 7347, 'sql2000': 7348, 'lotus': 7349, 'fuel': 7350, 'density': 7351, 'measurement': 7352, 'cmcs': 7353, 'himalaya': 7354, 'mapco': 7355, 'berco': 7356}\n",
            "[46, 34, 34, 25, 20, 795, 20, 35, 35, 237, 377, 3168, 400, 163, 90, 102, 108, 2418, 628, 3169, 1996, 217, 93, 111, 20, 111, 278, 111, 4892, 7, 31, 132, 92, 70, 86, 67, 3170, 15, 4893, 4894, 238, 30, 67, 496, 3170, 15, 924, 101, 61, 25, 23, 25, 23, 2450, 142, 40, 21, 26, 7, 3, 7, 3, 2450, 142, 40, 21, 6, 29, 890, 1583, 132, 352, 300, 66, 25, 23, 6, 4895, 11, 126, 17, 50, 363, 3171, 126, 17, 2988, 4896, 3113, 1186, 1135, 124, 837, 113, 2989, 107, 4897, 1004, 609, 148, 50, 363, 3489, 3171, 134, 4898, 97, 106, 290, 108, 628, 2418, 3169, 1996, 39, 197, 827, 663, 1858, 1113, 414, 876, 1410, 113, 1187, 422, 28, 1468, 256, 646, 4899, 131, 83, 911, 1005, 187, 4900, 134, 190, 1114, 548, 384, 76, 174, 46, 63, 2451, 629, 287, 1227, 4901, 2101, 234, 838, 810, 62, 175, 68, 47, 71, 370, 69, 256, 613, 168, 497, 123, 95, 1895, 167, 77, 523, 850, 1534, 1395, 76, 143, 17, 694, 3, 2450, 142, 40, 21, 6, 479, 171, 1584, 11, 327, 34, 1275, 3490, 81, 46, 1075, 1411, 2990, 2714, 1115, 84, 17, 59, 28, 422, 4, 120, 76, 2419, 69, 1043, 891, 973, 4902, 281, 4903, 46, 309, 811, 152, 77, 25, 20, 3168, 400, 377, 1004, 59, 32, 152, 974, 730, 34, 1020, 2237, 548, 558, 37, 390]\n",
            "[44, 7, 31, 611, 924, 440, 1398, 101, 382, 3808, 61, 1522, 101, 31, 183, 1270, 1779, 101, 967, 382, 3808, 61, 1522, 101, 31, 1883, 496, 1059, 2559, 1216, 61, 101, 266, 31, 2689, 493, 1333, 4041, 763, 491, 139, 3062, 967, 61, 1522, 101, 2960, 219, 3809, 5742, 84, 2960, 219, 1982, 26, 7, 3, 7, 3, 3810, 147, 6, 1825, 1101, 389, 1922, 2960, 219, 3809, 5743, 187, 1865, 2831, 3810, 147, 604, 5744, 1446, 344, 34, 2961, 54, 11, 58, 54, 879, 69, 10, 107, 123, 5745, 5746, 290, 114, 164, 355, 54, 1349, 5747, 58, 334, 601, 171, 34, 291, 345, 33, 84, 769, 5748, 219, 5749, 2298, 171, 34, 2216, 219, 241, 1784, 138, 254, 5750, 301, 869, 3811, 298, 2821, 813, 385, 811, 127, 963, 1193, 659, 34, 659, 34, 117, 164, 139, 61, 313, 502, 11, 33, 2932, 146, 5200, 866, 34, 117, 2208, 34, 5751, 68, 659, 154, 53, 42, 104, 3142, 688, 1754, 549, 813, 957, 688, 5752, 1871, 1626, 2205, 4058, 197, 688, 1754, 34, 3812, 688, 1754, 154]\n"
          ],
          "name": "stdout"
        }
      ]
    },
    {
      "cell_type": "code",
      "metadata": {
        "id": "10PldKNSprXW",
        "colab_type": "code",
        "colab": {
          "base_uri": "https://localhost:8080/",
          "height": 88
        },
        "outputId": "d52f982b-bfdc-43f8-92fa-037f80bd44ca"
      },
      "source": [
        "# Tokenize label data and print label dictionary\n",
        "label_tokenizer = Tokenizer(lower=True)\n",
        "label_tokenizer.fit_on_texts(labels)\n",
        "\n",
        "label_index = label_tokenizer.word_index\n",
        "print(dict(list(label_index.items())))\n",
        "\n",
        "# Print example label encodings from train and test datasets\n",
        "train_label_sequences = label_tokenizer.texts_to_sequences(train_labels)\n",
        "print(train_label_sequences[0])\n",
        "\n",
        "test_label_sequences = label_tokenizer.texts_to_sequences(test_labels)\n",
        "print(test_label_sequences[0])"
      ],
      "execution_count": 55,
      "outputs": [
        {
          "output_type": "stream",
          "text": [
            "{'javadeveloper': 1, 'devopsengineer': 2, 'pythondeveloper': 3, 'webdesigning': 4, 'hr': 5, 'hadoop': 6, 'operationsmanager': 7, 'datascience': 8, 'sales': 9, 'etldeveloper': 10, 'blockchain': 11, 'mechanicalengineer': 12, 'arts': 13, 'database': 14, 'pmo': 15, 'electricalengineering': 16, 'healthandfitness': 17, 'businessanalyst': 18, 'dotnetdeveloper': 19, 'automationtesting': 20, 'networksecurityengineer': 21, 'civilengineer': 22, 'sapdeveloper': 23, 'advocate': 24}\n",
            "[1]\n",
            "[17]\n"
          ],
          "name": "stdout"
        }
      ]
    },
    {
      "cell_type": "code",
      "metadata": {
        "id": "SvHlL7PXpzBX",
        "colab_type": "code",
        "colab": {
          "base_uri": "https://localhost:8080/",
          "height": 765
        },
        "outputId": "3bfcfa34-0027-41e6-8e9f-28579d074e33"
      },
      "source": [
        "# Pad sequences for feature data\n",
        "max_length = 300\n",
        "trunc_type = 'post'\n",
        "pad_type = 'post'\n",
        "\n",
        "train_feature_padded = pad_sequences(train_feature_sequences, maxlen=max_length, padding=pad_type, truncating=trunc_type)\n",
        "test_feature_padded = pad_sequences(test_feature_sequences, maxlen=max_length, padding=pad_type, truncating=trunc_type)\n",
        "\n",
        "# Print example padded sequences from train and test datasets\n",
        "print(train_feature_padded[0])\n",
        "print(test_feature_padded[0])"
      ],
      "execution_count": 61,
      "outputs": [
        {
          "output_type": "stream",
          "text": [
            "[  46   34   34   25   20  795   20   35   35  237  377 3168  400  163\n",
            "   90  102  108 2418  628 3169 1996  217   93  111   20  111  278  111\n",
            " 4892    7   31  132   92   70   86   67 3170   15 4893 4894  238   30\n",
            "   67  496 3170   15  924  101   61   25   23   25   23 2450  142   40\n",
            "   21   26    7    3    7    3 2450  142   40   21    6   29  890 1583\n",
            "  132  352  300   66   25   23    6 4895   11  126   17   50  363 3171\n",
            "  126   17 2988 4896 3113 1186 1135  124  837  113 2989  107 4897 1004\n",
            "  609  148   50  363 3489 3171  134 4898   97  106  290  108  628 2418\n",
            " 3169 1996   39  197  827  663 1858 1113  414  876 1410  113 1187  422\n",
            "   28 1468  256  646 4899  131   83  911 1005  187 4900  134  190 1114\n",
            "  548  384   76  174   46   63 2451  629  287 1227 4901 2101  234  838\n",
            "  810   62  175   68   47   71  370   69  256  613  168  497  123   95\n",
            " 1895  167   77  523  850 1534 1395   76  143   17  694    3 2450  142\n",
            "   40   21    6  479  171 1584   11  327   34 1275 3490   81   46 1075\n",
            " 1411 2990 2714 1115   84   17   59   28  422    4  120   76 2419   69\n",
            " 1043  891  973 4902  281 4903   46  309  811  152   77   25   20 3168\n",
            "  400  377 1004   59   32  152  974  730   34 1020 2237  548  558   37\n",
            "  390    0    0    0    0    0    0    0    0    0    0    0    0    0\n",
            "    0    0    0    0    0    0    0    0    0    0    0    0    0    0\n",
            "    0    0    0    0    0    0    0    0    0    0    0    0    0    0\n",
            "    0    0    0    0    0    0    0    0    0    0    0    0    0    0\n",
            "    0    0    0    0    0    0]\n",
            "[  44    7   31  611  924  440 1398  101  382 3808   61 1522  101   31\n",
            "  183 1270 1779  101  967  382 3808   61 1522  101   31 1883  496 1059\n",
            " 2559 1216   61  101  266   31 2689  493 1333 4041  763  491  139 3062\n",
            "  967   61 1522  101 2960  219 3809 5742   84 2960  219 1982   26    7\n",
            "    3    7    3 3810  147    6 1825 1101  389 1922 2960  219 3809 5743\n",
            "  187 1865 2831 3810  147  604 5744 1446  344   34 2961   54   11   58\n",
            "   54  879   69   10  107  123 5745 5746  290  114  164  355   54 1349\n",
            " 5747   58  334  601  171   34  291  345   33   84  769 5748  219 5749\n",
            " 2298  171   34 2216  219  241 1784  138  254 5750  301  869 3811  298\n",
            " 2821  813  385  811  127  963 1193  659   34  659   34  117  164  139\n",
            "   61  313  502   11   33 2932  146 5200  866   34  117 2208   34 5751\n",
            "   68  659  154   53   42  104 3142  688 1754  549  813  957  688 5752\n",
            " 1871 1626 2205 4058  197  688 1754   34 3812  688 1754  154    0    0\n",
            "    0    0    0    0    0    0    0    0    0    0    0    0    0    0\n",
            "    0    0    0    0    0    0    0    0    0    0    0    0    0    0\n",
            "    0    0    0    0    0    0    0    0    0    0    0    0    0    0\n",
            "    0    0    0    0    0    0    0    0    0    0    0    0    0    0\n",
            "    0    0    0    0    0    0    0    0    0    0    0    0    0    0\n",
            "    0    0    0    0    0    0    0    0    0    0    0    0    0    0\n",
            "    0    0    0    0    0    0    0    0    0    0    0    0    0    0\n",
            "    0    0    0    0    0    0    0    0    0    0    0    0    0    0\n",
            "    0    0    0    0    0    0]\n"
          ],
          "name": "stdout"
        }
      ]
    },
    {
      "cell_type": "code",
      "metadata": {
        "id": "89LGoDoqp39S",
        "colab_type": "code",
        "colab": {
          "base_uri": "https://localhost:8080/",
          "height": 289
        },
        "outputId": "24fa791a-9d2a-45b9-ec09-71ffc76f2726"
      },
      "source": [
        "# Define the neural network\n",
        "embedding_dim = 64\n",
        "\n",
        "model = tf.keras.Sequential([\n",
        "  # Add an Embedding layer expecting input vocab of size 6000, and output embedding dimension of size 64 we set at the top\n",
        "  tf.keras.layers.Embedding(vocab_size, embedding_dim, input_length=1),\n",
        "  tf.keras.layers.Bidirectional(tf.keras.layers.LSTM(embedding_dim)),\n",
        "  #tf.keras.layers.Dense(embedding_dim, activation='relu'),\n",
        "\n",
        "  # use ReLU in place of tanh function since they are very good alternatives of each other.\n",
        "  tf.keras.layers.Dense(embedding_dim, activation='relu'),\n",
        "\n",
        "  # Add a Dense layer with 25 units and softmax activation for probability distribution\n",
        "  tf.keras.layers.Dense(25, activation='softmax')\n",
        "])\n",
        "\n",
        "model.summary()"
      ],
      "execution_count": null,
      "outputs": [
        {
          "output_type": "stream",
          "text": [
            "Model: \"sequential\"\n",
            "_________________________________________________________________\n",
            "Layer (type)                 Output Shape              Param #   \n",
            "=================================================================\n",
            "embedding (Embedding)        (None, 1, 64)             384000    \n",
            "_________________________________________________________________\n",
            "bidirectional (Bidirectional (None, 128)               66048     \n",
            "_________________________________________________________________\n",
            "dense (Dense)                (None, 64)                8256      \n",
            "_________________________________________________________________\n",
            "dense_1 (Dense)              (None, 25)                1625      \n",
            "=================================================================\n",
            "Total params: 459,929\n",
            "Trainable params: 459,929\n",
            "Non-trainable params: 0\n",
            "_________________________________________________________________\n"
          ],
          "name": "stdout"
        }
      ]
    },
    {
      "cell_type": "code",
      "metadata": {
        "id": "N7lkMhVa2JCV",
        "colab_type": "code",
        "colab": {
          "base_uri": "https://localhost:8080/",
          "height": 289
        },
        "outputId": "4e5d75ef-f7df-4acf-fab1-918f62fa79ef"
      },
      "source": [
        "# Alternative model\n",
        "embedding_dim = 64\n",
        "\n",
        "model = tf.keras.Sequential([\n",
        "  # Add an Embedding layer expecting input vocab of size 6000, and output embedding dimension of size 64 we set at the top\n",
        "  tf.keras.layers.Embedding(input_dim=vocab_size, output_dim=embedding_dim, input_length=1),\n",
        "  #tf.keras.layers.Bidirectional(tf.keras.layers.LSTM(embedding_dim)),\n",
        "  #tf.keras.layers.Flatten(),\n",
        "  #tf.keras.layers.GlobalAveragePooling1D(),\n",
        "  tf.keras.layers.GlobalMaxPooling1D(),\n",
        "\n",
        "\n",
        "  # use ReLU in place of tanh function since they are very good alternatives of each other.\n",
        "  tf.keras.layers.Dense(128, activation='relu'),\n",
        "  # Add a Dense layer with 25 units and softmax activation for probability distribution\n",
        "  tf.keras.layers.Dense(25, activation='softmax'),\n",
        "  #tf.keras.layers.Dense(1, activation='sigmoid'),\n",
        "  #tf.keras.layers.Dense(1)\n",
        "\n",
        "])\n",
        "\n",
        "model.summary()"
      ],
      "execution_count": 62,
      "outputs": [
        {
          "output_type": "stream",
          "text": [
            "Model: \"sequential_4\"\n",
            "_________________________________________________________________\n",
            "Layer (type)                 Output Shape              Param #   \n",
            "=================================================================\n",
            "embedding_4 (Embedding)      (None, 1, 64)             384000    \n",
            "_________________________________________________________________\n",
            "global_max_pooling1d_3 (Glob (None, 64)                0         \n",
            "_________________________________________________________________\n",
            "dense_8 (Dense)              (None, 128)               8320      \n",
            "_________________________________________________________________\n",
            "dense_9 (Dense)              (None, 25)                3225      \n",
            "=================================================================\n",
            "Total params: 395,545\n",
            "Trainable params: 395,545\n",
            "Non-trainable params: 0\n",
            "_________________________________________________________________\n"
          ],
          "name": "stdout"
        }
      ]
    },
    {
      "cell_type": "code",
      "metadata": {
        "id": "BgCN2tjmp8a0",
        "colab_type": "code",
        "colab": {}
      },
      "source": [
        "# Compile the model and convert train/test data into NumPy arrays\n",
        "model.compile(loss='sparse_categorical_crossentropy', optimizer='adam', metrics=['accuracy'])\n",
        "\n",
        "# Features\n",
        "train_feature_padded = np.array(train_feature_padded)\n",
        "test_feature_padded = np.array(test_feature_padded)\n",
        "\n",
        "# Labels\n",
        "train_label_sequences = np.array(train_label_sequences)\n",
        "test_label_sequences = np.array(test_label_sequences)\n",
        "\n",
        "# Print example values\n",
        "#print(train_feature_padded[0])\n",
        "#print(train_label_sequences[0])\n",
        "#print(test_feature_padded[0])\n",
        "#print(test_label_sequences[0])"
      ],
      "execution_count": 63,
      "outputs": []
    },
    {
      "cell_type": "code",
      "metadata": {
        "id": "HjkpyftMp_gj",
        "colab_type": "code",
        "colab": {
          "base_uri": "https://localhost:8080/",
          "height": 496
        },
        "outputId": "c7f0aab6-d5db-4286-e4aa-0e805de3eaad"
      },
      "source": [
        "# Train the neural network\n",
        "num_epochs = 12\n",
        "\n",
        "history = model.fit(train_feature_padded, train_label_sequences, epochs=num_epochs, validation_data=(test_feature_padded, test_label_sequences), verbose=2)"
      ],
      "execution_count": 64,
      "outputs": [
        {
          "output_type": "stream",
          "text": [
            "Epoch 1/12\n",
            "WARNING:tensorflow:Model was constructed with shape (None, 1) for input Tensor(\"embedding_4_input:0\", shape=(None, 1), dtype=float32), but it was called on an input with incompatible shape (None, 300).\n",
            "WARNING:tensorflow:Model was constructed with shape (None, 1) for input Tensor(\"embedding_4_input:0\", shape=(None, 1), dtype=float32), but it was called on an input with incompatible shape (None, 300).\n",
            "WARNING:tensorflow:Model was constructed with shape (None, 1) for input Tensor(\"embedding_4_input:0\", shape=(None, 1), dtype=float32), but it was called on an input with incompatible shape (None, 300).\n",
            "23/23 - 0s - loss: 3.1965 - accuracy: 0.0870 - val_loss: 3.1737 - val_accuracy: 0.0615\n",
            "Epoch 2/12\n",
            "23/23 - 0s - loss: 3.1446 - accuracy: 0.1024 - val_loss: 3.1266 - val_accuracy: 0.0615\n",
            "Epoch 3/12\n",
            "23/23 - 0s - loss: 3.0768 - accuracy: 0.1024 - val_loss: 3.0638 - val_accuracy: 0.0615\n",
            "Epoch 4/12\n",
            "23/23 - 0s - loss: 2.9871 - accuracy: 0.1024 - val_loss: 2.9643 - val_accuracy: 0.0615\n",
            "Epoch 5/12\n",
            "23/23 - 0s - loss: 2.8497 - accuracy: 0.1024 - val_loss: 2.7972 - val_accuracy: 0.0615\n",
            "Epoch 6/12\n",
            "23/23 - 0s - loss: 2.6313 - accuracy: 0.2468 - val_loss: 2.5491 - val_accuracy: 0.3017\n",
            "Epoch 7/12\n",
            "23/23 - 0s - loss: 2.3215 - accuracy: 0.5161 - val_loss: 2.2009 - val_accuracy: 0.5810\n",
            "Epoch 8/12\n",
            "23/23 - 0s - loss: 1.9348 - accuracy: 0.7111 - val_loss: 1.7869 - val_accuracy: 0.7095\n",
            "Epoch 9/12\n",
            "23/23 - 0s - loss: 1.5075 - accuracy: 0.8303 - val_loss: 1.3565 - val_accuracy: 0.8603\n",
            "Epoch 10/12\n",
            "23/23 - 0s - loss: 1.0947 - accuracy: 0.9243 - val_loss: 0.9672 - val_accuracy: 0.9721\n",
            "Epoch 11/12\n",
            "23/23 - 0s - loss: 0.7585 - accuracy: 0.9888 - val_loss: 0.6879 - val_accuracy: 0.9888\n",
            "Epoch 12/12\n",
            "23/23 - 0s - loss: 0.5129 - accuracy: 0.9916 - val_loss: 0.4793 - val_accuracy: 0.9832\n"
          ],
          "name": "stdout"
        }
      ]
    },
    {
      "cell_type": "code",
      "metadata": {
        "id": "YfTvLMAKqpWV",
        "colab_type": "code",
        "colab": {
          "base_uri": "https://localhost:8080/",
          "height": 71
        },
        "outputId": "b4d3ad7d-13bb-4aa4-b088-ad476f38157d"
      },
      "source": [
        "# print example feature and its correct label\n",
        "print(test_features[5])\n",
        "print(test_labels[5])"
      ],
      "execution_count": 65,
      "outputs": [
        {
          "output_type": "stream",
          "text": [
            "skills bitcoin ethereum solidity hyperledger beginner go beginner r3 corda beginner tendermint nodejs c programming java machine learning specilaized brain computer interface computer networking server admin computer vision data analytics cloud computing reactjs angulareducation details january 2014 january 2018 bachelor engineering computer science engineering thakur college engineering technology september 2016 march 2017 dynamic blood bank system mumbai maharashtra iit january 2014 cbse senior secondary january 2011 cbse banking vidyashram public school blockchain developer blockchain developer zhypility technologies skill details networking exprience 27 months data analytics exprience 11 months computer vision exprience 6 months java exprience 6 months machine learning exprience 6 monthscompany details company zhypility technologies description une 2018 company area business owner amway enterprise limited description business strategizing promotion analytics networking terms company virtual description developing prototype smart india hackthon deployment level 3 networking switch intern bharti airtel private limited mumbai company 1 international research scholar university rome tor vergata rome description nov 2017 nov 2017 done research reality based brain computer interface proposed paper international journal advanced research ijar 20656 epted paper reviewer smart kisan revolutionizing country ijsrd epted publication company description reliance jio mumbai dec 2017 jan 2017 company maharastra state government hackthon description company virtual description handling group interns marketing sales team nearby promote social media platform nearby products company promotion stock marketing drums foods international description company 8 data science web analytics positron internet virtual description company description making people aware women equality rights raise voice violence various modes events sources media help society company iit bombay iit kgp startup description company iit bombay iit kgp startup description\n",
            "blockchain\n"
          ],
          "name": "stdout"
        }
      ]
    },
    {
      "cell_type": "code",
      "metadata": {
        "id": "DAqRBYLsqsS3",
        "colab_type": "code",
        "colab": {
          "base_uri": "https://localhost:8080/",
          "height": 391
        },
        "outputId": "83e126cd-f50d-4259-ea24-a449b6e005d0"
      },
      "source": [
        "# Create padded sequence for example\n",
        "resume_example = 'skills bitcoin ethereum solidity hyperledger beginner go beginner r3 corda beginner tendermint nodejs c programming java machine learning specilaized brain computer interface computer networking server admin computer vision data analytics cloud computing reactjs angulareducation details january 2014 january 2018 bachelor engineering computer science engineering thakur college engineering technology september 2016 march 2017 dynamic blood bank system mumbai maharashtra iit january 2014 cbse senior secondary january 2011 cbse banking vidyashram public school blockchain developer blockchain developer zhypility technologies skill details networking exprience 27 months data analytics exprience 11 months computer vision exprience 6 months java exprience 6 months machine learning exprience 6 monthscompany details company zhypility technologies description une 2018 company area business owner amway enterprise limited description business strategizing promotion analytics networking terms company virtual description developing prototype smart india hackthon deployment level 3 networking switch intern bharti airtel private limited mumbai company 1 international research scholar university rome tor vergata rome description nov 2017 nov 2017 done research reality based brain computer interface proposed paper international journal advanced research ijar 20656 epted paper reviewer smart kisan revolutionizing country ijsrd epted publication company description reliance jio mumbai dec 2017 jan 2017 company maharastra state government hackthon description company virtual description handling group interns marketing sales team nearby promote social media platform nearby products company promotion stock marketing drums foods international description company 8 data science web analytics positron internet virtual description company description making people aware women equality rights raise voice violence various modes events sources media help society company iit bombay iit kgp startup description company iit bombay iit kgp startup description'\n",
        "example_sequence = feature_tokenizer.texts_to_sequences([resume_example])\n",
        "example_padded = pad_sequences(example_sequence, maxlen=max_length, padding=pad_type, truncating=trunc_type)\n",
        "example_padded = np.array(example_padded)\n",
        "print(example_padded)"
      ],
      "execution_count": 66,
      "outputs": [
        {
          "output_type": "stream",
          "text": [
            "[[  34 1373  486 1374 2037 2097  780 2097 2047 4768 2097 4769 2911   35\n",
            "   214   25  165  159 4770 2187   86  510   86  512   45  528   86 1214\n",
            "     8  272  262 1640 4771 4772    7   31  220   31  258  247   30   86\n",
            "   101   30 3103   61   30   67 1211  137  958  132 1175 4773  180   14\n",
            "    78   15 1131   31  220 2028  227  453   31  433 2028  329 4774  688\n",
            "   139  259   23  259   23 2912   52   26    7  512    2  969    5    8\n",
            "   272    2  700    5   86 1214    2   13    5   25    2   13    5  165\n",
            "   159    2   13   56    7    3 2912   52    6 4775  258    3  506   18\n",
            "  3366 4776  415  206    6   18 2756 1573  272  512 1055    3 1292    6\n",
            "   113 1419  534   48 2913  255  155   80  512 1875 3217 4777 2973  376\n",
            "   206   78    3    9  203  401 4778   53 2914 4779 4780 2914    6  785\n",
            "   132  785  132  431  401 3990   71 2187   86  510 2046  812  203 4781\n",
            "  1150  401 4782 4783 1947  812 4784  534 2320 4785 2388 4786 1947 2178\n",
            "     3    6 1674 2870   78 1400  132  683  132    3 4787  215  722 2913\n",
            "     6    3 1292    6   96  313 4788  239   38   11 2915 2412 1123  575\n",
            "   173 2915  199    3 1573  482  239 4789 2115  203    6    3  275    8\n",
            "   101   59  272 4790  952 1292    6    3    6  634  385 3445 2786 4791\n",
            "  1291 3480 3092 4792   50 1344  489  703  575  442 2150    3 1131 1188\n",
            "  1131 2916 1246    6    3 1131 1188 1131 2916 1246    6    0    0    0\n",
            "     0    0    0    0    0    0    0    0    0    0    0    0    0    0\n",
            "     0    0    0    0    0    0    0    0    0    0    0    0    0    0\n",
            "     0    0    0    0    0    0]]\n"
          ],
          "name": "stdout"
        }
      ]
    },
    {
      "cell_type": "code",
      "metadata": {
        "id": "hIKf8crUq8wx",
        "colab_type": "code",
        "colab": {
          "base_uri": "https://localhost:8080/",
          "height": 54
        },
        "outputId": "6716a2a2-f21f-48ea-ab0a-88258e90610c"
      },
      "source": [
        "# Make a prediction\n",
        "prediction = model.predict(example_padded)"
      ],
      "execution_count": 67,
      "outputs": [
        {
          "output_type": "stream",
          "text": [
            "WARNING:tensorflow:Model was constructed with shape (None, 1) for input Tensor(\"embedding_4_input:0\", shape=(None, 1), dtype=float32), but it was called on an input with incompatible shape (None, 300).\n"
          ],
          "name": "stdout"
        }
      ]
    },
    {
      "cell_type": "code",
      "metadata": {
        "id": "OWYVziHMrCav",
        "colab_type": "code",
        "colab": {
          "base_uri": "https://localhost:8080/",
          "height": 136
        },
        "outputId": "2db6b430-28c9-4af9-f70e-03110eb4d85b"
      },
      "source": [
        "# Verify that prediction has correct format\n",
        "print(prediction[0])\n",
        "print(len(prediction[0]))  # should be 25\n",
        "print(np.sum(prediction[0]))  # should be 1"
      ],
      "execution_count": 68,
      "outputs": [
        {
          "output_type": "stream",
          "text": [
            "[7.4379e-06 5.4234e-02 1.0858e-03 8.1405e-02 5.4163e-03 1.6701e-03\n",
            " 9.0794e-03 9.3185e-04 3.9291e-03 1.5135e-03 6.4570e-04 8.0023e-01\n",
            " 6.6552e-04 3.3623e-03 2.1007e-03 1.6673e-04 5.7735e-04 1.0360e-03\n",
            " 3.1638e-03 1.8219e-02 8.8412e-04 3.0259e-03 3.4204e-03 3.0085e-03\n",
            " 2.1680e-04]\n",
            "25\n",
            "1.0000001\n"
          ],
          "name": "stdout"
        }
      ]
    },
    {
      "cell_type": "code",
      "metadata": {
        "id": "7yf4KnNjrGcV",
        "colab_type": "code",
        "colab": {
          "base_uri": "https://localhost:8080/",
          "height": 51
        },
        "outputId": "d6b9d6c1-22a9-491f-d4a0-ef71c1308f6a"
      },
      "source": [
        "# Find maximum value in prediction and its index\n",
        "print(max(prediction[0]))  # confidence in prediction (as a fraction of 1)\n",
        "print(np.argmax(prediction[0])) # should be 11 which corresponds to blockchain"
      ],
      "execution_count": 70,
      "outputs": [
        {
          "output_type": "stream",
          "text": [
            "0.8002343\n",
            "11\n"
          ],
          "name": "stdout"
        }
      ]
    },
    {
      "cell_type": "code",
      "metadata": {
        "id": "Y-DNi39XxqCN",
        "colab_type": "code",
        "colab": {
          "base_uri": "https://localhost:8080/",
          "height": 34
        },
        "outputId": "8943e6fd-2b9d-454a-c844-d78cf5f7370c"
      },
      "source": [
        "# Indices of top 5 most probable solutions\n",
        "indices = np.argpartition(prediction[0], -5)[-5:]\n",
        "indices = indices[np.argsort(prediction[0][indices])]\n",
        "indices = list(reversed(indices))\n",
        "print(indices)"
      ],
      "execution_count": 71,
      "outputs": [
        {
          "output_type": "stream",
          "text": [
            "[11, 3, 1, 19, 6]\n"
          ],
          "name": "stdout"
        }
      ]
    },
    {
      "cell_type": "code",
      "metadata": {
        "id": "pRxAe_QkrW_2",
        "colab_type": "code",
        "colab": {
          "base_uri": "https://localhost:8080/",
          "height": 34
        },
        "outputId": "4c87cc23-bec2-4e6c-cb90-02a9faf9d109"
      },
      "source": [
        "# Save model\n",
        "model.save('model')"
      ],
      "execution_count": 76,
      "outputs": [
        {
          "output_type": "stream",
          "text": [
            "INFO:tensorflow:Assets written to: model/assets\n"
          ],
          "name": "stdout"
        }
      ]
    },
    {
      "cell_type": "code",
      "metadata": {
        "id": "Xo584Smdr4ps",
        "colab_type": "code",
        "colab": {}
      },
      "source": [
        "# Save feature tokenizer\n",
        "with open('feature_tokenizer.pickle', 'wb') as handle:\n",
        "    pickle.dump(feature_tokenizer, handle, protocol=pickle.HIGHEST_PROTOCOL)"
      ],
      "execution_count": 77,
      "outputs": []
    },
    {
      "cell_type": "code",
      "metadata": {
        "id": "Ul39OZ10sJCC",
        "colab_type": "code",
        "colab": {
          "base_uri": "https://localhost:8080/",
          "height": 71
        },
        "outputId": "7d559e88-a74e-460a-9b48-b6a2291cf54a"
      },
      "source": [
        "# Save reverse dictionary of labels to encodings\n",
        "label_to_encoding = dict(list(label_index.items()))\n",
        "print(label_to_encoding)\n",
        "\n",
        "encoding_to_label = {}\n",
        "for k, v in label_to_encoding.items():\n",
        "  encoding_to_label[v] = k\n",
        "print(encoding_to_label)\n",
        "\n",
        "with open('dictionary.pickle', 'wb') as handle:\n",
        "    pickle.dump(encoding_to_label, handle, protocol=pickle.HIGHEST_PROTOCOL)"
      ],
      "execution_count": 78,
      "outputs": [
        {
          "output_type": "stream",
          "text": [
            "{'javadeveloper': 1, 'devopsengineer': 2, 'pythondeveloper': 3, 'webdesigning': 4, 'hr': 5, 'hadoop': 6, 'operationsmanager': 7, 'datascience': 8, 'sales': 9, 'etldeveloper': 10, 'blockchain': 11, 'mechanicalengineer': 12, 'arts': 13, 'database': 14, 'pmo': 15, 'electricalengineering': 16, 'healthandfitness': 17, 'businessanalyst': 18, 'dotnetdeveloper': 19, 'automationtesting': 20, 'networksecurityengineer': 21, 'civilengineer': 22, 'sapdeveloper': 23, 'advocate': 24}\n",
            "{1: 'javadeveloper', 2: 'devopsengineer', 3: 'pythondeveloper', 4: 'webdesigning', 5: 'hr', 6: 'hadoop', 7: 'operationsmanager', 8: 'datascience', 9: 'sales', 10: 'etldeveloper', 11: 'blockchain', 12: 'mechanicalengineer', 13: 'arts', 14: 'database', 15: 'pmo', 16: 'electricalengineering', 17: 'healthandfitness', 18: 'businessanalyst', 19: 'dotnetdeveloper', 20: 'automationtesting', 21: 'networksecurityengineer', 22: 'civilengineer', 23: 'sapdeveloper', 24: 'advocate'}\n"
          ],
          "name": "stdout"
        }
      ]
    },
    {
      "cell_type": "code",
      "metadata": {
        "id": "7rFzn7JcuOVz",
        "colab_type": "code",
        "colab": {
          "base_uri": "https://localhost:8080/",
          "height": 34
        },
        "outputId": "8a260e0d-7e34-46c6-8bbb-26f4becf98e4"
      },
      "source": [
        "print(encoding_to_label[np.argmax(prediction[0])])"
      ],
      "execution_count": 79,
      "outputs": [
        {
          "output_type": "stream",
          "text": [
            "blockchain\n"
          ],
          "name": "stdout"
        }
      ]
    }
  ]
}